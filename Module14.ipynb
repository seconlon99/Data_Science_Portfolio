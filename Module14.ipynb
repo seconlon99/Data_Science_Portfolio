{
 "cells": [
  {
   "cell_type": "markdown",
   "metadata": {
    "deletable": false,
    "editable": false,
    "nbgrader": {
     "checksum": "c74ce3459aa6275bbd351c7b2c533da4",
     "grade": false,
     "grade_id": "cell-75ad01fe37809440",
     "locked": true,
     "schema_version": 1,
     "solution": false
    }
   },
   "source": [
    "# CART Regression"
   ]
  },
  {
   "cell_type": "code",
   "execution_count": 2,
   "metadata": {
    "deletable": false,
    "editable": false,
    "nbgrader": {
     "checksum": "51ff3664ad005ff3fe02e91817f7bb73",
     "grade": false,
     "grade_id": "cell-4175bce6887d9dbc",
     "locked": true,
     "schema_version": 1,
     "solution": false
    }
   },
   "outputs": [],
   "source": [
    "import numpy as np\n",
    "import pandas as pd\n",
    "import matplotlib.pyplot as plt\n",
    "from sklearn.model_selection import train_test_split\n",
    "from statsmodels.formula.api import ols\n",
    "from sklearn.tree import DecisionTreeRegressor\n",
    "from sklearn.tree import DecisionTreeClassifier, plot_tree"
   ]
  },
  {
   "cell_type": "markdown",
   "metadata": {
    "deletable": false,
    "editable": false,
    "nbgrader": {
     "checksum": "77144bdf06617428664116b53e9dfc31",
     "grade": false,
     "grade_id": "cell-afaaefbdfd8fe4a7",
     "locked": true,
     "schema_version": 1,
     "solution": false
    }
   },
   "source": [
    "##### Import the data"
   ]
  },
  {
   "cell_type": "code",
   "execution_count": 3,
   "metadata": {
    "deletable": false,
    "nbgrader": {
     "checksum": "1082f9a8939ee43a18558f818e2b03d9",
     "grade": false,
     "grade_id": "cell-0661bc941f2e9956",
     "locked": false,
     "schema_version": 1,
     "solution": true
    }
   },
   "outputs": [],
   "source": [
    "# Read in the Amusment Park Attendance csv. Call the object \"df\"\n",
    "\n",
    "# YOUR CODE HERE\n",
    "df = pd.read_csv('Amusment_Park_Attendance.csv')\n"
   ]
  },
  {
   "cell_type": "code",
   "execution_count": null,
   "metadata": {
    "deletable": false,
    "editable": false,
    "nbgrader": {
     "checksum": "14d1d19660914ada45a74f6112e40ab7",
     "grade": true,
     "grade_id": "cell-62678f5e758d5e86",
     "locked": true,
     "points": 1,
     "schema_version": 1,
     "solution": false
    }
   },
   "outputs": [],
   "source": []
  },
  {
   "cell_type": "code",
   "execution_count": 4,
   "metadata": {
    "deletable": false,
    "editable": false,
    "nbgrader": {
     "checksum": "fdbf2572314bf8fb6a20ba2638d6c66f",
     "grade": false,
     "grade_id": "cell-98a85a3ed78d4687",
     "locked": true,
     "schema_version": 1,
     "solution": false
    }
   },
   "outputs": [
    {
     "name": "stdout",
     "output_type": "stream",
     "text": [
      "<class 'pandas.core.frame.DataFrame'>\n",
      "RangeIndex: 8603 entries, 0 to 8602\n",
      "Data columns (total 11 columns):\n",
      " #   Column         Non-Null Count  Dtype  \n",
      "---  ------         --------------  -----  \n",
      " 0   attendees      8603 non-null   int64  \n",
      " 1   month          8603 non-null   int64  \n",
      " 2   day            8603 non-null   int64  \n",
      " 3   hour           8603 non-null   int64  \n",
      " 4   day_of_week    8603 non-null   object \n",
      " 5   holiday        8603 non-null   int64  \n",
      " 6   temp           8603 non-null   float64\n",
      " 7   temp_wb        8603 non-null   int64  \n",
      " 8   rel_humidity   8603 non-null   int64  \n",
      " 9   windspeed      8603 non-null   int64  \n",
      " 10  precipitation  8603 non-null   float64\n",
      "dtypes: float64(2), int64(8), object(1)\n",
      "memory usage: 739.4+ KB\n"
     ]
    }
   ],
   "source": [
    "\n",
    "df.info()"
   ]
  },
  {
   "cell_type": "markdown",
   "metadata": {
    "deletable": false,
    "editable": false,
    "nbgrader": {
     "checksum": "7dc05d8fda59ef4e269bfcd46d20398f",
     "grade": false,
     "grade_id": "cell-d1e24627d881422f",
     "locked": true,
     "schema_version": 1,
     "solution": false
    }
   },
   "source": [
    "###### First, tell Pandas which variables should be treated as categorical."
   ]
  },
  {
   "cell_type": "code",
   "execution_count": 5,
   "metadata": {
    "deletable": false,
    "nbgrader": {
     "checksum": "d935490c58a5ad952dc156d193fcbfbd",
     "grade": false,
     "grade_id": "cell-302153302c859554",
     "locked": false,
     "schema_version": 1,
     "solution": true
    }
   },
   "outputs": [],
   "source": [
    "\n",
    "# YOUR CODE HERE\n",
    "categoricals = ['month', 'day', 'hour', 'day_of_week', 'holiday']\n",
    "df[categoricals] = df[categoricals].astype('category')"
   ]
  },
  {
   "cell_type": "code",
   "execution_count": null,
   "metadata": {
    "deletable": false,
    "editable": false,
    "nbgrader": {
     "checksum": "224120ce5e226d149a8050ea571d2294",
     "grade": true,
     "grade_id": "cell-8bc6652360041e3d",
     "locked": true,
     "points": 1,
     "schema_version": 1,
     "solution": false
    }
   },
   "outputs": [],
   "source": []
  },
  {
   "cell_type": "code",
   "execution_count": 6,
   "metadata": {
    "deletable": false,
    "editable": false,
    "nbgrader": {
     "checksum": "c304b105789eac05a95c34c9bb36028c",
     "grade": false,
     "grade_id": "cell-07f18000bc39fac2",
     "locked": true,
     "schema_version": 1,
     "solution": false
    }
   },
   "outputs": [
    {
     "name": "stdout",
     "output_type": "stream",
     "text": [
      "<class 'pandas.core.frame.DataFrame'>\n",
      "RangeIndex: 8603 entries, 0 to 8602\n",
      "Data columns (total 11 columns):\n",
      " #   Column         Non-Null Count  Dtype   \n",
      "---  ------         --------------  -----   \n",
      " 0   attendees      8603 non-null   int64   \n",
      " 1   month          8603 non-null   category\n",
      " 2   day            8603 non-null   category\n",
      " 3   hour           8603 non-null   category\n",
      " 4   day_of_week    8603 non-null   category\n",
      " 5   holiday        8603 non-null   category\n",
      " 6   temp           8603 non-null   float64 \n",
      " 7   temp_wb        8603 non-null   int64   \n",
      " 8   rel_humidity   8603 non-null   int64   \n",
      " 9   windspeed      8603 non-null   int64   \n",
      " 10  precipitation  8603 non-null   float64 \n",
      "dtypes: category(5), float64(2), int64(4)\n",
      "memory usage: 448.6 KB\n"
     ]
    }
   ],
   "source": [
    "df.info()"
   ]
  },
  {
   "cell_type": "code",
   "execution_count": 7,
   "metadata": {
    "deletable": false,
    "editable": false,
    "nbgrader": {
     "checksum": "ce2f585b8f1fe9ba5a03827867b8599c",
     "grade": false,
     "grade_id": "cell-359e4a8e12ebb50a",
     "locked": true,
     "schema_version": 1,
     "solution": false
    }
   },
   "outputs": [
    {
     "data": {
      "text/html": [
       "<div>\n",
       "<style scoped>\n",
       "    .dataframe tbody tr th:only-of-type {\n",
       "        vertical-align: middle;\n",
       "    }\n",
       "\n",
       "    .dataframe tbody tr th {\n",
       "        vertical-align: top;\n",
       "    }\n",
       "\n",
       "    .dataframe thead th {\n",
       "        text-align: right;\n",
       "    }\n",
       "</style>\n",
       "<table border=\"1\" class=\"dataframe\">\n",
       "  <thead>\n",
       "    <tr style=\"text-align: right;\">\n",
       "      <th></th>\n",
       "      <th>attendees</th>\n",
       "      <th>month</th>\n",
       "      <th>day</th>\n",
       "      <th>hour</th>\n",
       "      <th>day_of_week</th>\n",
       "      <th>holiday</th>\n",
       "      <th>temp</th>\n",
       "      <th>temp_wb</th>\n",
       "      <th>rel_humidity</th>\n",
       "      <th>windspeed</th>\n",
       "      <th>precipitation</th>\n",
       "    </tr>\n",
       "  </thead>\n",
       "  <tbody>\n",
       "    <tr>\n",
       "      <th>0</th>\n",
       "      <td>440</td>\n",
       "      <td>1</td>\n",
       "      <td>1</td>\n",
       "      <td>0</td>\n",
       "      <td>Mon</td>\n",
       "      <td>0</td>\n",
       "      <td>6.6</td>\n",
       "      <td>0</td>\n",
       "      <td>59</td>\n",
       "      <td>16</td>\n",
       "      <td>1.0</td>\n",
       "    </tr>\n",
       "    <tr>\n",
       "      <th>1</th>\n",
       "      <td>660</td>\n",
       "      <td>1</td>\n",
       "      <td>1</td>\n",
       "      <td>1</td>\n",
       "      <td>Mon</td>\n",
       "      <td>0</td>\n",
       "      <td>4.8</td>\n",
       "      <td>0</td>\n",
       "      <td>59</td>\n",
       "      <td>11</td>\n",
       "      <td>1.0</td>\n",
       "    </tr>\n",
       "    <tr>\n",
       "      <th>2</th>\n",
       "      <td>660</td>\n",
       "      <td>1</td>\n",
       "      <td>1</td>\n",
       "      <td>2</td>\n",
       "      <td>Mon</td>\n",
       "      <td>0</td>\n",
       "      <td>4.8</td>\n",
       "      <td>-1</td>\n",
       "      <td>54</td>\n",
       "      <td>21</td>\n",
       "      <td>1.0</td>\n",
       "    </tr>\n",
       "    <tr>\n",
       "      <th>3</th>\n",
       "      <td>110</td>\n",
       "      <td>1</td>\n",
       "      <td>1</td>\n",
       "      <td>5</td>\n",
       "      <td>Mon</td>\n",
       "      <td>0</td>\n",
       "      <td>3.0</td>\n",
       "      <td>-2</td>\n",
       "      <td>54</td>\n",
       "      <td>18</td>\n",
       "      <td>1.0</td>\n",
       "    </tr>\n",
       "    <tr>\n",
       "      <th>4</th>\n",
       "      <td>330</td>\n",
       "      <td>1</td>\n",
       "      <td>1</td>\n",
       "      <td>6</td>\n",
       "      <td>Mon</td>\n",
       "      <td>0</td>\n",
       "      <td>3.0</td>\n",
       "      <td>-2</td>\n",
       "      <td>54</td>\n",
       "      <td>15</td>\n",
       "      <td>1.0</td>\n",
       "    </tr>\n",
       "    <tr>\n",
       "      <th>5</th>\n",
       "      <td>330</td>\n",
       "      <td>1</td>\n",
       "      <td>1</td>\n",
       "      <td>7</td>\n",
       "      <td>Mon</td>\n",
       "      <td>0</td>\n",
       "      <td>3.0</td>\n",
       "      <td>-2</td>\n",
       "      <td>54</td>\n",
       "      <td>11</td>\n",
       "      <td>1.0</td>\n",
       "    </tr>\n",
       "  </tbody>\n",
       "</table>\n",
       "</div>"
      ],
      "text/plain": [
       "   attendees month day hour day_of_week holiday  temp  temp_wb  rel_humidity  \\\n",
       "0        440     1   1    0         Mon       0   6.6        0            59   \n",
       "1        660     1   1    1         Mon       0   4.8        0            59   \n",
       "2        660     1   1    2         Mon       0   4.8       -1            54   \n",
       "3        110     1   1    5         Mon       0   3.0       -2            54   \n",
       "4        330     1   1    6         Mon       0   3.0       -2            54   \n",
       "5        330     1   1    7         Mon       0   3.0       -2            54   \n",
       "\n",
       "   windspeed  precipitation  \n",
       "0         16            1.0  \n",
       "1         11            1.0  \n",
       "2         21            1.0  \n",
       "3         18            1.0  \n",
       "4         15            1.0  \n",
       "5         11            1.0  "
      ]
     },
     "execution_count": 7,
     "metadata": {},
     "output_type": "execute_result"
    }
   ],
   "source": [
    "df.head(6)"
   ]
  },
  {
   "cell_type": "markdown",
   "metadata": {
    "deletable": false,
    "editable": false,
    "nbgrader": {
     "checksum": "4eeb7f3b344b690e976e8a5e25660bc4",
     "grade": false,
     "grade_id": "cell-42b4e781d24b5b81",
     "locked": true,
     "schema_version": 1,
     "solution": false
    }
   },
   "source": [
    "# Training and Testing Datasets"
   ]
  },
  {
   "cell_type": "markdown",
   "metadata": {
    "deletable": false,
    "editable": false,
    "nbgrader": {
     "checksum": "95a8172c90c48e5c2e2358e882b969d9",
     "grade": false,
     "grade_id": "cell-91cb4e87855ca443",
     "locked": true,
     "schema_version": 1,
     "solution": false
    }
   },
   "source": [
    "###### Split the data 70/30 into a training and a test set."
   ]
  },
  {
   "cell_type": "code",
   "execution_count": 8,
   "metadata": {
    "deletable": false,
    "nbgrader": {
     "checksum": "1131f7259cef5278616fddcfdde6a608",
     "grade": false,
     "grade_id": "cell-0d6cfbf30e8882f4",
     "locked": false,
     "schema_version": 1,
     "solution": true
    }
   },
   "outputs": [],
   "source": [
    "# YOUR CODE HERE\n",
    "df_train, df_test = train_test_split(df, test_size=0.3, shuffle=True, random_state=42)"
   ]
  },
  {
   "cell_type": "code",
   "execution_count": null,
   "metadata": {
    "deletable": false,
    "editable": false,
    "nbgrader": {
     "checksum": "80c3338c95f85819274f51658c41737c",
     "grade": true,
     "grade_id": "cell-46d1e3e556c6020b",
     "locked": true,
     "points": 1,
     "schema_version": 1,
     "solution": false
    }
   },
   "outputs": [],
   "source": []
  },
  {
   "cell_type": "markdown",
   "metadata": {
    "deletable": false,
    "editable": false,
    "nbgrader": {
     "checksum": "9810a0f465f099e967bb8c79ca5e4546",
     "grade": false,
     "grade_id": "cell-bf85c07f33c9d334",
     "locked": true,
     "schema_version": 1,
     "solution": false
    }
   },
   "source": [
    "###### Create 4 data sets out o the train and tests sets. You will have \"X\", \"y\", \"X_test\", and \"y_test\" sets. The y sets will consist of the attendees column from the respected X data set. "
   ]
  },
  {
   "cell_type": "code",
   "execution_count": 9,
   "metadata": {
    "deletable": false,
    "nbgrader": {
     "checksum": "6179478de23daa3c5556be2c1b80a509",
     "grade": false,
     "grade_id": "cell-6400a61ffd6c0283",
     "locked": false,
     "schema_version": 1,
     "solution": true
    }
   },
   "outputs": [],
   "source": [
    "# YOUR CODE HERE\n",
    "X = df_train.copy()\n",
    "y = X.pop('attendees')\n",
    "X_test = df_test.copy()\n",
    "y_test = X_test.pop('attendees')"
   ]
  },
  {
   "cell_type": "code",
   "execution_count": null,
   "metadata": {
    "deletable": false,
    "editable": false,
    "nbgrader": {
     "checksum": "49c410ebc119473f516d0ea1fd65865e",
     "grade": true,
     "grade_id": "cell-4cde9285f4ee18f5",
     "locked": true,
     "points": 1,
     "schema_version": 1,
     "solution": false
    }
   },
   "outputs": [],
   "source": []
  },
  {
   "cell_type": "markdown",
   "metadata": {
    "deletable": false,
    "editable": false,
    "nbgrader": {
     "checksum": "85bb6e2e314c35b71d72da3811d8a0b5",
     "grade": false,
     "grade_id": "cell-3ae20c4a6e7de15f",
     "locked": true,
     "schema_version": 1,
     "solution": false
    }
   },
   "source": [
    "###### Create the Linear Regression formula. "
   ]
  },
  {
   "cell_type": "code",
   "execution_count": 10,
   "metadata": {
    "deletable": false,
    "nbgrader": {
     "checksum": "e58c19e250c4540e009bbfcb4d0d4d7a",
     "grade": false,
     "grade_id": "cell-67c8569553e27605",
     "locked": false,
     "schema_version": 1,
     "solution": true
    }
   },
   "outputs": [],
   "source": [
    "# Assign the result to \"my_formula\"\n",
    "\n",
    "# YOUR CODE HERE\n",
    "my_formula = 'attendees ~ ' + '+'.join(df.columns[1:])"
   ]
  },
  {
   "cell_type": "code",
   "execution_count": null,
   "metadata": {
    "deletable": false,
    "editable": false,
    "nbgrader": {
     "checksum": "02def212f2732a851295a24a5a9cb1bc",
     "grade": true,
     "grade_id": "cell-f9eb71305ffacb95",
     "locked": true,
     "points": 1,
     "schema_version": 1,
     "solution": false
    }
   },
   "outputs": [],
   "source": []
  },
  {
   "cell_type": "markdown",
   "metadata": {
    "deletable": false,
    "editable": false,
    "nbgrader": {
     "checksum": "2c86de0a043afcc74ad7489df5b7d3b5",
     "grade": false,
     "grade_id": "cell-74b77996bc4eb224",
     "locked": true,
     "schema_version": 1,
     "solution": false
    }
   },
   "source": [
    "###### Generate teh OLS Regression modle and call it \"est\""
   ]
  },
  {
   "cell_type": "code",
   "execution_count": 11,
   "metadata": {
    "deletable": false,
    "nbgrader": {
     "checksum": "88151011498ffb7344eea7a1bed3224e",
     "grade": false,
     "grade_id": "cell-9e29fc83b17c5453",
     "locked": false,
     "schema_version": 1,
     "solution": true
    }
   },
   "outputs": [
    {
     "name": "stdout",
     "output_type": "stream",
     "text": [
      "                            OLS Regression Results                            \n",
      "==============================================================================\n",
      "Dep. Variable:              attendees   R-squared:                       0.695\n",
      "Model:                            OLS   Adj. R-squared:                  0.691\n",
      "Method:                 Least Squares   F-statistic:                     180.7\n",
      "Date:                Sat, 09 Dec 2023   Prob (F-statistic):               0.00\n",
      "Time:                        20:32:30   Log-Likelihood:                -66004.\n",
      "No. Observations:                6022   AIC:                         1.322e+05\n",
      "Df Residuals:                    5946   BIC:                         1.327e+05\n",
      "Df Model:                          75                                         \n",
      "Covariance Type:            nonrobust                                         \n",
      "======================================================================================\n",
      "                         coef    std err          t      P>|t|      [0.025      0.975]\n",
      "--------------------------------------------------------------------------------------\n",
      "Intercept          -3.575e+04   3059.416    -11.684      0.000   -4.17e+04   -2.98e+04\n",
      "month[T.2]          3110.3229    952.018      3.267      0.001    1244.022    4976.624\n",
      "month[T.3]          2074.2791    945.327      2.194      0.028     221.096    3927.463\n",
      "month[T.4]          5207.7716    967.047      5.385      0.000    3312.008    7103.535\n",
      "month[T.5]          1.099e+04   1151.300      9.542      0.000    8728.743    1.32e+04\n",
      "month[T.6]          1.437e+04   1240.137     11.584      0.000    1.19e+04    1.68e+04\n",
      "month[T.7]          1.535e+04   1401.392     10.955      0.000    1.26e+04    1.81e+04\n",
      "month[T.8]          1.514e+04   1419.848     10.662      0.000    1.24e+04    1.79e+04\n",
      "month[T.9]          2.079e+04   1292.558     16.086      0.000    1.83e+04    2.33e+04\n",
      "month[T.10]         1.798e+04   1071.415     16.781      0.000    1.59e+04    2.01e+04\n",
      "month[T.11]         9988.9448    969.195     10.306      0.000    8088.971    1.19e+04\n",
      "month[T.12]         4380.7284    928.038      4.720      0.000    2561.436    6200.021\n",
      "day[T.2]           -2420.3577   1405.876     -1.722      0.085   -5176.385     335.669\n",
      "day[T.3]           -1135.7559   1403.445     -0.809      0.418   -3887.018    1615.506\n",
      "day[T.4]           -2141.3127   1431.131     -1.496      0.135   -4946.849     664.224\n",
      "day[T.5]               7.6914   1418.553      0.005      0.996   -2773.188    2788.571\n",
      "day[T.6]            -616.8669   1406.115     -0.439      0.661   -3373.364    2139.630\n",
      "day[T.7]            2061.1264   1416.950      1.455      0.146    -716.610    4838.863\n",
      "day[T.8]             152.4361   1385.647      0.110      0.912   -2563.935    2868.807\n",
      "day[T.9]            -303.7730   1404.727     -0.216      0.829   -3057.548    2450.002\n",
      "day[T.10]            498.1928   1390.235      0.358      0.720   -2227.172    3223.558\n",
      "day[T.11]            139.1472   1400.706      0.099      0.921   -2606.745    2885.040\n",
      "day[T.12]             97.0152   1399.101      0.069      0.945   -2645.730    2839.760\n",
      "day[T.13]            539.2754   1448.851      0.372      0.710   -2300.999    3379.550\n",
      "day[T.14]           3291.6297   1414.998      2.326      0.020     517.721    6065.539\n",
      "day[T.15]            741.6481   1392.079      0.533      0.594   -1987.332    3470.628\n",
      "day[T.16]            560.6142   1436.674      0.390      0.696   -2255.789    3377.017\n",
      "day[T.17]            423.9306   1409.608      0.301      0.764   -2339.413    3187.274\n",
      "day[T.18]           -776.0686   1403.540     -0.553      0.580   -3527.516    1975.379\n",
      "day[T.19]           -817.2770   1407.753     -0.581      0.562   -3576.984    1942.430\n",
      "day[T.20]           1944.6002   1389.347      1.400      0.162    -779.025    4668.225\n",
      "day[T.21]            843.7644   1411.828      0.598      0.550   -1923.931    3611.460\n",
      "day[T.22]          -2515.2232   1413.080     -1.780      0.075   -5285.373     254.926\n",
      "day[T.23]          -1300.5669   1407.868     -0.924      0.356   -4060.500    1459.366\n",
      "day[T.24]           -614.1765   1393.093     -0.441      0.659   -3345.145    2116.792\n",
      "day[T.25]          -1687.6345   1396.148     -1.209      0.227   -4424.591    1049.322\n",
      "day[T.26]           -781.2472   1391.102     -0.562      0.574   -3508.312    1945.818\n",
      "day[T.27]          -1499.5584   1409.527     -1.064      0.287   -4262.743    1263.626\n",
      "day[T.28]          -1928.9510   1409.412     -1.369      0.171   -4691.911     834.009\n",
      "day[T.29]           -666.0194   1433.632     -0.465      0.642   -3476.458    2144.420\n",
      "day[T.30]           -447.0490   1431.289     -0.312      0.755   -3252.894    2358.796\n",
      "day[T.31]           1941.1185   1649.695      1.177      0.239   -1292.883    5175.120\n",
      "hour[T.1]          -1593.0540   1251.303     -1.273      0.203   -4046.062     859.954\n",
      "hour[T.2]          -3136.9880   1269.210     -2.472      0.013   -5625.101    -648.875\n",
      "hour[T.3]          -5317.4603   1333.756     -3.987      0.000   -7932.107   -2702.814\n",
      "hour[T.4]          -3153.6667   1282.608     -2.459      0.014   -5668.045    -639.289\n",
      "hour[T.5]          -1367.6396   1280.527     -1.068      0.286   -3877.938    1142.659\n",
      "hour[T.6]           5811.7031   1305.534      4.452      0.000    3252.383    8371.024\n",
      "hour[T.7]           2.472e+04   1268.276     19.488      0.000    2.22e+04    2.72e+04\n",
      "hour[T.8]           4.467e+04   1272.372     35.107      0.000    4.22e+04    4.72e+04\n",
      "hour[T.9]           2.298e+04   1287.819     17.848      0.000    2.05e+04    2.55e+04\n",
      "hour[T.10]          1.416e+04   1292.717     10.952      0.000    1.16e+04    1.67e+04\n",
      "hour[T.11]          1.645e+04   1300.956     12.646      0.000    1.39e+04     1.9e+04\n",
      "hour[T.12]           2.04e+04   1301.879     15.670      0.000    1.78e+04     2.3e+04\n",
      "hour[T.13]          1.951e+04   1295.077     15.063      0.000     1.7e+04     2.2e+04\n",
      "hour[T.14]          1.963e+04   1281.165     15.325      0.000    1.71e+04    2.21e+04\n",
      "hour[T.15]          2.377e+04   1285.691     18.485      0.000    2.12e+04    2.63e+04\n",
      "hour[T.16]          3.905e+04   1286.595     30.351      0.000    3.65e+04    4.16e+04\n",
      "hour[T.17]          5.449e+04   1288.906     42.276      0.000     5.2e+04     5.7e+04\n",
      "hour[T.18]          3.816e+04   1275.107     29.925      0.000    3.57e+04    4.07e+04\n",
      "hour[T.19]          2.561e+04   1272.935     20.121      0.000    2.31e+04    2.81e+04\n",
      "hour[T.20]          1.571e+04   1279.673     12.276      0.000    1.32e+04    1.82e+04\n",
      "hour[T.21]          1.066e+04   1277.236      8.347      0.000    8157.451    1.32e+04\n",
      "hour[T.22]          6512.9264   1279.406      5.091      0.000    4004.826    9021.027\n",
      "hour[T.23]          3186.6619   1254.346      2.540      0.011     727.689    5645.635\n",
      "day_of_week[T.Mon] -1426.1284    678.476     -2.102      0.036   -2756.187     -96.069\n",
      "day_of_week[T.Sat] -1908.9408    398.596     -4.789      0.000   -2690.334   -1127.548\n",
      "day_of_week[T.Sun] -2651.1770    397.148     -6.676      0.000   -3429.731   -1872.623\n",
      "day_of_week[T.Thu]   513.8702    696.986      0.737      0.461    -852.475    1880.215\n",
      "day_of_week[T.Tue]  -770.5605    686.317     -1.123      0.262   -2115.991     574.870\n",
      "day_of_week[T.Wed]   480.5871    692.796      0.694      0.488    -877.544    1838.719\n",
      "holiday[T.1]       -4560.1178    397.123    -11.483      0.000   -5338.623   -3781.612\n",
      "temp                 825.8548     81.442     10.140      0.000     666.199     985.510\n",
      "temp_wb            -1315.3162    170.757     -7.703      0.000   -1650.061    -980.571\n",
      "rel_humidity         114.7896     33.119      3.466      0.001      49.864     179.715\n",
      "windspeed           -135.0519     36.647     -3.685      0.000    -206.894     -63.210\n",
      "precipitation       1.008e+04    848.848     11.874      0.000    8415.533    1.17e+04\n",
      "==============================================================================\n",
      "Omnibus:                      406.032   Durbin-Watson:                   1.993\n",
      "Prob(Omnibus):                  0.000   Jarque-Bera (JB):             1099.115\n",
      "Skew:                           0.373   Prob(JB):                    2.14e-239\n",
      "Kurtosis:                       4.955   Cond. No.                     2.25e+15\n",
      "==============================================================================\n",
      "\n",
      "Notes:\n",
      "[1] Standard Errors assume that the covariance matrix of the errors is correctly specified.\n",
      "[2] The smallest eigenvalue is 2.13e-23. This might indicate that there are\n",
      "strong multicollinearity problems or that the design matrix is singular.\n"
     ]
    }
   ],
   "source": [
    "\n",
    "# YOUR CODE HERE\n",
    "from statsmodels.formula.api import ols\n",
    "est = ols(formula = my_formula, data=df_train).fit()\n",
    "\n",
    "print(est.summary())"
   ]
  },
  {
   "cell_type": "markdown",
   "metadata": {
    "deletable": false,
    "editable": false,
    "nbgrader": {
     "checksum": "33fc24b56dba01ffe3a278f7f699452b",
     "grade": false,
     "grade_id": "cell-24555c33ca210ce6",
     "locked": true,
     "schema_version": 1,
     "solution": false
    }
   },
   "source": [
    "###### Define the OSR2 Helper function"
   ]
  },
  {
   "cell_type": "code",
   "execution_count": 13,
   "metadata": {
    "deletable": false,
    "nbgrader": {
     "checksum": "20181bab21ca06461de75810bb83d4a8",
     "grade": false,
     "grade_id": "cell-5bdc668f8d67eeb2",
     "locked": false,
     "schema_version": 1,
     "solution": true
    }
   },
   "outputs": [],
   "source": [
    "def OSR2(y_pred, y_true, training_mean):\n",
    "  '''\n",
    "  Calculates out-of-sample R-squared\n",
    "  '''\n",
    "  baseline_error = np.sum(np.square((training_mean - y_true)))\n",
    "  model_error = np.sum(np.square((y_pred - y_true)))\n",
    "  return 1.0 - model_error/baseline_error"
   ]
  },
  {
   "cell_type": "code",
   "execution_count": null,
   "metadata": {
    "deletable": false,
    "editable": false,
    "nbgrader": {
     "checksum": "15ffcb492eca1c015b439a47d6f42f49",
     "grade": true,
     "grade_id": "cell-387ec8618fb624fa",
     "locked": true,
     "points": 0,
     "schema_version": 1,
     "solution": false
    }
   },
   "outputs": [],
   "source": []
  },
  {
   "cell_type": "markdown",
   "metadata": {
    "deletable": false,
    "editable": false,
    "nbgrader": {
     "checksum": "6312f9eb21d7ee617d1460546c11ece4",
     "grade": false,
     "grade_id": "cell-310bf9987173bc69",
     "locked": true,
     "schema_version": 1,
     "solution": false
    }
   },
   "source": [
    "###### See the result of your test set on the linear regression model using your OSR2 helper function. Assign the result to \"osr2_result\""
   ]
  },
  {
   "cell_type": "code",
   "execution_count": 14,
   "metadata": {
    "deletable": false,
    "nbgrader": {
     "checksum": "a067fb8a75251b3f5590ff1ca986d971",
     "grade": false,
     "grade_id": "cell-999d3c7ceedc7537",
     "locked": false,
     "schema_version": 1,
     "solution": true
    }
   },
   "outputs": [
    {
     "name": "stdout",
     "output_type": "stream",
     "text": [
      "0.6884066434773946\n"
     ]
    }
   ],
   "source": [
    "\n",
    "osr2_result=OSR2(est.predict(X_test), y_test, y.mean())\n",
    "print(osr2_result)"
   ]
  },
  {
   "cell_type": "code",
   "execution_count": null,
   "metadata": {
    "deletable": false,
    "editable": false,
    "nbgrader": {
     "checksum": "79a2a55124a8c05276b737b10a8d0283",
     "grade": true,
     "grade_id": "cell-7ef4d08704513891",
     "locked": true,
     "points": 4,
     "schema_version": 1,
     "solution": false
    }
   },
   "outputs": [],
   "source": []
  },
  {
   "cell_type": "markdown",
   "metadata": {
    "deletable": false,
    "editable": false,
    "nbgrader": {
     "checksum": "a257abd2e122815560d8da5089aa2b57",
     "grade": false,
     "grade_id": "cell-ecfb83bc49edab83",
     "locked": true,
     "schema_version": 1,
     "solution": false
    }
   },
   "source": [
    "###### Build a tree with default parameters. "
   ]
  },
  {
   "cell_type": "code",
   "execution_count": 15,
   "metadata": {
    "deletable": false,
    "nbgrader": {
     "checksum": "a484af67105e0db5c840c24a159c81b1",
     "grade": false,
     "grade_id": "cell-b988dba76fa481b9",
     "locked": false,
     "schema_version": 1,
     "solution": true
    }
   },
   "outputs": [],
   "source": [
    "# Assign the result to \"tree\"\n",
    "tree = DecisionTreeRegressor(random_state=42)"
   ]
  },
  {
   "cell_type": "code",
   "execution_count": 16,
   "metadata": {
    "deletable": false,
    "editable": false,
    "nbgrader": {
     "checksum": "f2104e7ccf9d009bb12ba5b81c1161df",
     "grade": false,
     "grade_id": "cell-43f422a14a3f0d1d",
     "locked": true,
     "schema_version": 1,
     "solution": false
    }
   },
   "outputs": [
    {
     "data": {
      "text/html": [
       "<div>\n",
       "<style scoped>\n",
       "    .dataframe tbody tr th:only-of-type {\n",
       "        vertical-align: middle;\n",
       "    }\n",
       "\n",
       "    .dataframe tbody tr th {\n",
       "        vertical-align: top;\n",
       "    }\n",
       "\n",
       "    .dataframe thead th {\n",
       "        text-align: right;\n",
       "    }\n",
       "</style>\n",
       "<table border=\"1\" class=\"dataframe\">\n",
       "  <thead>\n",
       "    <tr style=\"text-align: right;\">\n",
       "      <th></th>\n",
       "      <th>month</th>\n",
       "      <th>day</th>\n",
       "      <th>hour</th>\n",
       "      <th>day_of_week</th>\n",
       "      <th>holiday</th>\n",
       "      <th>temp</th>\n",
       "      <th>temp_wb</th>\n",
       "      <th>rel_humidity</th>\n",
       "      <th>windspeed</th>\n",
       "      <th>precipitation</th>\n",
       "    </tr>\n",
       "  </thead>\n",
       "  <tbody>\n",
       "    <tr>\n",
       "      <th>5156</th>\n",
       "      <td>8</td>\n",
       "      <td>9</td>\n",
       "      <td>14</td>\n",
       "      <td>Thu</td>\n",
       "      <td>0</td>\n",
       "      <td>154.2</td>\n",
       "      <td>74</td>\n",
       "      <td>61</td>\n",
       "      <td>10</td>\n",
       "      <td>1.000</td>\n",
       "    </tr>\n",
       "    <tr>\n",
       "      <th>6290</th>\n",
       "      <td>9</td>\n",
       "      <td>26</td>\n",
       "      <td>1</td>\n",
       "      <td>Wed</td>\n",
       "      <td>0</td>\n",
       "      <td>129.0</td>\n",
       "      <td>68</td>\n",
       "      <td>90</td>\n",
       "      <td>5</td>\n",
       "      <td>1.000</td>\n",
       "    </tr>\n",
       "    <tr>\n",
       "      <th>2646</th>\n",
       "      <td>4</td>\n",
       "      <td>26</td>\n",
       "      <td>19</td>\n",
       "      <td>Thu</td>\n",
       "      <td>0</td>\n",
       "      <td>105.6</td>\n",
       "      <td>49</td>\n",
       "      <td>53</td>\n",
       "      <td>13</td>\n",
       "      <td>1.000</td>\n",
       "    </tr>\n",
       "    <tr>\n",
       "      <th>439</th>\n",
       "      <td>1</td>\n",
       "      <td>21</td>\n",
       "      <td>16</td>\n",
       "      <td>Sun</td>\n",
       "      <td>1</td>\n",
       "      <td>85.8</td>\n",
       "      <td>39</td>\n",
       "      <td>51</td>\n",
       "      <td>5</td>\n",
       "      <td>1.000</td>\n",
       "    </tr>\n",
       "    <tr>\n",
       "      <th>1379</th>\n",
       "      <td>3</td>\n",
       "      <td>2</td>\n",
       "      <td>16</td>\n",
       "      <td>Fri</td>\n",
       "      <td>0</td>\n",
       "      <td>76.8</td>\n",
       "      <td>39</td>\n",
       "      <td>86</td>\n",
       "      <td>46</td>\n",
       "      <td>0.075</td>\n",
       "    </tr>\n",
       "  </tbody>\n",
       "</table>\n",
       "</div>"
      ],
      "text/plain": [
       "     month day hour day_of_week holiday   temp  temp_wb  rel_humidity  \\\n",
       "5156     8   9   14         Thu       0  154.2       74            61   \n",
       "6290     9  26    1         Wed       0  129.0       68            90   \n",
       "2646     4  26   19         Thu       0  105.6       49            53   \n",
       "439      1  21   16         Sun       1   85.8       39            51   \n",
       "1379     3   2   16         Fri       0   76.8       39            86   \n",
       "\n",
       "      windspeed  precipitation  \n",
       "5156         10          1.000  \n",
       "6290          5          1.000  \n",
       "2646         13          1.000  \n",
       "439           5          1.000  \n",
       "1379         46          0.075  "
      ]
     },
     "execution_count": 16,
     "metadata": {},
     "output_type": "execute_result"
    }
   ],
   "source": [
    "X.head()"
   ]
  },
  {
   "cell_type": "markdown",
   "metadata": {
    "deletable": false,
    "editable": false,
    "nbgrader": {
     "checksum": "1dc44378e3fd1baff96f4647f2e02400",
     "grade": false,
     "grade_id": "cell-3096e5cc6fc4c6e3",
     "locked": true,
     "schema_version": 1,
     "solution": false
    }
   },
   "source": [
    "###### One-hot encode the categorical variables"
   ]
  },
  {
   "cell_type": "code",
   "execution_count": 17,
   "metadata": {
    "deletable": false,
    "nbgrader": {
     "checksum": "590b86a08a38a9eab4310eec5afccb27",
     "grade": false,
     "grade_id": "cell-070a70cce0de0a30",
     "locked": false,
     "schema_version": 1,
     "solution": true
    }
   },
   "outputs": [],
   "source": [
    "\n",
    "X = pd.get_dummies(X, columns = categoricals)\n",
    "X_test = pd.get_dummies(X_test, columns = categoricals)"
   ]
  },
  {
   "cell_type": "code",
   "execution_count": null,
   "metadata": {
    "deletable": false,
    "editable": false,
    "nbgrader": {
     "checksum": "a8a99b17c9392eb3f9afdc030e77cb63",
     "grade": true,
     "grade_id": "cell-1bbc3ce3f650e255",
     "locked": true,
     "points": 1,
     "schema_version": 1,
     "solution": false
    }
   },
   "outputs": [],
   "source": []
  },
  {
   "cell_type": "code",
   "execution_count": 18,
   "metadata": {
    "deletable": false,
    "editable": false,
    "nbgrader": {
     "checksum": "cb72ad62d7e520a97fab673a70b76922",
     "grade": false,
     "grade_id": "cell-8496897db51ee07d",
     "locked": true,
     "schema_version": 1,
     "solution": false
    }
   },
   "outputs": [
    {
     "data": {
      "text/html": [
       "<div>\n",
       "<style scoped>\n",
       "    .dataframe tbody tr th:only-of-type {\n",
       "        vertical-align: middle;\n",
       "    }\n",
       "\n",
       "    .dataframe tbody tr th {\n",
       "        vertical-align: top;\n",
       "    }\n",
       "\n",
       "    .dataframe thead th {\n",
       "        text-align: right;\n",
       "    }\n",
       "</style>\n",
       "<table border=\"1\" class=\"dataframe\">\n",
       "  <thead>\n",
       "    <tr style=\"text-align: right;\">\n",
       "      <th></th>\n",
       "      <th>temp</th>\n",
       "      <th>temp_wb</th>\n",
       "      <th>rel_humidity</th>\n",
       "      <th>windspeed</th>\n",
       "      <th>precipitation</th>\n",
       "      <th>month_1</th>\n",
       "      <th>month_2</th>\n",
       "      <th>month_3</th>\n",
       "      <th>month_4</th>\n",
       "      <th>month_5</th>\n",
       "      <th>...</th>\n",
       "      <th>hour_23</th>\n",
       "      <th>day_of_week_Fri</th>\n",
       "      <th>day_of_week_Mon</th>\n",
       "      <th>day_of_week_Sat</th>\n",
       "      <th>day_of_week_Sun</th>\n",
       "      <th>day_of_week_Thu</th>\n",
       "      <th>day_of_week_Tue</th>\n",
       "      <th>day_of_week_Wed</th>\n",
       "      <th>holiday_0</th>\n",
       "      <th>holiday_1</th>\n",
       "    </tr>\n",
       "  </thead>\n",
       "  <tbody>\n",
       "    <tr>\n",
       "      <th>5156</th>\n",
       "      <td>154.2</td>\n",
       "      <td>74</td>\n",
       "      <td>61</td>\n",
       "      <td>10</td>\n",
       "      <td>1.000</td>\n",
       "      <td>0</td>\n",
       "      <td>0</td>\n",
       "      <td>0</td>\n",
       "      <td>0</td>\n",
       "      <td>0</td>\n",
       "      <td>...</td>\n",
       "      <td>0</td>\n",
       "      <td>0</td>\n",
       "      <td>0</td>\n",
       "      <td>0</td>\n",
       "      <td>0</td>\n",
       "      <td>1</td>\n",
       "      <td>0</td>\n",
       "      <td>0</td>\n",
       "      <td>1</td>\n",
       "      <td>0</td>\n",
       "    </tr>\n",
       "    <tr>\n",
       "      <th>6290</th>\n",
       "      <td>129.0</td>\n",
       "      <td>68</td>\n",
       "      <td>90</td>\n",
       "      <td>5</td>\n",
       "      <td>1.000</td>\n",
       "      <td>0</td>\n",
       "      <td>0</td>\n",
       "      <td>0</td>\n",
       "      <td>0</td>\n",
       "      <td>0</td>\n",
       "      <td>...</td>\n",
       "      <td>0</td>\n",
       "      <td>0</td>\n",
       "      <td>0</td>\n",
       "      <td>0</td>\n",
       "      <td>0</td>\n",
       "      <td>0</td>\n",
       "      <td>0</td>\n",
       "      <td>1</td>\n",
       "      <td>1</td>\n",
       "      <td>0</td>\n",
       "    </tr>\n",
       "    <tr>\n",
       "      <th>2646</th>\n",
       "      <td>105.6</td>\n",
       "      <td>49</td>\n",
       "      <td>53</td>\n",
       "      <td>13</td>\n",
       "      <td>1.000</td>\n",
       "      <td>0</td>\n",
       "      <td>0</td>\n",
       "      <td>0</td>\n",
       "      <td>1</td>\n",
       "      <td>0</td>\n",
       "      <td>...</td>\n",
       "      <td>0</td>\n",
       "      <td>0</td>\n",
       "      <td>0</td>\n",
       "      <td>0</td>\n",
       "      <td>0</td>\n",
       "      <td>1</td>\n",
       "      <td>0</td>\n",
       "      <td>0</td>\n",
       "      <td>1</td>\n",
       "      <td>0</td>\n",
       "    </tr>\n",
       "    <tr>\n",
       "      <th>439</th>\n",
       "      <td>85.8</td>\n",
       "      <td>39</td>\n",
       "      <td>51</td>\n",
       "      <td>5</td>\n",
       "      <td>1.000</td>\n",
       "      <td>1</td>\n",
       "      <td>0</td>\n",
       "      <td>0</td>\n",
       "      <td>0</td>\n",
       "      <td>0</td>\n",
       "      <td>...</td>\n",
       "      <td>0</td>\n",
       "      <td>0</td>\n",
       "      <td>0</td>\n",
       "      <td>0</td>\n",
       "      <td>1</td>\n",
       "      <td>0</td>\n",
       "      <td>0</td>\n",
       "      <td>0</td>\n",
       "      <td>0</td>\n",
       "      <td>1</td>\n",
       "    </tr>\n",
       "    <tr>\n",
       "      <th>1379</th>\n",
       "      <td>76.8</td>\n",
       "      <td>39</td>\n",
       "      <td>86</td>\n",
       "      <td>46</td>\n",
       "      <td>0.075</td>\n",
       "      <td>0</td>\n",
       "      <td>0</td>\n",
       "      <td>1</td>\n",
       "      <td>0</td>\n",
       "      <td>0</td>\n",
       "      <td>...</td>\n",
       "      <td>0</td>\n",
       "      <td>1</td>\n",
       "      <td>0</td>\n",
       "      <td>0</td>\n",
       "      <td>0</td>\n",
       "      <td>0</td>\n",
       "      <td>0</td>\n",
       "      <td>0</td>\n",
       "      <td>1</td>\n",
       "      <td>0</td>\n",
       "    </tr>\n",
       "  </tbody>\n",
       "</table>\n",
       "<p>5 rows × 81 columns</p>\n",
       "</div>"
      ],
      "text/plain": [
       "       temp  temp_wb  rel_humidity  windspeed  precipitation  month_1  \\\n",
       "5156  154.2       74            61         10          1.000        0   \n",
       "6290  129.0       68            90          5          1.000        0   \n",
       "2646  105.6       49            53         13          1.000        0   \n",
       "439    85.8       39            51          5          1.000        1   \n",
       "1379   76.8       39            86         46          0.075        0   \n",
       "\n",
       "      month_2  month_3  month_4  month_5  ...  hour_23  day_of_week_Fri  \\\n",
       "5156        0        0        0        0  ...        0                0   \n",
       "6290        0        0        0        0  ...        0                0   \n",
       "2646        0        0        1        0  ...        0                0   \n",
       "439         0        0        0        0  ...        0                0   \n",
       "1379        0        1        0        0  ...        0                1   \n",
       "\n",
       "      day_of_week_Mon  day_of_week_Sat  day_of_week_Sun  day_of_week_Thu  \\\n",
       "5156                0                0                0                1   \n",
       "6290                0                0                0                0   \n",
       "2646                0                0                0                1   \n",
       "439                 0                0                1                0   \n",
       "1379                0                0                0                0   \n",
       "\n",
       "      day_of_week_Tue  day_of_week_Wed  holiday_0  holiday_1  \n",
       "5156                0                0          1          0  \n",
       "6290                0                1          1          0  \n",
       "2646                0                0          1          0  \n",
       "439                 0                0          0          1  \n",
       "1379                0                0          1          0  \n",
       "\n",
       "[5 rows x 81 columns]"
      ]
     },
     "execution_count": 18,
     "metadata": {},
     "output_type": "execute_result"
    }
   ],
   "source": [
    "X.head()"
   ]
  },
  {
   "cell_type": "markdown",
   "metadata": {
    "deletable": false,
    "editable": false,
    "nbgrader": {
     "checksum": "d8173bf2a0f8897d9b2456a071786bfb",
     "grade": false,
     "grade_id": "cell-4d7adf7f3401e09d",
     "locked": true,
     "schema_version": 1,
     "solution": false
    }
   },
   "source": [
    "###### Build a CART tree with the default settings."
   ]
  },
  {
   "cell_type": "code",
   "execution_count": 19,
   "metadata": {
    "deletable": false,
    "editable": false,
    "nbgrader": {
     "checksum": "5b547e0a7626d0559ce7abc3d6b111b5",
     "grade": false,
     "grade_id": "cell-2922310e51bb7ccf",
     "locked": true,
     "schema_version": 1,
     "solution": false
    }
   },
   "outputs": [
    {
     "data": {
      "text/plain": [
       "DecisionTreeRegressor(random_state=42)"
      ]
     },
     "execution_count": 19,
     "metadata": {},
     "output_type": "execute_result"
    }
   ],
   "source": [
    "tree.fit(X,y)"
   ]
  },
  {
   "cell_type": "markdown",
   "metadata": {
    "deletable": false,
    "editable": false,
    "nbgrader": {
     "checksum": "d502a60bbbb071ffe3a67ce6d947bd5c",
     "grade": false,
     "grade_id": "cell-6ff289d40580301c",
     "locked": true,
     "schema_version": 1,
     "solution": false
    }
   },
   "source": [
    "###### How well does it do on the training set?"
   ]
  },
  {
   "cell_type": "code",
   "execution_count": 20,
   "metadata": {
    "deletable": false,
    "nbgrader": {
     "checksum": "84497f6941a29f9dd37f69f23e784bc6",
     "grade": false,
     "grade_id": "cell-2e28f7f48b3a6547",
     "locked": false,
     "schema_version": 1,
     "solution": true
    }
   },
   "outputs": [
    {
     "name": "stdout",
     "output_type": "stream",
     "text": [
      "1.0\n"
     ]
    }
   ],
   "source": [
    "#Assign the output of OSR2 to \"result\" for grading purposes. \n",
    "result = OSR2(tree.predict(X), y, y.mean())\n",
    "print(result)"
   ]
  },
  {
   "cell_type": "code",
   "execution_count": null,
   "metadata": {
    "deletable": false,
    "editable": false,
    "nbgrader": {
     "checksum": "f379144a0a859cbf9a1db61598ccb5dc",
     "grade": true,
     "grade_id": "cell-a6d875986f53fa65",
     "locked": true,
     "points": 1,
     "schema_version": 1,
     "solution": false
    }
   },
   "outputs": [],
   "source": []
  },
  {
   "cell_type": "markdown",
   "metadata": {
    "deletable": false,
    "editable": false,
    "nbgrader": {
     "checksum": "8f34ea187a244b7afeb3b3dd59c2e3d7",
     "grade": false,
     "grade_id": "cell-6bbabb23aff204b7",
     "locked": true,
     "schema_version": 1,
     "solution": false
    }
   },
   "source": [
    "###### See how big this tree is."
   ]
  },
  {
   "cell_type": "code",
   "execution_count": 21,
   "metadata": {
    "deletable": false,
    "nbgrader": {
     "checksum": "6d367b489bb43c3bdec3872e2359fbd6",
     "grade": false,
     "grade_id": "cell-7fa6e409bf7bf97a",
     "locked": false,
     "schema_version": 1,
     "solution": true
    }
   },
   "outputs": [
    {
     "data": {
      "text/plain": [
       "(11321, 47)"
      ]
     },
     "execution_count": 21,
     "metadata": {},
     "output_type": "execute_result"
    }
   ],
   "source": [
    "# Get the shape of the tree and assign the result to \"tree_shape\" for grading\n",
    "# YOUR CODE HERE\n",
    "tree.tree_.node_count, tree.tree_.max_depth"
   ]
  },
  {
   "cell_type": "code",
   "execution_count": null,
   "metadata": {
    "deletable": false,
    "editable": false,
    "nbgrader": {
     "checksum": "188dd6fa45fecf67f23a7b5bda31f539",
     "grade": true,
     "grade_id": "cell-701ff7336ba92950",
     "locked": true,
     "points": 1,
     "schema_version": 1,
     "solution": false
    }
   },
   "outputs": [],
   "source": []
  },
  {
   "cell_type": "markdown",
   "metadata": {
    "deletable": false,
    "editable": false,
    "nbgrader": {
     "checksum": "e2f76de823f5453c07165172a3f75084",
     "grade": false,
     "grade_id": "cell-d2f053f7c7d7b96e",
     "locked": true,
     "schema_version": 1,
     "solution": false
    }
   },
   "source": [
    "###### Before Pruning, see how it does on the test set."
   ]
  },
  {
   "cell_type": "code",
   "execution_count": 22,
   "metadata": {
    "deletable": false,
    "editable": false,
    "nbgrader": {
     "checksum": "cfebfd028417686f4348bf42fa3baed9",
     "grade": false,
     "grade_id": "cell-2865ac9dfcdbc1e2",
     "locked": true,
     "schema_version": 1,
     "solution": false
    }
   },
   "outputs": [
    {
     "data": {
      "text/plain": [
       "0.7781904676781646"
      ]
     },
     "execution_count": 22,
     "metadata": {},
     "output_type": "execute_result"
    }
   ],
   "source": [
    "OSR2(tree.predict(X_test), y_test, y.mean())"
   ]
  },
  {
   "cell_type": "markdown",
   "metadata": {
    "deletable": false,
    "editable": false,
    "nbgrader": {
     "checksum": "f3da956ebff0bd55a9bcd56523f7f912",
     "grade": false,
     "grade_id": "cell-054d402fec624f9b",
     "locked": true,
     "schema_version": 1,
     "solution": false
    }
   },
   "source": [
    "# Cost Complexity Pruning"
   ]
  },
  {
   "cell_type": "code",
   "execution_count": 23,
   "metadata": {
    "deletable": false,
    "editable": false,
    "nbgrader": {
     "checksum": "af6ba890830af51a5fc824edfaff1fe3",
     "grade": false,
     "grade_id": "cell-44738d807f5e91e7",
     "locked": true,
     "schema_version": 1,
     "solution": false
    }
   },
   "outputs": [],
   "source": [
    "tree = DecisionTreeRegressor(random_state=42)"
   ]
  },
  {
   "cell_type": "code",
   "execution_count": 24,
   "metadata": {
    "deletable": false,
    "nbgrader": {
     "checksum": "6322265ae952df8354e64e9cad74efa6",
     "grade": false,
     "grade_id": "cell-061c9199b09cdf0d",
     "locked": false,
     "schema_version": 1,
     "solution": true
    }
   },
   "outputs": [],
   "source": [
    "# Create the pruning path and assign the output to \"path\"\n",
    "path = tree.cost_complexity_pruning_path(X,y)"
   ]
  },
  {
   "cell_type": "code",
   "execution_count": null,
   "metadata": {
    "deletable": false,
    "editable": false,
    "nbgrader": {
     "checksum": "0c48278f174bbd31e46f29df92e44776",
     "grade": true,
     "grade_id": "cell-7a2b9698e7641967",
     "locked": true,
     "points": 0,
     "schema_version": 1,
     "solution": false
    }
   },
   "outputs": [],
   "source": []
  },
  {
   "cell_type": "code",
   "execution_count": 25,
   "metadata": {
    "deletable": false,
    "nbgrader": {
     "checksum": "f609d5667ee59a57ebc8bd6124838ffb",
     "grade": false,
     "grade_id": "cell-e99eda5c1f803f7a",
     "locked": false,
     "schema_version": 1,
     "solution": true
    }
   },
   "outputs": [],
   "source": [
    "#Get the Alpha values and assign them to \"alphas\"\n",
    "alphas = path.ccp_alphas"
   ]
  },
  {
   "cell_type": "code",
   "execution_count": null,
   "metadata": {
    "deletable": false,
    "editable": false,
    "nbgrader": {
     "checksum": "70a67aaf473d5085a5ce2c2557c9a0ca",
     "grade": true,
     "grade_id": "cell-51751ef1ca134f37",
     "locked": true,
     "points": 0,
     "schema_version": 1,
     "solution": false
    }
   },
   "outputs": [],
   "source": []
  },
  {
   "cell_type": "code",
   "execution_count": 26,
   "metadata": {
    "deletable": false,
    "nbgrader": {
     "checksum": "d50dd7feeeb73b5e012974c4aa448dda",
     "grade": false,
     "grade_id": "cell-18386d53bf4fd73b",
     "locked": false,
     "schema_version": 1,
     "solution": true
    }
   },
   "outputs": [
    {
     "data": {
      "text/plain": [
       "5185"
      ]
     },
     "execution_count": 26,
     "metadata": {},
     "output_type": "execute_result"
    }
   ],
   "source": [
    "# See how many alpha values you generated\n",
    "len(alphas)"
   ]
  },
  {
   "cell_type": "code",
   "execution_count": null,
   "metadata": {
    "deletable": false,
    "editable": false,
    "nbgrader": {
     "checksum": "80335c9794ec2b3cd832fc69127209aa",
     "grade": true,
     "grade_id": "cell-95643480c6d4745c",
     "locked": true,
     "points": 2,
     "schema_version": 1,
     "solution": false
    }
   },
   "outputs": [],
   "source": []
  },
  {
   "cell_type": "markdown",
   "metadata": {
    "deletable": false,
    "editable": false,
    "nbgrader": {
     "checksum": "8131f256c1f6720546bde6a93769371f",
     "grade": false,
     "grade_id": "cell-5bcfeee743d145e1",
     "locked": true,
     "schema_version": 1,
     "solution": false
    }
   },
   "source": [
    "##### Generate about ~50 trees, evenly sampled from this group."
   ]
  },
  {
   "cell_type": "code",
   "execution_count": 27,
   "metadata": {
    "deletable": false,
    "editable": false,
    "nbgrader": {
     "checksum": "89d6bcd3a34d062a45c1e136f903e25c",
     "grade": false,
     "grade_id": "cell-1585209d80c1f867",
     "locked": true,
     "schema_version": 1,
     "solution": false
    }
   },
   "outputs": [],
   "source": [
    "alphas_small = alphas[::100]\n",
    "alphas_small = alphas_small[::-1]"
   ]
  },
  {
   "cell_type": "code",
   "execution_count": 28,
   "metadata": {
    "deletable": false,
    "nbgrader": {
     "checksum": "182b35f75ce579347ce76775521e66c8",
     "grade": false,
     "grade_id": "cell-43ae15c4fe21886d",
     "locked": false,
     "schema_version": 1,
     "solution": true
    }
   },
   "outputs": [],
   "source": [
    "r2_all = []\n",
    "osr2_all = []\n",
    "node_counts = []\n",
    "\n",
    "for alpha in alphas_small:\n",
    "  tree = DecisionTreeRegressor(random_state=42, ccp_alpha=alpha)\n",
    "  tree.fit(X,y)\n",
    "  y_pred = tree.predict(X)\n",
    "  r2_all.append(OSR2(y_pred, y, y.mean()))\n",
    "  y_pred = tree.predict(X_test)\n",
    "  osr2_all.append(OSR2(y_pred, y_test, y.mean()))\n",
    "  node_counts.append(tree.tree_.node_count)"
   ]
  },
  {
   "cell_type": "code",
   "execution_count": null,
   "metadata": {
    "deletable": false,
    "editable": false,
    "nbgrader": {
     "checksum": "7e03aef2de3b6007c0257ca28f4aef48",
     "grade": true,
     "grade_id": "cell-bdd0f2f44553694f",
     "locked": true,
     "points": 1,
     "schema_version": 1,
     "solution": false
    }
   },
   "outputs": [],
   "source": []
  },
  {
   "cell_type": "code",
   "execution_count": 29,
   "metadata": {
    "deletable": false,
    "editable": false,
    "nbgrader": {
     "checksum": "7a57e51b428d395ad4e892dc6ed226b3",
     "grade": false,
     "grade_id": "cell-14726cda1ecc0de0",
     "locked": true,
     "schema_version": 1,
     "solution": false
    }
   },
   "outputs": [
    {
     "data": {
      "text/plain": [
       "Text(0.5, 1.0, 'Prediction quality vs tree size')"
      ]
     },
     "execution_count": 29,
     "metadata": {},
     "output_type": "execute_result"
    },
    {
     "data": {
      "image/png": "[encoded data removed]",
      "text/plain": [
       "<Figure size 432x288 with 1 Axes>"
      ]
     },
     "metadata": {
      "needs_background": "light"
     },
     "output_type": "display_data"
    }
   ],
   "source": [
    "plt.plot(node_counts, r2_all, label='Training R-squared')\n",
    "plt.plot(node_counts, osr2_all, label='Test OSR-squared')\n",
    "plt.legend()\n",
    "plt.xlabel('Number of nodes')\n",
    "plt.ylabel('R-squared/OSR-Squared')\n",
    "plt.title('Prediction quality vs tree size')"
   ]
  },
  {
   "cell_type": "markdown",
   "metadata": {
    "deletable": false,
    "editable": false,
    "nbgrader": {
     "checksum": "7fe4d9e1d36904c004a42a327c069b88",
     "grade": false,
     "grade_id": "cell-42edc91416837574",
     "locked": true,
     "schema_version": 1,
     "solution": false
    }
   },
   "source": [
    "###### Extract the tree corresponding to the best OSR2."
   ]
  },
  {
   "cell_type": "code",
   "execution_count": 30,
   "metadata": {
    "deletable": false,
    "nbgrader": {
     "checksum": "eb6a7419df7c461b4eed079946093556",
     "grade": false,
     "grade_id": "cell-884b7447651ee170",
     "locked": false,
     "schema_version": 1,
     "solution": true
    }
   },
   "outputs": [],
   "source": [
    "opt_idx = np.argmax(osr2_all)"
   ]
  },
  {
   "cell_type": "code",
   "execution_count": null,
   "metadata": {
    "deletable": false,
    "editable": false,
    "nbgrader": {
     "checksum": "bcf549289564d7f308341b584dd633d9",
     "grade": true,
     "grade_id": "cell-20c07ea5831a88b5",
     "locked": true,
     "points": 1,
     "schema_version": 1,
     "solution": false
    }
   },
   "outputs": [],
   "source": []
  },
  {
   "cell_type": "code",
   "execution_count": 31,
   "metadata": {
    "deletable": false,
    "editable": false,
    "nbgrader": {
     "checksum": "aea62fd8016acade0a5a11dd1bd92d8d",
     "grade": false,
     "grade_id": "cell-9c5ed7b90f142fe6",
     "locked": true,
     "schema_version": 1,
     "solution": false
    }
   },
   "outputs": [
    {
     "data": {
      "text/plain": [
       "DecisionTreeRegressor(ccp_alpha=112830.96658742253, random_state=42)"
      ]
     },
     "execution_count": 31,
     "metadata": {},
     "output_type": "execute_result"
    }
   ],
   "source": [
    " tree = DecisionTreeRegressor(random_state=42, ccp_alpha=alphas_small[opt_idx])\n",
    " tree.fit(X,y)"
   ]
  },
  {
   "cell_type": "code",
   "execution_count": 32,
   "metadata": {
    "deletable": false,
    "editable": false,
    "nbgrader": {
     "checksum": "a7c3a94f0f30ea5c70a530a24c2a0b0e",
     "grade": false,
     "grade_id": "cell-bdc38c34dbadf719",
     "locked": true,
     "schema_version": 1,
     "solution": false
    }
   },
   "outputs": [
    {
     "data": {
      "text/plain": [
       "(751, 29)"
      ]
     },
     "execution_count": 32,
     "metadata": {},
     "output_type": "execute_result"
    }
   ],
   "source": [
    "tree.tree_.node_count, tree.tree_.max_depth"
   ]
  },
  {
   "cell_type": "code",
   "execution_count": 33,
   "metadata": {
    "deletable": false,
    "editable": false,
    "nbgrader": {
     "checksum": "b44803eabea81f5e89c3d058d597e47b",
     "grade": false,
     "grade_id": "cell-2dd7c8c8c358680a",
     "locked": true,
     "schema_version": 1,
     "solution": false
    }
   },
   "outputs": [],
   "source": [
    "def viz_tree(tree, font=12, figsize=(16,10)):\n",
    "  '''\n",
    "  draws a classification tree\n",
    "  '''\n",
    "  plt.figure(figsize=figsize)  # set plot size (denoted in inches)\n",
    "  _ = plot_tree(tree,\n",
    "                feature_names=X.columns,\n",
    "                filled=True,\n",
    "                fontsize=font)"
   ]
  },
  {
   "cell_type": "markdown",
   "metadata": {
    "deletable": false,
    "editable": false,
    "nbgrader": {
     "checksum": "f2dfd3f08e9ea0ac46c0e8251ea7f0c3",
     "grade": false,
     "grade_id": "cell-0ee317eb1f4d0586",
     "locked": true,
     "schema_version": 1,
     "solution": false
    }
   },
   "source": [
    "###### Let's try to visualize it."
   ]
  },
  {
   "cell_type": "code",
   "execution_count": 34,
   "metadata": {
    "deletable": false,
    "editable": false,
    "nbgrader": {
     "checksum": "6ee6b63c330f8b59d3f67c096950ddca",
     "grade": false,
     "grade_id": "cell-e204ba9a21cb72c2",
     "locked": true,
     "schema_version": 1,
     "solution": false
    }
   },
   "outputs": [
    {
     "data": {
      "image/png": "[encoded data removed]",
      "text/plain": [
       "<Figure size 1152x720 with 1 Axes>"
      ]
     },
     "metadata": {
      "needs_background": "light"
     },
     "output_type": "display_data"
    }
   ],
   "source": [
    "viz_tree(tree)"
   ]
  },
  {
   "cell_type": "markdown",
   "metadata": {
    "deletable": false,
    "editable": false,
    "nbgrader": {
     "checksum": "5c82b7e2c92562bbdd309954aeeb591c",
     "grade": false,
     "grade_id": "cell-26db87c63e1a6d7d",
     "locked": true,
     "schema_version": 1,
     "solution": false
    }
   },
   "source": [
    "###### Confirm this tree's OSR2. "
   ]
  },
  {
   "cell_type": "code",
   "execution_count": 35,
   "metadata": {
    "deletable": false,
    "nbgrader": {
     "checksum": "db3010c9c68b967a04fb06200dd12f83",
     "grade": false,
     "grade_id": "cell-1012bedbae441944",
     "locked": false,
     "schema_version": 1,
     "solution": true
    }
   },
   "outputs": [
    {
     "name": "stdout",
     "output_type": "stream",
     "text": [
      "0.7976630986012803\n"
     ]
    }
   ],
   "source": [
    "#Assign the output to \"osr2\"\n",
    "osr2=OSR2(tree.predict(X_test), y_test, y.mean())\n",
    "\n",
    "print(osr2)"
   ]
  },
  {
   "cell_type": "code",
   "execution_count": null,
   "metadata": {
    "deletable": false,
    "editable": false,
    "nbgrader": {
     "checksum": "cd5fed85cce6ce3e5b8aa68396cf7fc8",
     "grade": true,
     "grade_id": "cell-33f8511161f1907c",
     "locked": true,
     "points": 1,
     "schema_version": 1,
     "solution": false
    }
   },
   "outputs": [],
   "source": []
  }
 ],
 "metadata": {
  "kernelspec": {
   "display_name": "Python 3",
   "language": "python",
   "name": "python3"
  },
  "language_info": {
   "codemirror_mode": {
    "name": "ipython",
    "version": 3
   },
   "file_extension": ".py",
   "mimetype": "text/x-python",
   "name": "python",
   "nbconvert_exporter": "python",
   "pygments_lexer": "ipython3",
   "version": "3.6.9"
  }
 },
 "nbformat": 4,
 "nbformat_minor": 2
}
