{
 "cells": [
  {
   "cell_type": "markdown",
   "metadata": {
    "deletable": false,
    "editable": false,
    "id": "pLgwRLZiMVJv",
    "nbgrader": {
     "checksum": "4b220c408d9ad83ded4ce03d707e956f",
     "grade": false,
     "grade_id": "cell-6ff916a5697a4710",
     "locked": true,
     "schema_version": 1,
     "solution": false
    }
   },
   "source": [
    "# Deep Learning for Text - Encoder Models"
   ]
  },
  {
   "cell_type": "markdown",
   "metadata": {
    "deletable": false,
    "editable": false,
    "id": "3899YULkO2is",
    "nbgrader": {
     "checksum": "202b1526349291d5b462d9698dcb7f7f",
     "grade": false,
     "grade_id": "cell-991cfe2ef217d300",
     "locked": true,
     "schema_version": 1,
     "solution": false
    }
   },
   "source": [
    "## Data Preprocessing\n"
   ]
  },
  {
   "cell_type": "markdown",
   "metadata": {
    "deletable": false,
    "editable": false,
    "id": "xgv9-wh2i-eg",
    "nbgrader": {
     "checksum": "e841f6255d99649ca03496667ea4fe2f",
     "grade": false,
     "grade_id": "cell-4b987f312bc09df1",
     "locked": true,
     "schema_version": 1,
     "solution": false
    }
   },
   "source": [
    "\n",
    "Let's begin extracting the data from the ATIS dataset and turning into a form that we can use in our Deep Learning models.\n",
    "\n",
    "The ATIS dataset is standard benchmark dataset widely used to build models for intent classification and slot filling tasks (we will explain all this shortly). You can find a very detailed explanation [here](https://catalog.ldc.upenn.edu/docs/LDC93S4B/corpus.html).\n",
    "\n",
    "We will begin by loading the file and then partitioning into a test and a training set."
   ]
  },
  {
   "cell_type": "code",
   "execution_count": 1,
   "metadata": {
    "deletable": false,
    "editable": false,
    "executionInfo": {
     "elapsed": 3006,
     "status": "ok",
     "timestamp": 1677214904290,
     "user": {
      "displayName": "Domingo Genao",
      "userId": "16575500860980135990"
     },
     "user_tz": 300
    },
    "id": "7rJh-xXx4jgD",
    "nbgrader": {
     "checksum": "ec7d490bb52dc1759e267746f769ef91",
     "grade": false,
     "grade_id": "cell-ca423d34261a7199",
     "locked": true,
     "schema_version": 1,
     "solution": false
    }
   },
   "outputs": [],
   "source": [
    "import pandas as pd\n",
    "import numpy as np\n",
    "import pickle\n",
    "import os\n",
    "import matplotlib.pyplot as plt\n",
    "import warnings \n",
    "\n",
    "import tensorflow as tf\n",
    "from tensorflow import keras\n",
    "\n",
    "\n",
    "tf.random.set_seed(42)\n",
    "warnings.simplefilter(action=\"ignore\", category=FutureWarning)"
   ]
  },
  {
   "cell_type": "code",
   "execution_count": 2,
   "metadata": {
    "deletable": false,
    "nbgrader": {
     "checksum": "782328bb16467f10a024c47e7cb196cc",
     "grade": false,
     "grade_id": "cell-1f82a84e23534653",
     "locked": false,
     "schema_version": 1,
     "solution": true
    }
   },
   "outputs": [],
   "source": [
    "# Read in the training and testing data\n",
    "# YOUR CODE HERE\n",
    "df_train = pd.read_csv('atis_train_data.csv')\n",
    "df_test = pd.read_csv('atis_test_data.csv')"
   ]
  },
  {
   "cell_type": "code",
   "execution_count": null,
   "metadata": {
    "colab": {
     "base_uri": "https://localhost:8080/"
    },
    "deletable": false,
    "editable": false,
    "executionInfo": {
     "elapsed": 33048,
     "status": "ok",
     "timestamp": 1677214951334,
     "user": {
      "displayName": "Domingo Genao",
      "userId": "16575500860980135990"
     },
     "user_tz": 300
    },
    "id": "muYUY4P67rma",
    "nbgrader": {
     "checksum": "2256c6caf7b3634f463f37b7f79eda7d",
     "grade": true,
     "grade_id": "cell-0881c6c636f05f3c",
     "locked": true,
     "points": 1,
     "schema_version": 1,
     "solution": false
    },
    "outputId": "7e84cb5f-7ad9-47b2-c6f3-db5260910cac"
   },
   "outputs": [],
   "source": []
  },
  {
   "cell_type": "markdown",
   "metadata": {
    "deletable": false,
    "editable": false,
    "id": "WBciCu0YP_Sg",
    "nbgrader": {
     "checksum": "1ed359018f4424875a6d269949e54a69",
     "grade": false,
     "grade_id": "cell-5d04969236981a71",
     "locked": true,
     "schema_version": 1,
     "solution": false
    }
   },
   "source": [
    "Let's visualize all of this on a dataframe. Below we display an example query for each intent class in a nice layout.\n",
    "\n",
    "The first column of the Dataframe below contains the actual query that was asked. The second column indicates the intent (flight, flight time, etc), whereas the last column contains the slot filling structure."
   ]
  },
  {
   "cell_type": "code",
   "execution_count": 3,
   "metadata": {
    "deletable": false,
    "nbgrader": {
     "checksum": "00214ef688603776717a26fb40b10e0b",
     "grade": false,
     "grade_id": "cell-ab7aa1b0a9b6bcfe",
     "locked": false,
     "schema_version": 1,
     "solution": true
    }
   },
   "outputs": [
    {
     "data": {
      "text/html": [
       "<div>\n",
       "<style scoped>\n",
       "    .dataframe tbody tr th:only-of-type {\n",
       "        vertical-align: middle;\n",
       "    }\n",
       "\n",
       "    .dataframe tbody tr th {\n",
       "        vertical-align: top;\n",
       "    }\n",
       "\n",
       "    .dataframe thead th {\n",
       "        text-align: right;\n",
       "    }\n",
       "</style>\n",
       "<table border=\"1\" class=\"dataframe\">\n",
       "  <thead>\n",
       "    <tr style=\"text-align: right;\">\n",
       "      <th></th>\n",
       "      <th>query</th>\n",
       "      <th>intent</th>\n",
       "      <th>slot filling</th>\n",
       "    </tr>\n",
       "  </thead>\n",
       "  <tbody>\n",
       "    <tr>\n",
       "      <th>0</th>\n",
       "      <td>i want to fly from boston at 838 am and arrive in denver at 1110 in the morning</td>\n",
       "      <td>flight</td>\n",
       "      <td>O O O O O B-fromloc.city_name O B-depart_time.time I-depart_time.time O O O B-toloc.city_name O B-arrive_time.time O O B-arrive_time.period_of_day</td>\n",
       "    </tr>\n",
       "    <tr>\n",
       "      <th>1</th>\n",
       "      <td>what is the arrival time in san francisco for the 755 am flight leaving washington</td>\n",
       "      <td>flight_time</td>\n",
       "      <td>O O O B-flight_time I-flight_time O B-fromloc.city_name I-fromloc.city_name O O B-depart_time.time I-depart_time.time O O B-fromloc.city_name</td>\n",
       "    </tr>\n",
       "    <tr>\n",
       "      <th>2</th>\n",
       "      <td>cheapest airfare from tacoma to orlando</td>\n",
       "      <td>airfare</td>\n",
       "      <td>B-cost_relative O O B-fromloc.city_name O B-toloc.city_name</td>\n",
       "    </tr>\n",
       "    <tr>\n",
       "      <th>3</th>\n",
       "      <td>what kind of aircraft is used on a flight from cleveland to dallas</td>\n",
       "      <td>aircraft</td>\n",
       "      <td>O O O O O O O O O O B-fromloc.city_name O B-toloc.city_name</td>\n",
       "    </tr>\n",
       "    <tr>\n",
       "      <th>4</th>\n",
       "      <td>what kind of ground transportation is available in denver</td>\n",
       "      <td>ground_service</td>\n",
       "      <td>O O O O O O O O B-city_name</td>\n",
       "    </tr>\n",
       "    <tr>\n",
       "      <th>5</th>\n",
       "      <td>what 's the airport at orlando</td>\n",
       "      <td>airport</td>\n",
       "      <td>O O O O O B-city_name</td>\n",
       "    </tr>\n",
       "    <tr>\n",
       "      <th>6</th>\n",
       "      <td>which airline serves denver pittsburgh and atlanta</td>\n",
       "      <td>airline</td>\n",
       "      <td>O O O B-fromloc.city_name B-fromloc.city_name O B-fromloc.city_name</td>\n",
       "    </tr>\n",
       "    <tr>\n",
       "      <th>7</th>\n",
       "      <td>how far is it from orlando airport to orlando</td>\n",
       "      <td>distance</td>\n",
       "      <td>O O O O O B-fromloc.airport_name I-fromloc.airport_name O B-toloc.city_name</td>\n",
       "    </tr>\n",
       "    <tr>\n",
       "      <th>8</th>\n",
       "      <td>what is fare code h</td>\n",
       "      <td>abbreviation</td>\n",
       "      <td>O O O O B-fare_basis_code</td>\n",
       "    </tr>\n",
       "    <tr>\n",
       "      <th>9</th>\n",
       "      <td>how much does the limousine service cost within pittsburgh</td>\n",
       "      <td>ground_fare</td>\n",
       "      <td>O O O O B-transport_type O O O B-city_name</td>\n",
       "    </tr>\n",
       "    <tr>\n",
       "      <th>10</th>\n",
       "      <td>please tell me how many nonstop flights there are from boston to atlanta</td>\n",
       "      <td>quantity</td>\n",
       "      <td>O O O O O B-flight_stop O O O O B-fromloc.city_name O B-toloc.city_name</td>\n",
       "    </tr>\n",
       "    <tr>\n",
       "      <th>11</th>\n",
       "      <td>what city is the airport mco in</td>\n",
       "      <td>city</td>\n",
       "      <td>O O O O O B-fromloc.airport_code O</td>\n",
       "    </tr>\n",
       "    <tr>\n",
       "      <th>12</th>\n",
       "      <td>flight numbers from columbus to minneapolis tomorrow</td>\n",
       "      <td>flight_no</td>\n",
       "      <td>O O O B-fromloc.city_name O B-toloc.city_name B-depart_date.today_relative</td>\n",
       "    </tr>\n",
       "    <tr>\n",
       "      <th>13</th>\n",
       "      <td>how many seats in a 100</td>\n",
       "      <td>capacity</td>\n",
       "      <td>O O O O O B-aircraft_code</td>\n",
       "    </tr>\n",
       "    <tr>\n",
       "      <th>14</th>\n",
       "      <td>give me the flights and fares on december twenty seventh from indianapolis to orlando</td>\n",
       "      <td>flight+airfare</td>\n",
       "      <td>O O O O O O O B-depart_date.month_name B-depart_date.day_number I-depart_date.day_number O B-fromloc.city_name O B-toloc.city_name</td>\n",
       "    </tr>\n",
       "    <tr>\n",
       "      <th>15</th>\n",
       "      <td>show me all meals on flights from atlanta to washington</td>\n",
       "      <td>meal</td>\n",
       "      <td>O O O B-meal O O O B-fromloc.city_name O B-toloc.city_name</td>\n",
       "    </tr>\n",
       "    <tr>\n",
       "      <th>16</th>\n",
       "      <td>what are the air restrictions on flights from pittsburgh to atlanta for the airfare of 416 dollars</td>\n",
       "      <td>restriction</td>\n",
       "      <td>O O O O O O O O B-fromloc.city_name O B-toloc.city_name O O O O B-fare_amount I-fare_amount</td>\n",
       "    </tr>\n",
       "    <tr>\n",
       "      <th>17</th>\n",
       "      <td>airline and flight number from columbus to minneapolis</td>\n",
       "      <td>airline+flight_no</td>\n",
       "      <td>O O O O O B-fromloc.city_name O B-toloc.city_name</td>\n",
       "    </tr>\n",
       "    <tr>\n",
       "      <th>18</th>\n",
       "      <td>what ground transportation is available from the pittsburgh airport to downtown and how much does it cost</td>\n",
       "      <td>ground_service+ground_fare</td>\n",
       "      <td>O O O O O O O B-fromloc.airport_name I-fromloc.airport_name O O O O O O O O</td>\n",
       "    </tr>\n",
       "    <tr>\n",
       "      <th>19</th>\n",
       "      <td>show me the costs and times for flights from san francisco to atlanta</td>\n",
       "      <td>airfare+flight_time</td>\n",
       "      <td>O O O O O B-flight_time O O O B-fromloc.city_name I-fromloc.city_name O B-toloc.city_name</td>\n",
       "    </tr>\n",
       "    <tr>\n",
       "      <th>20</th>\n",
       "      <td>show me the cheapest fare in the database</td>\n",
       "      <td>cheapest</td>\n",
       "      <td>O O O B-cost_relative O O O O</td>\n",
       "    </tr>\n",
       "    <tr>\n",
       "      <th>21</th>\n",
       "      <td>i want to fly from detroit to st. petersburg on northwest airlines and leave around 9 am tell me what aircraft are used by this flight and tell me the flight number</td>\n",
       "      <td>aircraft+flight+flight_no</td>\n",
       "      <td>O O O O O B-fromloc.city_name O B-toloc.city_name I-toloc.city_name O B-airline_name I-airline_name O O B-depart_time.time_relative B-depart_time.time I-depart_time.time O O O O O O O O O O O O O O O</td>\n",
       "    </tr>\n",
       "  </tbody>\n",
       "</table>\n",
       "</div>"
      ],
      "text/plain": [
       "                                                                                                                                                                     query  \\\n",
       "0    i want to fly from boston at 838 am and arrive in denver at 1110 in the morning                                                                                         \n",
       "1    what is the arrival time in san francisco for the 755 am flight leaving washington                                                                                      \n",
       "2    cheapest airfare from tacoma to orlando                                                                                                                                 \n",
       "3    what kind of aircraft is used on a flight from cleveland to dallas                                                                                                      \n",
       "4    what kind of ground transportation is available in denver                                                                                                               \n",
       "5    what 's the airport at orlando                                                                                                                                          \n",
       "6    which airline serves denver pittsburgh and atlanta                                                                                                                      \n",
       "7    how far is it from orlando airport to orlando                                                                                                                           \n",
       "8    what is fare code h                                                                                                                                                     \n",
       "9    how much does the limousine service cost within pittsburgh                                                                                                              \n",
       "10   please tell me how many nonstop flights there are from boston to atlanta                                                                                                \n",
       "11   what city is the airport mco in                                                                                                                                         \n",
       "12   flight numbers from columbus to minneapolis tomorrow                                                                                                                    \n",
       "13   how many seats in a 100                                                                                                                                                 \n",
       "14   give me the flights and fares on december twenty seventh from indianapolis to orlando                                                                                   \n",
       "15   show me all meals on flights from atlanta to washington                                                                                                                 \n",
       "16   what are the air restrictions on flights from pittsburgh to atlanta for the airfare of 416 dollars                                                                      \n",
       "17   airline and flight number from columbus to minneapolis                                                                                                                  \n",
       "18   what ground transportation is available from the pittsburgh airport to downtown and how much does it cost                                                               \n",
       "19   show me the costs and times for flights from san francisco to atlanta                                                                                                   \n",
       "20   show me the cheapest fare in the database                                                                                                                               \n",
       "21   i want to fly from detroit to st. petersburg on northwest airlines and leave around 9 am tell me what aircraft are used by this flight and tell me the flight number    \n",
       "\n",
       "                        intent  \\\n",
       "0   flight                       \n",
       "1   flight_time                  \n",
       "2   airfare                      \n",
       "3   aircraft                     \n",
       "4   ground_service               \n",
       "5   airport                      \n",
       "6   airline                      \n",
       "7   distance                     \n",
       "8   abbreviation                 \n",
       "9   ground_fare                  \n",
       "10  quantity                     \n",
       "11  city                         \n",
       "12  flight_no                    \n",
       "13  capacity                     \n",
       "14  flight+airfare               \n",
       "15  meal                         \n",
       "16  restriction                  \n",
       "17  airline+flight_no            \n",
       "18  ground_service+ground_fare   \n",
       "19  airfare+flight_time          \n",
       "20  cheapest                     \n",
       "21  aircraft+flight+flight_no    \n",
       "\n",
       "                                                                                                                                                                                                 slot filling  \n",
       "0    O O O O O B-fromloc.city_name O B-depart_time.time I-depart_time.time O O O B-toloc.city_name O B-arrive_time.time O O B-arrive_time.period_of_day                                                        \n",
       "1    O O O B-flight_time I-flight_time O B-fromloc.city_name I-fromloc.city_name O O B-depart_time.time I-depart_time.time O O B-fromloc.city_name                                                             \n",
       "2    B-cost_relative O O B-fromloc.city_name O B-toloc.city_name                                                                                                                                               \n",
       "3    O O O O O O O O O O B-fromloc.city_name O B-toloc.city_name                                                                                                                                               \n",
       "4    O O O O O O O O B-city_name                                                                                                                                                                               \n",
       "5    O O O O O B-city_name                                                                                                                                                                                     \n",
       "6    O O O B-fromloc.city_name B-fromloc.city_name O B-fromloc.city_name                                                                                                                                       \n",
       "7    O O O O O B-fromloc.airport_name I-fromloc.airport_name O B-toloc.city_name                                                                                                                               \n",
       "8    O O O O B-fare_basis_code                                                                                                                                                                                 \n",
       "9    O O O O B-transport_type O O O B-city_name                                                                                                                                                                \n",
       "10   O O O O O B-flight_stop O O O O B-fromloc.city_name O B-toloc.city_name                                                                                                                                   \n",
       "11   O O O O O B-fromloc.airport_code O                                                                                                                                                                        \n",
       "12   O O O B-fromloc.city_name O B-toloc.city_name B-depart_date.today_relative                                                                                                                                \n",
       "13   O O O O O B-aircraft_code                                                                                                                                                                                 \n",
       "14   O O O O O O O B-depart_date.month_name B-depart_date.day_number I-depart_date.day_number O B-fromloc.city_name O B-toloc.city_name                                                                        \n",
       "15   O O O B-meal O O O B-fromloc.city_name O B-toloc.city_name                                                                                                                                                \n",
       "16   O O O O O O O O B-fromloc.city_name O B-toloc.city_name O O O O B-fare_amount I-fare_amount                                                                                                               \n",
       "17   O O O O O B-fromloc.city_name O B-toloc.city_name                                                                                                                                                         \n",
       "18   O O O O O O O B-fromloc.airport_name I-fromloc.airport_name O O O O O O O O                                                                                                                               \n",
       "19   O O O O O B-flight_time O O O B-fromloc.city_name I-fromloc.city_name O B-toloc.city_name                                                                                                                 \n",
       "20   O O O B-cost_relative O O O O                                                                                                                                                                             \n",
       "21   O O O O O B-fromloc.city_name O B-toloc.city_name I-toloc.city_name O B-airline_name I-airline_name O O B-depart_time.time_relative B-depart_time.time I-depart_time.time O O O O O O O O O O O O O O O   "
      ]
     },
     "execution_count": 3,
     "metadata": {},
     "output_type": "execute_result"
    }
   ],
   "source": [
    "# create the sample dataframe with examples of intent to df_small so you can visualize the training inputs\n",
    "# YOUR CODE HERE\n",
    "pd.set_option('display.max_colwidth', -1)\n",
    "df_small = pd.DataFrame(columns=['query','intent','slot filling'])\n",
    "j = 0\n",
    "for i in df_train.intent.unique():\n",
    "  df_small.loc[j] = df_train[df_train.intent==i].iloc[0]\n",
    "  j = j+1\n",
    "df_small"
   ]
  },
  {
   "cell_type": "code",
   "execution_count": null,
   "metadata": {
    "colab": {
     "base_uri": "https://localhost:8080/",
     "height": 1000
    },
    "deletable": false,
    "editable": false,
    "executionInfo": {
     "elapsed": 335,
     "status": "ok",
     "timestamp": 1677215049076,
     "user": {
      "displayName": "Domingo Genao",
      "userId": "16575500860980135990"
     },
     "user_tz": 300
    },
    "id": "vLhrFAkw4yTF",
    "nbgrader": {
     "checksum": "72842d574a796661beae01ffd6b39a45",
     "grade": true,
     "grade_id": "cell-744b3a712d57ff0c",
     "locked": true,
     "points": 1,
     "schema_version": 1,
     "solution": false
    },
    "outputId": "83fd001a-7464-4995-936b-6562b52fb143"
   },
   "outputs": [],
   "source": []
  },
  {
   "cell_type": "markdown",
   "metadata": {
    "deletable": false,
    "editable": false,
    "id": "HIJ-iSTLoM7Z",
    "nbgrader": {
     "checksum": "aeca382735ff5ba1ffad547bbcd1edfb",
     "grade": false,
     "grade_id": "cell-8f4d3077f3138b00",
     "locked": true,
     "schema_version": 1,
     "solution": false
    }
   },
   "source": [
    "Let's see how many different types of \"intent\" are present in the data."
   ]
  },
  {
   "cell_type": "code",
   "execution_count": 4,
   "metadata": {
    "deletable": false,
    "nbgrader": {
     "checksum": "78de28df7ef90b9b419007a17f398009",
     "grade": false,
     "grade_id": "cell-cc82f0f6bb3e64c3",
     "locked": false,
     "schema_version": 1,
     "solution": true
    }
   },
   "outputs": [
    {
     "data": {
      "text/plain": [
       "flight                        3666\n",
       "airfare                       423 \n",
       "ground_service                255 \n",
       "airline                       157 \n",
       "abbreviation                  147 \n",
       "aircraft                      81  \n",
       "flight_time                   54  \n",
       "quantity                      51  \n",
       "flight+airfare                21  \n",
       "airport                       20  \n",
       "distance                      20  \n",
       "city                          19  \n",
       "ground_fare                   18  \n",
       "capacity                      16  \n",
       "flight_no                     12  \n",
       "meal                          6   \n",
       "restriction                   6   \n",
       "airline+flight_no             2   \n",
       "cheapest                      1   \n",
       "aircraft+flight+flight_no     1   \n",
       "ground_service+ground_fare    1   \n",
       "airfare+flight_time           1   \n",
       "Name: intent, dtype: int64"
      ]
     },
     "execution_count": 4,
     "metadata": {},
     "output_type": "execute_result"
    }
   ],
   "source": [
    "#Get the counts for all intents of the train datasets and assign it to variable \"intent_counts\" to be printed\n",
    "\n",
    "# YOUR CODE HERE\n",
    "intent_counts=df_train['intent'].value_counts()\n",
    "intent_counts"
   ]
  },
  {
   "cell_type": "code",
   "execution_count": null,
   "metadata": {
    "colab": {
     "base_uri": "https://localhost:8080/"
    },
    "deletable": false,
    "editable": false,
    "executionInfo": {
     "elapsed": 1096,
     "status": "ok",
     "timestamp": 1677215086808,
     "user": {
      "displayName": "Domingo Genao",
      "userId": "16575500860980135990"
     },
     "user_tz": 300
    },
    "id": "L8URpFrloX9b",
    "nbgrader": {
     "checksum": "439f7d94fa6d6023f44a71e1c97fba4a",
     "grade": true,
     "grade_id": "cell-b3bd09fcbbc89d1b",
     "locked": true,
     "points": 1,
     "schema_version": 1,
     "solution": false
    },
    "outputId": "8832c88c-245e-4bc3-b799-ff34f3d3eb2f"
   },
   "outputs": [],
   "source": []
  },
  {
   "cell_type": "code",
   "execution_count": 5,
   "metadata": {
    "deletable": false,
    "nbgrader": {
     "checksum": "fc4fbeda487ff04cdc2cc610737911b2",
     "grade": false,
     "grade_id": "cell-73f19e232d0f915f",
     "locked": false,
     "schema_version": 1,
     "solution": true
    }
   },
   "outputs": [],
   "source": [
    "# Extract query_data_train, intent_data_train, slot_data_train,\n",
    "#    query_data_test, intent_data_test, slot_data_test from the train and test dataframes\n",
    "\n",
    "# YOUR CODE HERE\n",
    "query_data_train = df_train['query'].values\n",
    "intent_data_train = df_train['intent'].values\n",
    "slot_data_train = df_train['slot filling'].values\n",
    "\n",
    "query_data_test = df_test['query'].values\n",
    "intent_data_test = df_test['intent'].values\n",
    "slot_data_test = df_test['slot filling'].values"
   ]
  },
  {
   "cell_type": "code",
   "execution_count": null,
   "metadata": {
    "deletable": false,
    "editable": false,
    "executionInfo": {
     "elapsed": 503,
     "status": "ok",
     "timestamp": 1677215157049,
     "user": {
      "displayName": "Domingo Genao",
      "userId": "16575500860980135990"
     },
     "user_tz": 300
    },
    "id": "vJM7m-ej_n8F",
    "nbgrader": {
     "checksum": "c933891a91e5832ae59cf7345992bc72",
     "grade": true,
     "grade_id": "cell-0d22c7509f5c87f9",
     "locked": true,
     "points": 1,
     "schema_version": 1,
     "solution": false
    }
   },
   "outputs": [],
   "source": []
  },
  {
   "cell_type": "markdown",
   "metadata": {
    "deletable": false,
    "editable": false,
    "id": "bfAICLPgQym1",
    "nbgrader": {
     "checksum": "e0fe9de775f659e14dffb4e5854fcbc4",
     "grade": false,
     "grade_id": "cell-aee586687bc114c9",
     "locked": true,
     "schema_version": 1,
     "solution": false
    }
   },
   "source": [
    "We briefly mentioned what the difference were between slot filling and intent in the introduction, but is worth going into more detail.\n",
    "\n",
    "As an example, let’s consider the user query “*i want to fly from boston at 838 am and arrive in denver at 1110 in the morning*”. The model should classify this user query as “**flight**” intent. It should also parse the query, identify and fill all slots necessary for understanding the query. Although the words “I”, “want”, “to”, “fly”, “from”, “at”, “and”, “arrive”, “in”, “the” contribute to understand the context of the intent, the model should correctly label the entities needed to fulfill user’s goal in its intention to take a flight. These are “boston” as departure city (B-fromloc.city), “8:38 am” as departure time (B-depart_time.time), “denver” as destination city (B-toloc.city_name), “11:10” as arrival time (B-arrive_time.time) and “morning” as arrival period of day (B-arrive_time.period_of_day). The 123 slot categories are shown below."
   ]
  },
  {
   "cell_type": "code",
   "execution_count": 6,
   "metadata": {
    "deletable": false,
    "nbgrader": {
     "checksum": "dea6fc77ec9cc9c06b87f6d1f0f7f86e",
     "grade": false,
     "grade_id": "cell-53f178f13453634f",
     "locked": false,
     "schema_version": 1,
     "solution": true
    }
   },
   "outputs": [
    {
     "data": {
      "text/plain": [
       "{'B-aircraft_code',\n",
       " 'B-airline_code',\n",
       " 'B-airline_name',\n",
       " 'B-airport_code',\n",
       " 'B-airport_name',\n",
       " 'B-arrive_date.date_relative',\n",
       " 'B-arrive_date.day_name',\n",
       " 'B-arrive_date.day_number',\n",
       " 'B-arrive_date.month_name',\n",
       " 'B-arrive_date.today_relative',\n",
       " 'B-arrive_time.end_time',\n",
       " 'B-arrive_time.period_mod',\n",
       " 'B-arrive_time.period_of_day',\n",
       " 'B-arrive_time.start_time',\n",
       " 'B-arrive_time.time',\n",
       " 'B-arrive_time.time_relative',\n",
       " 'B-city_name',\n",
       " 'B-class_type',\n",
       " 'B-connect',\n",
       " 'B-cost_relative',\n",
       " 'B-day_name',\n",
       " 'B-day_number',\n",
       " 'B-days_code',\n",
       " 'B-depart_date.date_relative',\n",
       " 'B-depart_date.day_name',\n",
       " 'B-depart_date.day_number',\n",
       " 'B-depart_date.month_name',\n",
       " 'B-depart_date.today_relative',\n",
       " 'B-depart_date.year',\n",
       " 'B-depart_time.end_time',\n",
       " 'B-depart_time.period_mod',\n",
       " 'B-depart_time.period_of_day',\n",
       " 'B-depart_time.start_time',\n",
       " 'B-depart_time.time',\n",
       " 'B-depart_time.time_relative',\n",
       " 'B-economy',\n",
       " 'B-fare_amount',\n",
       " 'B-fare_basis_code',\n",
       " 'B-flight_days',\n",
       " 'B-flight_mod',\n",
       " 'B-flight_number',\n",
       " 'B-flight_stop',\n",
       " 'B-flight_time',\n",
       " 'B-fromloc.airport_code',\n",
       " 'B-fromloc.airport_name',\n",
       " 'B-fromloc.city_name',\n",
       " 'B-fromloc.state_code',\n",
       " 'B-fromloc.state_name',\n",
       " 'B-meal',\n",
       " 'B-meal_code',\n",
       " 'B-meal_description',\n",
       " 'B-mod',\n",
       " 'B-month_name',\n",
       " 'B-or',\n",
       " 'B-period_of_day',\n",
       " 'B-restriction_code',\n",
       " 'B-return_date.date_relative',\n",
       " 'B-return_date.day_name',\n",
       " 'B-return_date.day_number',\n",
       " 'B-return_date.month_name',\n",
       " 'B-return_date.today_relative',\n",
       " 'B-return_time.period_mod',\n",
       " 'B-return_time.period_of_day',\n",
       " 'B-round_trip',\n",
       " 'B-state_code',\n",
       " 'B-state_name',\n",
       " 'B-stoploc.airport_name',\n",
       " 'B-stoploc.city_name',\n",
       " 'B-stoploc.state_code',\n",
       " 'B-time',\n",
       " 'B-time_relative',\n",
       " 'B-today_relative',\n",
       " 'B-toloc.airport_code',\n",
       " 'B-toloc.airport_name',\n",
       " 'B-toloc.city_name',\n",
       " 'B-toloc.country_name',\n",
       " 'B-toloc.state_code',\n",
       " 'B-toloc.state_name',\n",
       " 'B-transport_type',\n",
       " 'I-airline_name',\n",
       " 'I-airport_name',\n",
       " 'I-arrive_date.day_number',\n",
       " 'I-arrive_time.end_time',\n",
       " 'I-arrive_time.period_of_day',\n",
       " 'I-arrive_time.start_time',\n",
       " 'I-arrive_time.time',\n",
       " 'I-arrive_time.time_relative',\n",
       " 'I-city_name',\n",
       " 'I-class_type',\n",
       " 'I-cost_relative',\n",
       " 'I-depart_date.day_name',\n",
       " 'I-depart_date.day_number',\n",
       " 'I-depart_date.today_relative',\n",
       " 'I-depart_time.end_time',\n",
       " 'I-depart_time.period_of_day',\n",
       " 'I-depart_time.start_time',\n",
       " 'I-depart_time.time',\n",
       " 'I-depart_time.time_relative',\n",
       " 'I-economy',\n",
       " 'I-fare_amount',\n",
       " 'I-fare_basis_code',\n",
       " 'I-flight_mod',\n",
       " 'I-flight_stop',\n",
       " 'I-flight_time',\n",
       " 'I-fromloc.airport_name',\n",
       " 'I-fromloc.city_name',\n",
       " 'I-fromloc.state_name',\n",
       " 'I-meal_code',\n",
       " 'I-meal_description',\n",
       " 'I-mod',\n",
       " 'I-restriction_code',\n",
       " 'I-return_date.date_relative',\n",
       " 'I-return_date.day_number',\n",
       " 'I-return_date.today_relative',\n",
       " 'I-round_trip',\n",
       " 'I-stoploc.city_name',\n",
       " 'I-time',\n",
       " 'I-today_relative',\n",
       " 'I-toloc.airport_name',\n",
       " 'I-toloc.city_name',\n",
       " 'I-toloc.state_name',\n",
       " 'I-transport_type',\n",
       " 'O'}"
      ]
     },
     "execution_count": 6,
     "metadata": {},
     "output_type": "execute_result"
    }
   ],
   "source": [
    "# Gather all the unique slots and put them in the set called \"unique_slots\"\n",
    "\n",
    "# YOUR CODE HERE\n",
    "unique_slots = set()\n",
    "for s in slot_data_train:\n",
    "  unique_slots = unique_slots.union(set(s.split()))\n",
    "unique_slots"
   ]
  },
  {
   "cell_type": "code",
   "execution_count": null,
   "metadata": {
    "colab": {
     "base_uri": "https://localhost:8080/"
    },
    "deletable": false,
    "editable": false,
    "executionInfo": {
     "elapsed": 339,
     "status": "ok",
     "timestamp": 1677215281942,
     "user": {
      "displayName": "Domingo Genao",
      "userId": "16575500860980135990"
     },
     "user_tz": 300
    },
    "id": "14lT-eE-6i3j",
    "nbgrader": {
     "checksum": "9c67981578955d3ab5990188af0c26df",
     "grade": true,
     "grade_id": "cell-bbf8c29bfccf00fa",
     "locked": true,
     "points": 1,
     "schema_version": 1,
     "solution": false
    },
    "outputId": "2ebecf79-e606-428b-d443-815f93cdc51d"
   },
   "outputs": [],
   "source": []
  },
  {
   "cell_type": "code",
   "execution_count": 7,
   "metadata": {
    "colab": {
     "base_uri": "https://localhost:8080/"
    },
    "deletable": false,
    "editable": false,
    "executionInfo": {
     "elapsed": 341,
     "status": "ok",
     "timestamp": 1677215293950,
     "user": {
      "displayName": "Domingo Genao",
      "userId": "16575500860980135990"
     },
     "user_tz": 300
    },
    "id": "Nzi6TzChDYDX",
    "nbgrader": {
     "checksum": "11d0ac8e936b9d950d8548104ea46474",
     "grade": false,
     "grade_id": "cell-e28afa0a2f2d10db",
     "locked": true,
     "schema_version": 1,
     "solution": false
    },
    "outputId": "3d794f42-8249-4704-cfd5-3a25dbdb1fd8"
   },
   "outputs": [
    {
     "data": {
      "text/plain": [
       "123"
      ]
     },
     "execution_count": 7,
     "metadata": {},
     "output_type": "execute_result"
    }
   ],
   "source": [
    "len(unique_slots)"
   ]
  },
  {
   "cell_type": "markdown",
   "metadata": {
    "deletable": false,
    "editable": false,
    "id": "khtDWvcGwTeJ",
    "nbgrader": {
     "checksum": "ace784ea61a403d741c8f45bbfccf24f",
     "grade": false,
     "grade_id": "cell-0afa3dd085ac82ac",
     "locked": true,
     "schema_version": 1,
     "solution": false
    }
   },
   "source": [
    "**123 slot categories!!**"
   ]
  },
  {
   "cell_type": "markdown",
   "metadata": {
    "deletable": false,
    "editable": false,
    "id": "YcAtzt_annnq",
    "nbgrader": {
     "checksum": "dbd3faeb8c086144a000a67ece113622",
     "grade": false,
     "grade_id": "cell-5901108729959a19",
     "locked": true,
     "schema_version": 1,
     "solution": false
    }
   },
   "source": [
    "## Transformers\n",
    "\n",
    "\n",
    "\n"
   ]
  },
  {
   "cell_type": "markdown",
   "metadata": {
    "deletable": false,
    "editable": false,
    "id": "TAoHWpgsn5oX",
    "nbgrader": {
     "checksum": "f2e1e08b923cb640e1c15931535b9c40",
     "grade": false,
     "grade_id": "cell-56146bbf5765c58a",
     "locked": true,
     "schema_version": 1,
     "solution": false
    }
   },
   "source": [
    "### Explain the attention mechanism\n",
    "\n"
   ]
  },
  {
   "cell_type": "markdown",
   "metadata": {
    "deletable": false,
    "editable": false,
    "id": "_NQeCvTbcAAN",
    "nbgrader": {
     "checksum": "d7a361bacdf013369daeb95ca1527be7",
     "grade": false,
     "grade_id": "cell-a2141985b8dedfd1",
     "locked": true,
     "schema_version": 1,
     "solution": false
    }
   },
   "source": [
    "### Encoder Model\n",
    "\n"
   ]
  },
  {
   "cell_type": "markdown",
   "metadata": {
    "deletable": false,
    "editable": false,
    "id": "qTU22oQnpo6p",
    "nbgrader": {
     "checksum": "65638aef1ebea9c608f140a8a8f4fae3",
     "grade": false,
     "grade_id": "cell-eb1d97281cde61eb",
     "locked": true,
     "schema_version": 1,
     "solution": false
    }
   },
   "source": [
    "Because the code for transformer encoder architecture is a bit complicated to write, we have decided to package it. This means that you can import it directly from our own \"library\" (in the same way you do it for Keras layers).\n"
   ]
  },
  {
   "cell_type": "code",
   "execution_count": 9,
   "metadata": {
    "colab": {
     "base_uri": "https://localhost:8080/",
     "height": 341
    },
    "deletable": false,
    "executionInfo": {
     "elapsed": 1076,
     "status": "error",
     "timestamp": 1677217570584,
     "user": {
      "displayName": "Domingo Genao",
      "userId": "16575500860980135990"
     },
     "user_tz": 300
    },
    "id": "Bms2Np84XkZw",
    "nbgrader": {
     "checksum": "67ad41d91a3209b087b27e973f992356",
     "grade": false,
     "grade_id": "cell-2dd0ad2cc870b1d0",
     "locked": false,
     "schema_version": 1,
     "solution": true
    },
    "outputId": "d5ec2d24-f456-4cbe-f623-a24661b7c412"
   },
   "outputs": [],
   "source": [
    "# Import the transformer encoder and the positional embedding\n",
    "\n",
    "# YOUR CODE HERE\n",
    "import tensorflow as tf\n",
    "from tensorflow import keras\n",
    "from tensorflow.keras import layers\n",
    "from tensorflow.keras.layers import Input, Embedding, Dense, Dropout, MultiHeadAttention, LayerNormalization\n",
    "from tensorflow.keras import Model, Sequential\n",
    "class TransformerEncoder(layers.Layer):\n",
    "    def __init__(self, embed_dim, dense_dim, num_heads, **kwargs):\n",
    "        super().__init__(**kwargs)\n",
    "        self.embed_dim = embed_dim\n",
    "        self.dense_dim = dense_dim\n",
    "        self.num_heads = num_heads\n",
    "        self.attention = MultiHeadAttention(\n",
    "            num_heads=num_heads, key_dim=embed_dim)\n",
    "        self.dense_proj = Sequential(\n",
    "            [layers.Dense(dense_dim, activation=\"relu\"),\n",
    "             layers.Dense(embed_dim),]\n",
    "        )\n",
    "        self.layernorm_1 = LayerNormalization()\n",
    "        self.layernorm_2 = LayerNormalization()\n",
    "        \n",
    "    def call(self, inputs, mask=None):\n",
    "        if mask is not None:\n",
    "            mask = mask[:, tf.newaxis, :]\n",
    "        attention_output = self.attention(\n",
    "            inputs, inputs, attention_mask=mask)\n",
    "        proj_input = self.layernorm_1(inputs + attention_output)\n",
    "        proj_output = self.dense_proj(proj_input)\n",
    "        return self.layernorm_2(proj_input + proj_output)\n",
    "  \n",
    "    def get_config(self):\n",
    "        config = super().get_config()\n",
    "        config.update({\n",
    "            \"embed_dim\": self.embed_dim,\n",
    "            \"num_heads\": self.num_heads,\n",
    "            \"dense_dim\": self.dense_dim,\n",
    "        })\n",
    "        return config\n",
    "\n",
    "\n",
    "class PositionalEmbedding(layers.Layer):\n",
    "    def __init__(self, sequence_length, input_dim, output_dim, **kwargs):\n",
    "        super().__init__(**kwargs)\n",
    "        self.token_embeddings = Embedding(\n",
    "            input_dim=input_dim, output_dim=output_dim, mask_zero=True)\n",
    "        self.position_embeddings = Embedding(\n",
    "            input_dim=sequence_length, output_dim=output_dim, mask_zero=True)\n",
    "        self.sequence_length = sequence_length\n",
    "        self.input_dim = input_dim\n",
    "        self.output_dim = output_dim\n",
    "  \n",
    "    def call(self, inputs):\n",
    "        length = tf.shape(inputs)[-1]\n",
    "        positions = tf.range(start=0, limit=length, delta=1)\n",
    "        embedded_tokens = self.token_embeddings(inputs)\n",
    "        embedded_positions = self.position_embeddings(positions)\n",
    "        return embedded_tokens + embedded_positions\n",
    " \n",
    "    def compute_mask(self, inputs, mask=None):\n",
    "        return tf.math.not_equal(inputs, 0)\n",
    " \n",
    "    def get_config(self):\n",
    "        config = super().get_config()\n",
    "        config.update({\n",
    "            \"output_dim\": self.output_dim,\n",
    "            \"sequence_length\": self.sequence_length,\n",
    "            \"input_dim\": self.input_dim,\n",
    "        })\n",
    "        return config\n",
    "\n",
    "\n",
    "class TransformerDecoder(layers.Layer):\n",
    "    def __init__(self, embed_dim, dense_dim, num_heads, **kwargs):\n",
    "        super().__init__(**kwargs)\n",
    "        self.embed_dim = embed_dim\n",
    "        self.dense_dim = dense_dim\n",
    "        self.num_heads = num_heads\n",
    "        self.attention_1 = layers.MultiHeadAttention(\n",
    "            num_heads=num_heads, key_dim=embed_dim)\n",
    "        self.attention_2 = layers.MultiHeadAttention(\n",
    "            num_heads=num_heads, key_dim=embed_dim)\n",
    "        self.dense_proj = keras.Sequential(\n",
    "            [layers.Dense(dense_dim, activation=\"relu\"),\n",
    "             layers.Dense(embed_dim),]\n",
    "        )\n",
    "        self.layernorm_1 = layers.LayerNormalization()\n",
    "        self.layernorm_2 = layers.LayerNormalization()\n",
    "        self.layernorm_3 = layers.LayerNormalization()\n",
    "        self.supports_masking = True\n",
    "  \n",
    "    def get_config(self):\n",
    "        config = super().get_config()\n",
    "        config.update({\n",
    "            \"embed_dim\": self.embed_dim,\n",
    "            \"num_heads\": self.num_heads,\n",
    "            \"dense_dim\": self.dense_dim,\n",
    "        })\n",
    "        return config\n",
    "\n",
    "    def get_causal_attention_mask(self, inputs):\n",
    "        input_shape = tf.shape(inputs)\n",
    "        batch_size, sequence_length = input_shape[0], input_shape[1]\n",
    "        i = tf.range(sequence_length)[:, tf.newaxis]\n",
    "        j = tf.range(sequence_length)\n",
    "        mask = tf.cast(i >= j, dtype=\"int32\")\n",
    "        mask = tf.reshape(mask, (1, input_shape[1], input_shape[1]))\n",
    "        mult = tf.concat(\n",
    "            [tf.expand_dims(batch_size, -1),\n",
    "             tf.constant([1, 1], dtype=tf.int32)], axis=0)\n",
    "        return tf.tile(mask, mult)\n",
    "\n",
    "    def call(self, inputs, encoder_outputs, mask=None):\n",
    "        causal_mask = self.get_causal_attention_mask(inputs)\n",
    "        if mask is not None:\n",
    "            padding_mask = tf.cast(\n",
    "                mask[:, tf.newaxis, :], dtype=\"int32\")\n",
    "            padding_mask = tf.minimum(padding_mask, causal_mask)\n",
    "        attention_output_1 = self.attention_1(\n",
    "            query=inputs,\n",
    "            value=inputs,\n",
    "            key=inputs,\n",
    "            attention_mask=causal_mask\n",
    "            )\n",
    "        attention_output_1 = self.layernorm_1(inputs + attention_output_1)\n",
    "        attention_output_2 = self.attention_2(\n",
    "            query=attention_output_1,\n",
    "            value=encoder_outputs,\n",
    "            key=encoder_outputs\n",
    "        )\n",
    "        attention_output_2 = self.layernorm_2(\n",
    "            attention_output_1 + attention_output_2)\n",
    "        proj_output = self.dense_proj(attention_output_2)\n",
    "        return self.layernorm_3(attention_output_2 + proj_output)"
   ]
  },
  {
   "cell_type": "code",
   "execution_count": 10,
   "metadata": {
    "colab": {
     "base_uri": "https://localhost:8080/"
    },
    "deletable": false,
    "editable": false,
    "executionInfo": {
     "elapsed": 170,
     "status": "ok",
     "timestamp": 1652987923138,
     "user": {
      "displayName": "Vivek Farias",
      "userId": "06849851968315949902"
     },
     "user_tz": 240
    },
    "id": "oWYzkeuVy56d",
    "nbgrader": {
     "checksum": "513d011114b49e44516ea14763ed7ba6",
     "grade": false,
     "grade_id": "cell-03b8d7aacc60e938",
     "locked": true,
     "schema_version": 1,
     "solution": false
    },
    "outputId": "3139ce21-38fb-47a5-e6d6-de718d2044e8"
   },
   "outputs": [
    {
     "data": {
      "text/plain": [
       "array([' i want to fly from boston at 838 am and arrive in denver at 1110 in the morning ',\n",
       "       ' what flights are available from pittsburgh to baltimore on thursday morning ',\n",
       "       ' what is the arrival time in san francisco for the 755 am flight leaving washington ',\n",
       "       ' cheapest airfare from tacoma to orlando ',\n",
       "       ' round trip fares from pittsburgh to philadelphia under 1000 dollars '],\n",
       "      dtype=object)"
      ]
     },
     "execution_count": 10,
     "metadata": {},
     "output_type": "execute_result"
    }
   ],
   "source": [
    "query_data_train[:5]"
   ]
  },
  {
   "cell_type": "code",
   "execution_count": 11,
   "metadata": {
    "colab": {
     "base_uri": "https://localhost:8080/"
    },
    "deletable": false,
    "editable": false,
    "executionInfo": {
     "elapsed": 457,
     "status": "ok",
     "timestamp": 1652987941147,
     "user": {
      "displayName": "Vivek Farias",
      "userId": "06849851968315949902"
     },
     "user_tz": 240
    },
    "id": "tUiQlh2ty2Qc",
    "nbgrader": {
     "checksum": "8e8e983eb3b0189be33f7df260e27b32",
     "grade": false,
     "grade_id": "cell-5ec1952576374293",
     "locked": true,
     "schema_version": 1,
     "solution": false
    },
    "outputId": "716c7849-2311-4b63-9186-b436b9d19179"
   },
   "outputs": [
    {
     "data": {
      "text/plain": [
       "array([' O O O O O B-fromloc.city_name O B-depart_time.time I-depart_time.time O O O B-toloc.city_name O B-arrive_time.time O O B-arrive_time.period_of_day ',\n",
       "       ' O O O O O B-fromloc.city_name O B-toloc.city_name O B-depart_date.day_name B-depart_time.period_of_day ',\n",
       "       ' O O O B-flight_time I-flight_time O B-fromloc.city_name I-fromloc.city_name O O B-depart_time.time I-depart_time.time O O B-fromloc.city_name ',\n",
       "       ' B-cost_relative O O B-fromloc.city_name O B-toloc.city_name ',\n",
       "       ' B-round_trip I-round_trip O O B-fromloc.city_name O B-toloc.city_name B-cost_relative B-fare_amount I-fare_amount '],\n",
       "      dtype=object)"
      ]
     },
     "execution_count": 11,
     "metadata": {},
     "output_type": "execute_result"
    }
   ],
   "source": [
    "slot_data_train[:5]"
   ]
  },
  {
   "cell_type": "code",
   "execution_count": 12,
   "metadata": {
    "deletable": false,
    "id": "ma9COj0675XG",
    "nbgrader": {
     "checksum": "b7534ff5bb3207a91a5562e799caf96a",
     "grade": false,
     "grade_id": "cell-3e4cec4d2c2d3fcd",
     "locked": false,
     "schema_version": 1,
     "solution": true
    }
   },
   "outputs": [],
   "source": [
    "# Set the max_query_length to 30 to start\n",
    "\n",
    "# YOUR CODE HERE\n",
    "max_query_length = 30\n",
    "\n",
    "# Textvec of slots. Assign this to \"text_vectorization_slots\"\n",
    "# YOUR CODE HERE\n",
    "text_vectorization_slots = keras.layers.TextVectorization(\n",
    "    output_sequence_length=max_query_length,\n",
    "    standardize=None\n",
    ")\n",
    "text_vectorization_slots.adapt(slot_data_train)\n",
    "\n",
    "# Adapt the slot training data\n",
    "# YOUR CODE HERE\n",
    "slot_vocab_size = text_vectorization_slots.vocabulary_size()\n",
    "\n",
    "target_train = text_vectorization_slots(slot_data_train)\n",
    "target_test = text_vectorization_slots(slot_data_test)\n",
    "\n",
    "# Assign the number of slots to slot_vocab_size\n",
    "# YOUR CODE HERE\n",
    "text_vectorization_query = keras.layers.TextVectorization(\n",
    "    output_sequence_length=max_query_length\n",
    ")\n",
    "text_vectorization_query.adapt(query_data_train)\n",
    "query_vocab_size = text_vectorization_query.vocabulary_size()\n",
    "\n",
    "source_train = text_vectorization_query(query_data_train)\n",
    "source_test = text_vectorization_query(query_data_test)\n"
   ]
  },
  {
   "cell_type": "code",
   "execution_count": null,
   "metadata": {
    "deletable": false,
    "editable": false,
    "nbgrader": {
     "checksum": "ca751300b2d167fd0841ba446d6fcffe",
     "grade": true,
     "grade_id": "cell-ed3694f941fd29cc",
     "locked": true,
     "points": 2,
     "schema_version": 1,
     "solution": false
    }
   },
   "outputs": [],
   "source": []
  },
  {
   "cell_type": "code",
   "execution_count": 13,
   "metadata": {
    "colab": {
     "base_uri": "https://localhost:8080/"
    },
    "deletable": false,
    "executionInfo": {
     "elapsed": 540,
     "status": "ok",
     "timestamp": 1652988471828,
     "user": {
      "displayName": "Vivek Farias",
      "userId": "06849851968315949902"
     },
     "user_tz": 240
    },
    "id": "w5lT0qaD7wB1",
    "nbgrader": {
     "checksum": "42d43bd4f89205be29929be8f3f37325",
     "grade": false,
     "grade_id": "cell-d533ff53322b2204",
     "locked": false,
     "schema_version": 1,
     "solution": true
    },
    "outputId": "90403c71-e41a-4a43-e76c-f569ff40d889"
   },
   "outputs": [
    {
     "name": "stdout",
     "output_type": "stream",
     "text": [
      "Model: \"model\"\n",
      "_________________________________________________________________\n",
      "Layer (type)                 Output Shape              Param #   \n",
      "=================================================================\n",
      "input_1 (InputLayer)         [(None, 30)]              0         \n",
      "_________________________________________________________________\n",
      "positional_embedding (Positi (None, 30, 512)           470016    \n",
      "_________________________________________________________________\n",
      "transformer_encoder (Transfo (None, 30, 512)           5319232   \n",
      "_________________________________________________________________\n",
      "dense_2 (Dense)              (None, 30, 128)           65664     \n",
      "_________________________________________________________________\n",
      "dropout (Dropout)            (None, 30, 128)           0         \n",
      "_________________________________________________________________\n",
      "dense_3 (Dense)              (None, 30, 125)           16125     \n",
      "=================================================================\n",
      "Total params: 5,871,037\n",
      "Trainable params: 5,871,037\n",
      "Non-trainable params: 0\n",
      "_________________________________________________________________\n"
     ]
    }
   ],
   "source": [
    "# Params\n",
    "embedding_dim = 512\n",
    "encoder_units = 64\n",
    "units = 128\n",
    "num_heads = 5\n",
    "\n",
    "# Embedding and Masking\n",
    "inputs = keras.Input(shape=(max_query_length,))\n",
    "embedding = PositionalEmbedding(max_query_length, query_vocab_size, embedding_dim)\n",
    "x = embedding(inputs)\n",
    "\n",
    "# Transformer Encoding\n",
    "encoder_out = TransformerEncoder(embedding_dim, encoder_units, num_heads)(x)\n",
    "\n",
    "# Classifier\n",
    "x = keras.layers.Dense(units, activation='relu')(encoder_out)\n",
    "x = keras.layers.Dropout(0.5)(x)\n",
    "outputs = keras.layers.Dense(slot_vocab_size, activation=\"softmax\")(x)\n",
    "\n",
    "model = keras.Model(inputs, outputs)\n",
    "model.summary()"
   ]
  },
  {
   "cell_type": "code",
   "execution_count": null,
   "metadata": {
    "deletable": false,
    "editable": false,
    "nbgrader": {
     "checksum": "74365467eec13fb49bca4a3ecbf2a672",
     "grade": true,
     "grade_id": "cell-a8cb48ca1abf9926",
     "locked": true,
     "points": 2,
     "schema_version": 1,
     "solution": false
    }
   },
   "outputs": [],
   "source": []
  },
  {
   "cell_type": "code",
   "execution_count": 14,
   "metadata": {
    "deletable": false,
    "id": "fuDpwFcb8Diz",
    "nbgrader": {
     "checksum": "c3f0543c6b5f984468895a2342ff8ab3",
     "grade": false,
     "grade_id": "cell-6dda9bc3e6ac9ca9",
     "locked": false,
     "schema_version": 1,
     "solution": true
    }
   },
   "outputs": [],
   "source": [
    "# Compile your model\n",
    "# YOUR CODE HERE\n",
    "model.compile(optimizer=\"adam\",\n",
    "              loss=\"sparse_categorical_crossentropy\",\n",
    "              metrics=[\"sparse_categorical_accuracy\"])\n"
   ]
  },
  {
   "cell_type": "code",
   "execution_count": null,
   "metadata": {
    "colab": {
     "base_uri": "https://localhost:8080/"
    },
    "deletable": false,
    "executionInfo": {
     "elapsed": 24507,
     "status": "ok",
     "timestamp": 1652988522353,
     "user": {
      "displayName": "Vivek Farias",
      "userId": "06849851968315949902"
     },
     "user_tz": 240
    },
    "id": "XtC7kzdDdMqG",
    "nbgrader": {
     "checksum": "7f5c3be91c824600dbba65bf43128871",
     "grade": false,
     "grade_id": "cell-0ce7e14d9abad00b",
     "locked": false,
     "schema_version": 1,
     "solution": true
    },
    "outputId": "4c7bd627-7165-44d0-f11a-1bcfa9f35af6"
   },
   "outputs": [
    {
     "name": "stdout",
     "output_type": "stream",
     "text": [
      "Epoch 1/10\n",
      "77/78 [============================>.] - ETA: 1s - loss: 0.5012 - sparse_categorical_accuracy: 0.8985"
     ]
    }
   ],
   "source": [
    "# Set the batch size to 64 and epochs to 10 to start\n",
    "# YOUR CODE HERE\n",
    "BATCH_SIZE = 64\n",
    "epochs = 10\n",
    "\n",
    "# Fit\n",
    "history = model.fit(source_train, target_train,\n",
    "                 batch_size=BATCH_SIZE,\n",
    "                 epochs=epochs)"
   ]
  },
  {
   "cell_type": "code",
   "execution_count": null,
   "metadata": {
    "colab": {
     "base_uri": "https://localhost:8080/"
    },
    "deletable": false,
    "executionInfo": {
     "elapsed": 750,
     "status": "ok",
     "timestamp": 1652988529810,
     "user": {
      "displayName": "Vivek Farias",
      "userId": "06849851968315949902"
     },
     "user_tz": 240
    },
    "id": "epn7rEY2Qgih",
    "nbgrader": {
     "checksum": "20aba08ab307a680ff81005006afc12d",
     "grade": false,
     "grade_id": "cell-9b2a7e3c1bc3fde7",
     "locked": false,
     "schema_version": 1,
     "solution": true
    },
    "outputId": "c671370b-95f8-4ca7-ef1a-3aee05b81203"
   },
   "outputs": [],
   "source": [
    "# define slot_filling_accuracy function\n",
    "# YOUR CODE HERE\n",
    "def slot_filling_accuracy(actual, predicted, only_slots=False):\n",
    "  not_padding = np.not_equal(actual, 0) #+ np.not_equal(predicted, 0)\n",
    "\n",
    "  if only_slots:\n",
    "    non_slot_token = text_vectorization_slots(['O']).numpy()[0, 0]\n",
    "    slots = np.not_equal(actual, non_slot_token)\n",
    "    correct_predictions = np.equal(actual, predicted)[not_padding * slots]\n",
    "  else:\n",
    "    correct_predictions = np.equal(actual, predicted)[not_padding]\n",
    "\n",
    "  sample_length = len(correct_predictions)\n",
    "\n",
    "  weights = np.ones(sample_length)\n",
    "\n",
    "  return np.dot(correct_predictions, weights) / sample_length\n",
    "\n",
    "predicted = np.argmax(model.predict(source_test), axis=-1).reshape(-1)\n",
    "actual = target_test.numpy().reshape(-1)\n",
    "\n",
    "acc = slot_filling_accuracy(actual, predicted, only_slots=False)\n",
    "acc_slots = slot_filling_accuracy(actual, predicted, only_slots=True)\n",
    "\n",
    "print(f'Accuracy = {acc:.3f}')\n",
    "print(f'Accuracy on slots = {acc_slots:.3f}')"
   ]
  },
  {
   "cell_type": "code",
   "execution_count": null,
   "metadata": {
    "deletable": false,
    "editable": false,
    "nbgrader": {
     "checksum": "7d14f355f49f5d0aaf68eac30b86b2a9",
     "grade": true,
     "grade_id": "cell-434ffbd20384aa4f",
     "locked": true,
     "points": 2,
     "schema_version": 1,
     "solution": false
    }
   },
   "outputs": [],
   "source": []
  },
  {
   "cell_type": "markdown",
   "metadata": {
    "deletable": false,
    "editable": false,
    "id": "RbKQV0LGhI__",
    "nbgrader": {
     "checksum": "06fbf6505e2b12475c74848f15ea5d34",
     "grade": false,
     "grade_id": "cell-952c3b22f89bebce",
     "locked": true,
     "schema_version": 1,
     "solution": false
    }
   },
   "source": [
    "Now we get 92% accuracy on the slots and 97% accuracy in general. This is so much better!!\n",
    "\n",
    "Let's see some examples:"
   ]
  },
  {
   "cell_type": "code",
   "execution_count": null,
   "metadata": {
    "colab": {
     "base_uri": "https://localhost:8080/"
    },
    "deletable": false,
    "executionInfo": {
     "elapsed": 602,
     "status": "ok",
     "timestamp": 1652903886155,
     "user": {
      "displayName": "Vivek Farias",
      "userId": "06849851968315949902"
     },
     "user_tz": 300
    },
    "id": "WuWqtUjXP6FM",
    "nbgrader": {
     "checksum": "fe34e15ee24472cb33a76f2fe3eb0734",
     "grade": false,
     "grade_id": "cell-e0cbcee42c1da9ca",
     "locked": false,
     "schema_version": 1,
     "solution": true
    },
    "outputId": "2d072f83-3fe6-4554-c8eb-3b9e8a83c312"
   },
   "outputs": [],
   "source": [
    "# Define the predict_slots_query() function which takes in a query\n",
    "# YOUR CODE HERE\n",
    "def predict_slots_query(query):\n",
    "  sentence = text_vectorization_query([query])\n",
    "\n",
    "  prediction = np.argmax(model.predict(sentence), axis=-1)[0]\n",
    "\n",
    "  inverse_vocab = dict(enumerate(text_vectorization_slots.get_vocabulary()))\n",
    "  decoded_prediction = \" \".join(inverse_vocab[int(i)] for i in prediction)\n",
    "  return decoded_prediction\n",
    "examples = [\n",
    "            'from los angeles',\n",
    "            'to los angeles',\n",
    "            'from boston',\n",
    "            'to boston',\n",
    "            'cheapest flight from boston to los angeles tomorrow',\n",
    "            'what is the airport at orlando',\n",
    "            'what are the air restrictions on flights from pittsburgh to atlanta for the airfare of 416 dollars',\n",
    "            'flight from boston to santiago',\n",
    "            'flight boston to santiago'\n",
    "]\n",
    "\n",
    "for e in examples:\n",
    "  print(e)\n",
    "  print(predict_slots_query(e))\n",
    "  print()"
   ]
  },
  {
   "cell_type": "markdown",
   "metadata": {
    "deletable": false,
    "editable": false,
    "id": "XTN8GEychT4o",
    "nbgrader": {
     "checksum": "4068bdcff602a94b234350f1be566797",
     "grade": false,
     "grade_id": "cell-83816d28128c7473",
     "locked": true,
     "schema_version": 1,
     "solution": false
    }
   },
   "source": [
    "Even though 'Santiago' is not a city that is present in the training data set, it is still capable of recognizing it as a destination city name just by context! This is the power of the attention mechanism of transformers."
   ]
  },
  {
   "cell_type": "markdown",
   "metadata": {
    "deletable": false,
    "editable": false,
    "id": "uacN-EI_iJC3",
    "nbgrader": {
     "checksum": "41ba40dc1144a304d989d34a539d53a7",
     "grade": false,
     "grade_id": "cell-248a5a2b92e619a3",
     "locked": true,
     "schema_version": 1,
     "solution": false
    }
   },
   "source": [
    "Can we get even better accuracy if we train for longer? Let's try!"
   ]
  },
  {
   "cell_type": "code",
   "execution_count": null,
   "metadata": {
    "colab": {
     "base_uri": "https://localhost:8080/"
    },
    "deletable": false,
    "executionInfo": {
     "elapsed": 33695,
     "status": "ok",
     "timestamp": 1649460922490,
     "user": {
      "displayName": "Patricio Foncea Araneda",
      "userId": "06631388810550008805"
     },
     "user_tz": 240
    },
    "id": "vNYEbhK5Q9pR",
    "nbgrader": {
     "checksum": "be9b7668382ead4b685a05a6d95f50f9",
     "grade": false,
     "grade_id": "cell-7c252040d4b941fd",
     "locked": false,
     "schema_version": 1,
     "solution": true
    },
    "outputId": "a2fed8f4-4112-41cb-e6f8-268c854aa73b"
   },
   "outputs": [],
   "source": [
    "# Try to change parameters to get your accuracy up\n",
    "# YOUR CODE HERE\n",
    "epochs = 20\n",
    "\n",
    "# Fit\n",
    "history = model.fit(source_train, target_train,\n",
    "                 batch_size=BATCH_SIZE,\n",
    "                 epochs=epochs)"
   ]
  },
  {
   "cell_type": "code",
   "execution_count": null,
   "metadata": {
    "colab": {
     "base_uri": "https://localhost:8080/"
    },
    "deletable": false,
    "executionInfo": {
     "elapsed": 367,
     "status": "ok",
     "timestamp": 1649460927520,
     "user": {
      "displayName": "Patricio Foncea Araneda",
      "userId": "06631388810550008805"
     },
     "user_tz": 240
    },
    "id": "afcttyPQe1U8",
    "nbgrader": {
     "checksum": "7f28c48f8c0715b86fcda17518c7b5e2",
     "grade": false,
     "grade_id": "cell-f037dbc7269abfb2",
     "locked": false,
     "schema_version": 1,
     "solution": true
    },
    "outputId": "52bf8087-e589-4542-a844-bacc82b49205"
   },
   "outputs": [],
   "source": [
    "# Define slot_filling_accuracy\n",
    "# YOUR CODE HERE\n",
    "def slot_filling_accuracy(actual, predicted, only_slots=False):\n",
    "  not_padding = np.not_equal(actual, 0)\n",
    "\n",
    "  if only_slots:\n",
    "    non_slot_token = text_vectorization_slots(['O']).numpy()[0, 0]\n",
    "    slots = np.not_equal(actual, non_slot_token)\n",
    "    correct_predictions = np.equal(actual, predicted)[not_padding * slots]\n",
    "  else:\n",
    "    correct_predictions = np.equal(actual, predicted)[not_padding]\n",
    "\n",
    "  sample_length = len(correct_predictions)\n",
    "\n",
    "  return np.sum(correct_predictions) / sample_length\n",
    "\n",
    "predicted = np.argmax(model.predict(source_test), axis=-1).reshape(-1)\n",
    "actual = target_test.numpy().reshape(-1)\n",
    "\n",
    "acc = slot_filling_accuracy(actual, predicted, only_slots=False)\n",
    "acc_slots = slot_filling_accuracy(actual, predicted, only_slots=True)\n",
    "\n",
    "print(f'Accuracy = {acc:.3f}')\n",
    "print(f'Accuracy on slots = {acc_slots:.3f}')"
   ]
  },
  {
   "cell_type": "code",
   "execution_count": null,
   "metadata": {
    "deletable": false,
    "editable": false,
    "nbgrader": {
     "checksum": "97439715061696340cf8b1be61012194",
     "grade": true,
     "grade_id": "cell-34a89d92db7598b3",
     "locked": true,
     "points": 2,
     "schema_version": 1,
     "solution": false
    }
   },
   "outputs": [],
   "source": []
  }
 ],
 "metadata": {
  "accelerator": "GPU",
  "colab": {
   "collapsed_sections": [
    "XmxYrFl9m1hM",
    "IzNTx1rf--xQ",
    "a-PxWKVAZ7Pt",
    "TAoHWpgsn5oX"
   ],
   "machine_shape": "hm",
   "provenance": [
    {
     "file_id": "1JVS0Wu5j_g43BRC1bihmaKbbkLWHsURA",
     "timestamp": 1652901024714
    },
    {
     "file_id": "1cxBwFsYmUxf0R0uv8vFkTH0_G1O4BOP8",
     "timestamp": 1649854989737
    },
    {
     "file_id": "18wniNWOOgh47kT-rppsOzQRLop0erp-x",
     "timestamp": 1649780916455
    }
   ]
  },
  "kernelspec": {
   "display_name": "Python 3",
   "language": "python",
   "name": "python3"
  },
  "language_info": {
   "codemirror_mode": {
    "name": "ipython",
    "version": 3
   },
   "file_extension": ".py",
   "mimetype": "text/x-python",
   "name": "python",
   "nbconvert_exporter": "python",
   "pygments_lexer": "ipython3",
   "version": "3.6.9"
  }
 },
 "nbformat": 4,
 "nbformat_minor": 1
}
