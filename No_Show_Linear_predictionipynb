{
 "cells": [
  {
   "cell_type": "markdown",
   "metadata": {
    "deletable": false,
    "editable": false,
    "nbgrader": {
     "checksum": "3b981f5178f341eeef56632f4bf5e81d",
     "grade": false,
     "grade_id": "cell-ab01b87b3834108c",
     "locked": true,
     "schema_version": 1,
     "solution": false
    }
   },
   "source": [
    "###### Consider a physician who's workload is 30 patients per day. Unfortunately, because of no-shows, about 25% of patients fail to show up to their appointments leading to loss revenue for the physician. In this activity we will walk through the process of finding the ideal amount of patient bookings per day. First, use python to intuitively calculate how many patients the physician should book to stay busy if only 75% of scheduled patients show up."
   ]
  },
  {
   "cell_type": "code",
   "execution_count": 7,
   "metadata": {
    "deletable": false,
    "nbgrader": {
     "checksum": "0ad0195e9f00ea1f0feba8eb791153a1",
     "grade": false,
     "grade_id": "cell-1848702d6b2be72b",
     "locked": false,
     "schema_version": 1,
     "solution": true
    },
    "scrolled": true
   },
   "outputs": [
    {
     "name": "stdout",
     "output_type": "stream",
     "text": [
      "40.0\n"
     ]
    }
   ],
   "source": [
    "#ENTER YOU CODE BELOW# \n",
    "import scipy\n",
    "from scipy.stats import binom\n",
    "\n",
    "#Max number of patients per day \n",
    "workload = 30\n",
    "\n",
    "#Percentage of patients that show up\n",
    "prob = 0.75\n",
    "\n",
    "x = workload / prob\n",
    "\n",
    "print(x)\n"
   ]
  },
  {
   "cell_type": "code",
   "execution_count": null,
   "metadata": {
    "deletable": false,
    "editable": false,
    "nbgrader": {
     "checksum": "5d2a8f58597f6d5aa4cbf7ed82eb6948",
     "grade": true,
     "grade_id": "cell-0a1e26a0ea9874ed",
     "locked": true,
     "points": 2,
     "schema_version": 1,
     "solution": false
    }
   },
   "outputs": [],
   "source": []
  },
  {
   "cell_type": "markdown",
   "metadata": {
    "deletable": false,
    "editable": false,
    "nbgrader": {
     "checksum": "4514baef0f968a216559b205aa61a1a1",
     "grade": false,
     "grade_id": "cell-f9ff7f87431d0673",
     "locked": true,
     "schema_version": 1,
     "solution": false
    }
   },
   "source": [
    "###### Because you are using historical data to assume 25% of patients no-show, this is a binomial distribution model. Similarly to how you calculate the normal distribution's Cumulative density function and Probability density function, do the same for this normal distribution. First fill in the x and probability values to display the normal distribution of the linearly calculated value you found in the previous step. "
   ]
  },
  {
   "cell_type": "code",
   "execution_count": 10,
   "metadata": {
    "deletable": false,
    "nbgrader": {
     "checksum": "e403f32c166457605a80bd2cb46d4782",
     "grade": false,
     "grade_id": "cell-c7400fcce703e925",
     "locked": false,
     "schema_version": 1,
     "solution": true
    }
   },
   "outputs": [
    {
     "data": {
      "image/png": "[encoded data removed]",
      "text/plain": [
       "<Figure size 432x288 with 1 Axes>"
      ]
     },
     "metadata": {
      "needs_background": "light"
     },
     "output_type": "display_data"
    }
   ],
   "source": [
    "#ENETER YOU CODAE BELOW#\n",
    "import scipy\n",
    "from scipy.stats import binom\n",
    "import matplotlib.pyplot as plt\n",
    "\n",
    "# set  the values of x and prob\n",
    "x = 40\n",
    "prob = 0.75\n",
    "# defining list of r values\n",
    "r_values = list(range(x + 1))\n",
    "\n",
    "dist = binom.pmf(x,r_values,prob)\n",
    "\n",
    "# Plotting the graph. Do not change. Used for grading\n",
    "plots = plt.bar(r_values, dist)\n",
    "xy = []\n",
    "for plot in plots:\n",
    "    xy.append(plot.get_xy())\n",
    "plt.show()"
   ]
  },
  {
   "cell_type": "code",
   "execution_count": null,
   "metadata": {
    "deletable": false,
    "editable": false,
    "nbgrader": {
     "checksum": "6b92220887b2ad7d7fb8b1b243f5c43e",
     "grade": true,
     "grade_id": "cell-8e74cc38f0775984",
     "locked": true,
     "points": 2,
     "schema_version": 1,
     "solution": false
    }
   },
   "outputs": [],
   "source": []
  },
  {
   "cell_type": "markdown",
   "metadata": {
    "deletable": false,
    "editable": false,
    "nbgrader": {
     "checksum": "d1a48896ee04cc5f82ea15cc62ef8899",
     "grade": false,
     "grade_id": "cell-735fdacd3c63d04a",
     "locked": true,
     "schema_version": 1,
     "solution": false
    }
   },
   "source": [
    "###### Next, use Python's scipy.stats.binom package to get more insight of the situation. Find the cumulative density function to statistically calculate how much (in percent) will the physician be overbooked if we use the linear calculations from the first step to overbook patients. "
   ]
  },
  {
   "cell_type": "code",
   "execution_count": 16,
   "metadata": {
    "deletable": false,
    "nbgrader": {
     "checksum": "e0e84a67c278a768118601018fe32894",
     "grade": false,
     "grade_id": "cell-9ffb9d53c5071194",
     "locked": false,
     "schema_version": 1,
     "solution": true
    }
   },
   "outputs": [
    {
     "name": "stdout",
     "output_type": "stream",
     "text": [
      "0.4395397316725328\n"
     ]
    }
   ],
   "source": [
    "\n",
    "#Fill in your linear prediction\n",
    "linearPrediction = 40\n",
    "workload = 30\n",
    "prob = 0.75\n",
    "#Find the amount overworked by calculating 1 - cdf(). Set the output to a variable called \"overworked\"\n",
    "#Replace the \"raise NotImplementedError()\" with your code. DO NOT HAVE IT IN YOUR SUBMISSION\n",
    "# YOUR CODE HERE\n",
    "overworked = 1 - binom.cdf(workload,linearPrediction,prob)\n",
    "print(overworked)"
   ]
  },
  {
   "cell_type": "code",
   "execution_count": null,
   "metadata": {
    "deletable": false,
    "editable": false,
    "nbgrader": {
     "checksum": "91df4290c1b0c8ca9afe326750e1dfe5",
     "grade": true,
     "grade_id": "cell-dedc136a558004f0",
     "locked": true,
     "points": 2,
     "schema_version": 1,
     "solution": false
    }
   },
   "outputs": [],
   "source": []
  },
  {
   "cell_type": "markdown",
   "metadata": {
    "deletable": false,
    "editable": false,
    "nbgrader": {
     "checksum": "65e345b6920e46aa37f5ddcb247fbcfe",
     "grade": false,
     "grade_id": "cell-5f3773a408ebc547",
     "locked": true,
     "schema_version": 1,
     "solution": false
    }
   },
   "source": [
    "###### Finally, use the binomial ppf() function to what is the number of appointments the physician should book if she wants to limit the risk of having more than 30 appointments per day to 5%"
   ]
  },
  {
   "cell_type": "code",
   "execution_count": 20,
   "metadata": {
    "deletable": false,
    "nbgrader": {
     "checksum": "02a561e630d2c79d8a79cc6edbbe3b2d",
     "grade": false,
     "grade_id": "cell-a7e4987d4d4bb2ef",
     "locked": false,
     "schema_version": 1,
     "solution": true
    }
   },
   "outputs": [
    {
     "name": "stdout",
     "output_type": "stream",
     "text": [
      "34.0\n"
     ]
    }
   ],
   "source": [
    "#Your solution here\n",
    "from scipy.stats import binom\n",
    "\n",
    "workload =30\n",
    "prob = 0.75\n",
    "p = 1 - prob\n",
    "#Target amount of overbooked patients\n",
    "target = 0.05\n",
    "\n",
    "# Set \"total\" = workload + ppf() -- hint: p = 1-prob\n",
    "# YOUR CODE HERE\n",
    "total = workload + binom.ppf(target,workload,p)\n",
    "print(total)"
   ]
  },
  {
   "cell_type": "code",
   "execution_count": null,
   "metadata": {
    "deletable": false,
    "editable": false,
    "nbgrader": {
     "checksum": "da0598bb8edc6690deb9849dcca579c0",
     "grade": true,
     "grade_id": "cell-f2892b3e323a1b4d",
     "locked": true,
     "points": 2,
     "schema_version": 1,
     "solution": false
    }
   },
   "outputs": [],
   "source": []
  }
 ],
 "metadata": {
  "kernelspec": {
   "display_name": "Python 3",
   "language": "python",
   "name": "python3"
  },
  "language_info": {
   "codemirror_mode": {
    "name": "ipython",
    "version": 3
   },
   "file_extension": ".py",
   "mimetype": "text/x-python",
   "name": "python",
   "nbconvert_exporter": "python",
   "pygments_lexer": "ipython3",
   "version": "3.6.9"
  }
 },
 "nbformat": 4,
 "nbformat_minor": 5
}
