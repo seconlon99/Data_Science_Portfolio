{
 "cells": [
  {
   "cell_type": "markdown",
   "metadata": {
    "deletable": false,
    "editable": false,
    "nbgrader": {
     "checksum": "81c9e50dc8dbb2f7d6d47bdc1eb44eac",
     "grade": false,
     "grade_id": "cell-eb51c5a6c8000a4e",
     "locked": true,
     "schema_version": 1,
     "solution": false
    }
   },
   "source": [
    "###### Let's start with importing what we need...  "
   ]
  },
  {
   "cell_type": "code",
   "execution_count": 8,
   "metadata": {
    "deletable": false,
    "editable": false,
    "nbgrader": {
     "checksum": "dbd77cc0f6ace3c1ded6ea72540ee344",
     "grade": false,
     "grade_id": "cell-784431d974160030",
     "locked": true,
     "schema_version": 1,
     "solution": false
    }
   },
   "outputs": [],
   "source": [
    "import numpy as np\n",
    "import pandas as pd\n",
    "import matplotlib.pyplot as plt\n",
    "import statsmodels.api as sm\n",
    "from statsmodels.formula.api import ols\n",
    "from scipy.stats import norm\n",
    "from sklearn.model_selection import train_test_split\n",
    "from sklearn.metrics import r2_score\n",
    "from sklearn import datasets "
   ]
  },
  {
   "cell_type": "markdown",
   "metadata": {
    "deletable": false,
    "editable": false,
    "nbgrader": {
     "checksum": "4c6f90dce8b30c2c453ecc0277d95269",
     "grade": false,
     "grade_id": "cell-7686284e03a9d7b2",
     "locked": true,
     "schema_version": 1,
     "solution": false
    }
   },
   "source": [
    "###### Let's load the publicly available diabetes dataset and print out a description of the dataset"
   ]
  },
  {
   "cell_type": "markdown",
   "metadata": {
    "deletable": false,
    "editable": false,
    "nbgrader": {
     "checksum": "03851f0c06e4cc1caaea4e52c75043af",
     "grade": false,
     "grade_id": "cell-cb16e916069333c8",
     "locked": true,
     "schema_version": 1,
     "solution": false
    }
   },
   "source": [
    "###### Your task is to build the best linear regression model you can using this data to predict the 'target' field."
   ]
  },
  {
   "cell_type": "markdown",
   "metadata": {
    "deletable": false,
    "editable": false,
    "nbgrader": {
     "checksum": "4a5f171baa44bd773aa8e8ac7465e210",
     "grade": false,
     "grade_id": "cell-c96f1ba04e988ef1",
     "locked": true,
     "schema_version": 1,
     "solution": false
    }
   },
   "source": [
    "#### Diabetes dataset\n",
    "\n",
    "Ten baseline variables, age, sex, body mass index, average blood pressure, and six blood serum measurements were obtained for each of n = 442 diabetes patients, as well as the response of interest, a quantitative measure of disease progression one year after baseline.\n",
    "Data Set Characteristics\n",
    "Number of Instances: 442\n",
    "Number of Attributes\n",
    "First 10 columns are numeric predictive values\n",
    "Target: Column 11 is a quantitative measure of disease progression one year after baseline\n",
    "Attribute Information\n",
    " - age:     age in years <br>\n",
    "  - sex:     sex <br>\n",
    "  - bmi:     body mass index <br>\n",
    "  - bp:      average blood pressure <br>\n",
    "  - s1:      tc, total serum cholesterol <br>\n",
    "  - s2:      ldl, low-density lipoproteins <br>\n",
    "  - s3:      hdl, high-density lipoproteins <br>\n",
    "  - s4:      tch, total cholesterol / HDL <br>\n",
    "  - s5:      ltg, possibly log of serum triglycerides level <br>\n",
    "  - s6:      glu, blood sugar level <br>\n",
    "Note: Each of these 10 feature variables have been mean centered and scaled by the standard deviation times n_samples (i.e. the sum of squares of each column totals 1).\n",
    "Source URL\n",
    "https://www4.stat.ncsu.edu/~boos/var.select/diabetes.html\n",
    "For more information see:\n",
    "Bradley Efron, Trevor Hastie, Iain Johnstone and Robert Tibshirani (2004) \"Least Angle Regression,\" Annals of Statistics (with discussion), 407-499. (https://web.stanford.edu/~hastie/Papers/LARS/LeastAngle_2002.pdf)\n",
    "\n",
    "\n",
    "Source URL: https://www4.stat.ncsu.edu/~boos/var.select/diabetes.html\n",
    "Data URL: https://www4.stat.ncsu.edu/~boos/var.select/diabetes.tab.txt\n",
    "Note: The Data URL mentioned-above is obtained from the source URL. The source URL provides detailed information about the dataset, variables and also reference links including the dataset link.\n",
    "\n"
   ]
  },
  {
   "cell_type": "markdown",
   "metadata": {
    "deletable": false,
    "editable": false,
    "nbgrader": {
     "checksum": "741baec6d78946ba8620515f4a486fe9",
     "grade": false,
     "grade_id": "cell-82b7cb2db1be0026",
     "locked": true,
     "schema_version": 1,
     "solution": false
    }
   },
   "source": [
    "##### Read in data into a dataframe then print the dataframe head."
   ]
  },
  {
   "cell_type": "code",
   "execution_count": 9,
   "metadata": {
    "deletable": false,
    "nbgrader": {
     "checksum": "c4e365a6ffacbd7bbbd4bceeb268fc0f",
     "grade": false,
     "grade_id": "cell-26aea6bc1fcf36d9",
     "locked": false,
     "schema_version": 1,
     "solution": true
    }
   },
   "outputs": [],
   "source": [
    " #Use this URL to read in the data into a pandas dataframe called \"df\".\n",
    "#Hint: set sep=\"\\t\" when reading in the csv file. \n",
    "df = pd.read_csv('https://www4.stat.ncsu.edu/~boos/var.select/diabetes.tab.txt', sep=\"\\t\")"
   ]
  },
  {
   "cell_type": "code",
   "execution_count": null,
   "metadata": {
    "deletable": false,
    "editable": false,
    "nbgrader": {
     "checksum": "d47bf65b97c24853ca48a33c1f06cefd",
     "grade": true,
     "grade_id": "cell-9e5e1e9454377b26",
     "locked": true,
     "points": 2,
     "schema_version": 1,
     "solution": false
    }
   },
   "outputs": [],
   "source": []
  },
  {
   "cell_type": "markdown",
   "metadata": {
    "deletable": false,
    "editable": false,
    "nbgrader": {
     "checksum": "94251dab622ae294b562c5f0d067c2b0",
     "grade": false,
     "grade_id": "cell-b171277c7933793c",
     "locked": true,
     "schema_version": 1,
     "solution": false
    }
   },
   "source": [
    "###### Basic field information"
   ]
  },
  {
   "cell_type": "code",
   "execution_count": 10,
   "metadata": {
    "deletable": false,
    "editable": false,
    "nbgrader": {
     "checksum": "9a09b978a7d7e8ffc74d4d220ebe17ce",
     "grade": false,
     "grade_id": "cell-47ce9356e934e45b",
     "locked": true,
     "schema_version": 1,
     "solution": false
    }
   },
   "outputs": [
    {
     "name": "stdout",
     "output_type": "stream",
     "text": [
      "<class 'pandas.core.frame.DataFrame'>\n",
      "RangeIndex: 442 entries, 0 to 441\n",
      "Data columns (total 11 columns):\n",
      " #   Column  Non-Null Count  Dtype  \n",
      "---  ------  --------------  -----  \n",
      " 0   AGE     442 non-null    int64  \n",
      " 1   SEX     442 non-null    int64  \n",
      " 2   BMI     442 non-null    float64\n",
      " 3   BP      442 non-null    float64\n",
      " 4   S1      442 non-null    int64  \n",
      " 5   S2      442 non-null    float64\n",
      " 6   S3      442 non-null    float64\n",
      " 7   S4      442 non-null    float64\n",
      " 8   S5      442 non-null    float64\n",
      " 9   S6      442 non-null    int64  \n",
      " 10  Y       442 non-null    int64  \n",
      "dtypes: float64(6), int64(5)\n",
      "memory usage: 38.1 KB\n"
     ]
    }
   ],
   "source": [
    "df.info()"
   ]
  },
  {
   "cell_type": "markdown",
   "metadata": {
    "deletable": false,
    "editable": false,
    "nbgrader": {
     "checksum": "939fd3bcb602cdc20af4f2b4a1d52e59",
     "grade": false,
     "grade_id": "cell-d9ace78fc39d5f71",
     "locked": true,
     "schema_version": 1,
     "solution": false
    }
   },
   "source": [
    "###### Convert sex to a categorical variable"
   ]
  },
  {
   "cell_type": "code",
   "execution_count": 13,
   "metadata": {
    "deletable": false,
    "nbgrader": {
     "checksum": "b7723dec69e0f9fc42484114923bd26d",
     "grade": false,
     "grade_id": "cell-dd73b02e9822b368",
     "locked": false,
     "schema_version": 1,
     "solution": true
    }
   },
   "outputs": [],
   "source": [
    "# YOUR CODE HERE\n",
    "df['SEX']=df['SEX'].astype('category')\n"
   ]
  },
  {
   "cell_type": "code",
   "execution_count": null,
   "metadata": {
    "deletable": false,
    "editable": false,
    "nbgrader": {
     "checksum": "4093f7ece9b89b58b07796c672fa7029",
     "grade": true,
     "grade_id": "cell-d46cc0bef61a522f",
     "locked": true,
     "points": 2,
     "schema_version": 1,
     "solution": false
    }
   },
   "outputs": [],
   "source": []
  },
  {
   "cell_type": "code",
   "execution_count": 14,
   "metadata": {
    "deletable": false,
    "editable": false,
    "nbgrader": {
     "checksum": "32c1a83deb51b319ecaccf780a6f34e4",
     "grade": false,
     "grade_id": "cell-19ead13178ad97c4",
     "locked": true,
     "schema_version": 1,
     "solution": false
    }
   },
   "outputs": [
    {
     "name": "stdout",
     "output_type": "stream",
     "text": [
      "<class 'pandas.core.frame.DataFrame'>\n",
      "RangeIndex: 442 entries, 0 to 441\n",
      "Data columns (total 11 columns):\n",
      " #   Column  Non-Null Count  Dtype   \n",
      "---  ------  --------------  -----   \n",
      " 0   AGE     442 non-null    int64   \n",
      " 1   SEX     442 non-null    category\n",
      " 2   BMI     442 non-null    float64 \n",
      " 3   BP      442 non-null    float64 \n",
      " 4   S1      442 non-null    int64   \n",
      " 5   S2      442 non-null    float64 \n",
      " 6   S3      442 non-null    float64 \n",
      " 7   S4      442 non-null    float64 \n",
      " 8   S5      442 non-null    float64 \n",
      " 9   S6      442 non-null    int64   \n",
      " 10  Y       442 non-null    int64   \n",
      "dtypes: category(1), float64(6), int64(4)\n",
      "memory usage: 35.2 KB\n"
     ]
    }
   ],
   "source": [
    "df.info()"
   ]
  },
  {
   "cell_type": "markdown",
   "metadata": {
    "deletable": false,
    "editable": false,
    "nbgrader": {
     "checksum": "e61fa9f37383de63bdea47911e0cd21c",
     "grade": false,
     "grade_id": "cell-a979b95cb71debf1",
     "locked": true,
     "schema_version": 1,
     "solution": false
    }
   },
   "source": [
    "###### Next, examine the dataframe"
   ]
  },
  {
   "cell_type": "code",
   "execution_count": 18,
   "metadata": {
    "deletable": false,
    "nbgrader": {
     "checksum": "53cde3570a13de626d68838c7625147e",
     "grade": false,
     "grade_id": "cell-5b82d5671dedf8b3",
     "locked": false,
     "schema_version": 1,
     "solution": true
    }
   },
   "outputs": [
    {
     "name": "stdout",
     "output_type": "stream",
     "text": [
      "               AGE    SEX         BMI          BP          S1          S2  \\\n",
      "count   442.000000  442.0  442.000000  442.000000  442.000000  442.000000   \n",
      "unique         NaN    2.0         NaN         NaN         NaN         NaN   \n",
      "top            NaN    1.0         NaN         NaN         NaN         NaN   \n",
      "freq           NaN  235.0         NaN         NaN         NaN         NaN   \n",
      "mean     48.518100    NaN   26.375792   94.647014  189.140271  115.439140   \n",
      "std      13.109028    NaN    4.418122   13.831283   34.608052   30.413081   \n",
      "min      19.000000    NaN   18.000000   62.000000   97.000000   41.600000   \n",
      "25%      38.250000    NaN   23.200000   84.000000  164.250000   96.050000   \n",
      "50%      50.000000    NaN   25.700000   93.000000  186.000000  113.000000   \n",
      "75%      59.000000    NaN   29.275000  105.000000  209.750000  134.500000   \n",
      "max      79.000000    NaN   42.200000  133.000000  301.000000  242.400000   \n",
      "\n",
      "                S3          S4          S5          S6           Y  \n",
      "count   442.000000  442.000000  442.000000  442.000000  442.000000  \n",
      "unique         NaN         NaN         NaN         NaN         NaN  \n",
      "top            NaN         NaN         NaN         NaN         NaN  \n",
      "freq           NaN         NaN         NaN         NaN         NaN  \n",
      "mean     49.788462    4.070249    4.641411   91.260181  152.133484  \n",
      "std      12.934202    1.290450    0.522391   11.496335   77.093005  \n",
      "min      22.000000    2.000000    3.258100   58.000000   25.000000  \n",
      "25%      40.250000    3.000000    4.276700   83.250000   87.000000  \n",
      "50%      48.000000    4.000000    4.620050   91.000000  140.500000  \n",
      "75%      57.750000    5.000000    4.997200   98.000000  211.500000  \n",
      "max      99.000000    9.090000    6.107000  124.000000  346.000000  \n"
     ]
    }
   ],
   "source": [
    "#Use Panda's describe function to peak into the dataframe.\n",
    "# be sure to include the parameter include= \"all\" to grab the \n",
    "# columns where the statistic is Inappropriate for the datatype. \n",
    "# set the output to \"dfDescription' so the result can be printed\"\n",
    "# YOUR CODE HERE\n",
    "dfDescription = df.describe(include = \"all\")\n",
    "print (dfDescription)"
   ]
  },
  {
   "cell_type": "code",
   "execution_count": null,
   "metadata": {
    "deletable": false,
    "editable": false,
    "nbgrader": {
     "checksum": "fb074cfb62d69402650381e92f295c95",
     "grade": true,
     "grade_id": "cell-dbcee3078b4dbe91",
     "locked": true,
     "points": 2,
     "schema_version": 1,
     "solution": false
    }
   },
   "outputs": [],
   "source": []
  },
  {
   "cell_type": "markdown",
   "metadata": {
    "deletable": false,
    "editable": false,
    "nbgrader": {
     "checksum": "5cb5e6e69fc1848d5bd452f7173044c5",
     "grade": false,
     "grade_id": "cell-73cf5e801da56931",
     "locked": true,
     "schema_version": 1,
     "solution": false
    }
   },
   "source": [
    "###### Split dataframe into train and test subsets"
   ]
  },
  {
   "cell_type": "code",
   "execution_count": 19,
   "metadata": {
    "deletable": false,
    "nbgrader": {
     "checksum": "93e74c11f698f7f4df2c9986e66844fe",
     "grade": false,
     "grade_id": "cell-b89432a79e197729",
     "locked": false,
     "schema_version": 1,
     "solution": true
    }
   },
   "outputs": [],
   "source": [
    "# Use train_test_split() to split the train and test sets.\n",
    "# Set test_size to 0.3\n",
    "# Set random_state to 42\n",
    "# The train and tests sets need to be called \"df_train\" and \"df_test\".\n",
    "# YOUR CODE HERE\n",
    "df_train, df_test = train_test_split(df, test_size=0.3,random_state=42)"
   ]
  },
  {
   "cell_type": "code",
   "execution_count": null,
   "metadata": {
    "deletable": false,
    "editable": false,
    "nbgrader": {
     "checksum": "3245e0649337fde127c0544aa3d99e21",
     "grade": true,
     "grade_id": "cell-cc8e1a77afc974fc",
     "locked": true,
     "points": 2,
     "schema_version": 1,
     "solution": false
    }
   },
   "outputs": [],
   "source": []
  },
  {
   "cell_type": "markdown",
   "metadata": {
    "deletable": false,
    "editable": false,
    "nbgrader": {
     "checksum": "831f89b5dc5b91585c5ab868f3be9700",
     "grade": false,
     "grade_id": "cell-29639d58cb78498f",
     "locked": true,
     "schema_version": 1,
     "solution": false
    }
   },
   "source": [
    "###### Fit Multilinear OLS regression model using training dataset and save the result in 'est_train' variable. \n",
    "Print model summary"
   ]
  },
  {
   "cell_type": "code",
   "execution_count": 20,
   "metadata": {
    "deletable": false,
    "nbgrader": {
     "checksum": "e1a3c8761e9b6f7945cbd2ff25020bfb",
     "grade": false,
     "grade_id": "cell-9861908308c8fccb",
     "locked": false,
     "schema_version": 1,
     "solution": true
    }
   },
   "outputs": [
    {
     "name": "stdout",
     "output_type": "stream",
     "text": [
      "                            OLS Regression Results                            \n",
      "==============================================================================\n",
      "Dep. Variable:                      Y   R-squared:                       0.524\n",
      "Model:                            OLS   Adj. R-squared:                  0.508\n",
      "Method:                 Least Squares   F-statistic:                     32.86\n",
      "Date:                Mon, 09 Oct 2023   Prob (F-statistic):           1.37e-42\n",
      "Time:                        13:05:48   Log-Likelihood:                -1671.5\n",
      "No. Observations:                 309   AIC:                             3365.\n",
      "Df Residuals:                     298   BIC:                             3406.\n",
      "Df Model:                          10                                         \n",
      "Covariance Type:            nonrobust                                         \n",
      "==============================================================================\n",
      "                 coef    std err          t      P>|t|      [0.025      0.975]\n",
      "------------------------------------------------------------------------------\n",
      "Intercept   -341.2349     78.615     -4.341      0.000    -495.946    -186.524\n",
      "SEX[T.2]     -24.9463      6.987     -3.570      0.000     -38.697     -11.196\n",
      "AGE            0.1063      0.270      0.394      0.694      -0.425       0.637\n",
      "BMI            5.8881      0.877      6.717      0.000       4.163       7.613\n",
      "BP             1.3372      0.268      4.998      0.000       0.811       1.864\n",
      "S1            -1.2411      0.659     -1.882      0.061      -2.539       0.057\n",
      "S2             0.7935      0.604      1.314      0.190      -0.395       1.982\n",
      "S3             0.4460      0.904      0.493      0.622      -1.333       2.226\n",
      "S4            10.6288      7.255      1.465      0.144      -3.649      24.906\n",
      "S5            60.0963     18.952      3.171      0.002      22.800      97.393\n",
      "S6             0.1714      0.330      0.519      0.604      -0.479       0.822\n",
      "==============================================================================\n",
      "Omnibus:                        1.511   Durbin-Watson:                   1.764\n",
      "Prob(Omnibus):                  0.470   Jarque-Bera (JB):                1.417\n",
      "Skew:                           0.056   Prob(JB):                        0.492\n",
      "Kurtosis:                       2.688   Cond. No.                     6.98e+03\n",
      "==============================================================================\n",
      "\n",
      "Notes:\n",
      "[1] Standard Errors assume that the covariance matrix of the errors is correctly specified.\n",
      "[2] The condition number is large, 6.98e+03. This might indicate that there are\n",
      "strong multicollinearity or other numerical problems.\n"
     ]
    }
   ],
   "source": [
    "# YOUR CODE HERE\n",
    "est_train = ols(formula=\"Y ~ AGE + SEX + BMI + BP + S1 + S2 + S3 + S4 + S5 + S6\", data=df_train).fit()\n",
    "print(est_train.summary())"
   ]
  },
  {
   "cell_type": "code",
   "execution_count": null,
   "metadata": {
    "deletable": false,
    "editable": false,
    "nbgrader": {
     "checksum": "290c8e68ed5f5e481b00f2264dfda92d",
     "grade": true,
     "grade_id": "cell-0345ff06af3c981c",
     "locked": true,
     "points": 2,
     "schema_version": 1,
     "solution": false
    }
   },
   "outputs": [],
   "source": []
  },
  {
   "cell_type": "markdown",
   "metadata": {
    "deletable": false,
    "editable": false,
    "nbgrader": {
     "checksum": "4b3aff49c0569a462142101aaa2c15ae",
     "grade": false,
     "grade_id": "cell-e32461645a118ac1",
     "locked": true,
     "schema_version": 1,
     "solution": false
    }
   },
   "source": [
    "###### Extract non significant coef (p< .05: SEX + BMI + S3 + S5), rerun model."
   ]
  },
  {
   "cell_type": "code",
   "execution_count": 22,
   "metadata": {
    "deletable": false,
    "nbgrader": {
     "checksum": "40e83aab97cd0a8886c8b90c6a03e362",
     "grade": false,
     "grade_id": "cell-55c4cc66a08cb317",
     "locked": false,
     "schema_version": 1,
     "solution": true
    }
   },
   "outputs": [
    {
     "name": "stdout",
     "output_type": "stream",
     "text": [
      "Intercept   -332.234893\n",
      "SEX[T.2]     -12.866148\n",
      "BMI            7.149076\n",
      "BP             1.148400\n",
      "S5            41.313402\n",
      "dtype: float64\n"
     ]
    }
   ],
   "source": [
    "# YOUR CODE HERE\n",
    "est_train = ols(formula=\"Y ~ SEX + BMI + BP + S5\", data=df_train).fit()\n",
    "print(est_train.params)"
   ]
  },
  {
   "cell_type": "code",
   "execution_count": null,
   "metadata": {
    "deletable": false,
    "editable": false,
    "nbgrader": {
     "checksum": "a3e78c232d6cdad9c248b35a3d035c4c",
     "grade": true,
     "grade_id": "cell-ab9b9302fc763be6",
     "locked": true,
     "points": 2,
     "schema_version": 1,
     "solution": false
    }
   },
   "outputs": [],
   "source": []
  },
  {
   "cell_type": "markdown",
   "metadata": {
    "deletable": false,
    "editable": false,
    "nbgrader": {
     "checksum": "224ef207a05ea07615f11e9a23ab6ee6",
     "grade": false,
     "grade_id": "cell-40018aca656cdf20",
     "locked": true,
     "schema_version": 1,
     "solution": false
    }
   },
   "source": [
    "###### How well does it do on the test data? Lets use the model we trained on the training data to make predictions on the test data and then measure the R^2"
   ]
  },
  {
   "cell_type": "code",
   "execution_count": 27,
   "metadata": {
    "deletable": false,
    "nbgrader": {
     "checksum": "0ec68a2fe77af8921bee8542133cd3aa",
     "grade": false,
     "grade_id": "cell-9cef15063e405f7b",
     "locked": false,
     "schema_version": 1,
     "solution": true
    }
   },
   "outputs": [
    {
     "name": "stdout",
     "output_type": "stream",
     "text": [
      "OOS R-squared: 0.48587882336937593\n"
     ]
    }
   ],
   "source": [
    "# Set the r2 results to \"r2\"\n",
    "# YOUR CODE HERE\n",
    "test_pred = est_train.predict(df_test)\n",
    "r2 = r2_score(df_test['Y'],test_pred)\n",
    "print('OOS R-squared: '+ str(r2))\n"
   ]
  },
  {
   "cell_type": "code",
   "execution_count": null,
   "metadata": {
    "deletable": false,
    "editable": false,
    "nbgrader": {
     "checksum": "dae24ec83083bcef4ac870f58f8b3930",
     "grade": true,
     "grade_id": "cell-a6f931b40ee86175",
     "locked": true,
     "points": 2,
     "schema_version": 1,
     "solution": false
    }
   },
   "outputs": [],
   "source": []
  }
 ],
 "metadata": {
  "kernelspec": {
   "display_name": "Python 3",
   "language": "python",
   "name": "python3"
  },
  "language_info": {
   "codemirror_mode": {
    "name": "ipython",
    "version": 3
   },
   "file_extension": ".py",
   "mimetype": "text/x-python",
   "name": "python",
   "nbconvert_exporter": "python",
   "pygments_lexer": "ipython3",
   "version": "3.6.9"
  }
 },
 "nbformat": 4,
 "nbformat_minor": 2
}
