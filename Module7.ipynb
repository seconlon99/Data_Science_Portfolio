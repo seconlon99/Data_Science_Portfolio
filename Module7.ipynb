{
 "cells": [
  {
   "cell_type": "markdown",
   "metadata": {
    "deletable": false,
    "editable": false,
    "nbgrader": {
     "checksum": "4e98c24511ffa9640bea98e5fe1ed6cd",
     "grade": false,
     "grade_id": "cell-0eea7231a392bafd",
     "locked": true,
     "schema_version": 1,
     "solution": false
    }
   },
   "source": [
    "###### Start by importing all necessary packages"
   ]
  },
  {
   "cell_type": "code",
   "execution_count": 2,
   "metadata": {
    "deletable": false,
    "editable": false,
    "nbgrader": {
     "checksum": "b8231d0511feadf3d0e33fc0023a0ca0",
     "grade": false,
     "grade_id": "cell-4c649a8d50c23efc",
     "locked": true,
     "schema_version": 1,
     "solution": false
    }
   },
   "outputs": [],
   "source": [
    "import warnings\n",
    "import numpy as np\n",
    "import seaborn as sns\n",
    "import pandas as pd\n",
    "import matplotlib.pyplot as plt\n",
    "import statsmodels.api as sm\n",
    "from statsmodels.formula.api import ols\n",
    "from statsmodels.formula.api import logit\n",
    "from scipy.stats import norm\n",
    "from sklearn.model_selection import train_test_split\n",
    "from sklearn.metrics import ConfusionMatrixDisplay\n",
    "from sklearn.metrics import confusion_matrix\n",
    "from sklearn.metrics import accuracy_score\n",
    "from pandas.core.common import SettingWithCopyWarning\n",
    "import sklearn \n",
    " \n",
    "warnings.simplefilter(action=\"ignore\", category=SettingWithCopyWarning)"
   ]
  },
  {
   "cell_type": "markdown",
   "metadata": {
    "deletable": false,
    "editable": false,
    "nbgrader": {
     "checksum": "94fab148ca809ef56ee205970b902721",
     "grade": false,
     "grade_id": "cell-8d43dfabd32d826b",
     "locked": true,
     "schema_version": 1,
     "solution": false
    }
   },
   "source": [
    "###### Read the loans.csv file into a pandas dataframe called \"df\""
   ]
  },
  {
   "cell_type": "code",
   "execution_count": 3,
   "metadata": {
    "deletable": false,
    "nbgrader": {
     "checksum": "10c67e6fe06913eead60b7ee409941ae",
     "grade": false,
     "grade_id": "cell-7a2ff9d82ab6874e",
     "locked": false,
     "schema_version": 1,
     "solution": true
    }
   },
   "outputs": [],
   "source": [
    "# Read the file loan.csv into a Pandas dataframe object, df. \n",
    "# YOUR CODE HERE\n",
    "df = pd.read_csv('loans.csv')"
   ]
  },
  {
   "cell_type": "code",
   "execution_count": null,
   "metadata": {
    "deletable": false,
    "editable": false,
    "nbgrader": {
     "checksum": "095ce8e95a7d4114e890af61341d0f09",
     "grade": true,
     "grade_id": "cell-b7e75e86e5098592",
     "locked": true,
     "points": 1,
     "schema_version": 1,
     "solution": false
    }
   },
   "outputs": [],
   "source": []
  },
  {
   "cell_type": "markdown",
   "metadata": {
    "deletable": false,
    "editable": false,
    "nbgrader": {
     "checksum": "28377651bec908db0893504811a687ca",
     "grade": false,
     "grade_id": "cell-812d507604af54f6",
     "locked": true,
     "schema_version": 1,
     "solution": false
    }
   },
   "source": [
    "###### Extract the two columns you will be focusing on \"default\" and \"fico_score\" "
   ]
  },
  {
   "cell_type": "code",
   "execution_count": 5,
   "metadata": {
    "deletable": false,
    "nbgrader": {
     "checksum": "1ae3e291f2f1669857acec62fdeb80bc",
     "grade": false,
     "grade_id": "cell-7fc62c81db0f40bd",
     "locked": false,
     "schema_version": 1,
     "solution": true
    }
   },
   "outputs": [],
   "source": [
    "#Extract everything besided \"default\" and \"fico_score\" from the dataframe\n",
    "# YOUR CODE HERE\n",
    "df = df[['default','fico_score']]"
   ]
  },
  {
   "cell_type": "code",
   "execution_count": null,
   "metadata": {
    "deletable": false,
    "editable": false,
    "nbgrader": {
     "checksum": "93ea3fa49af57ff73e6e891ea8ee7cfc",
     "grade": true,
     "grade_id": "cell-3a87ebd243831291",
     "locked": true,
     "points": 1,
     "schema_version": 1,
     "solution": false
    }
   },
   "outputs": [],
   "source": []
  },
  {
   "cell_type": "markdown",
   "metadata": {
    "deletable": false,
    "editable": false,
    "nbgrader": {
     "checksum": "d1030488d91442da983c453a5be8f36e",
     "grade": false,
     "grade_id": "cell-e2c044f3bf96f669",
     "locked": true,
     "schema_version": 1,
     "solution": false
    }
   },
   "source": [
    "###### Examine the data"
   ]
  },
  {
   "cell_type": "code",
   "execution_count": 6,
   "metadata": {
    "deletable": false,
    "editable": false,
    "nbgrader": {
     "checksum": "0d7beb38a3812cb1858b97aad73dd6de",
     "grade": false,
     "grade_id": "cell-dc5f9fd9493a0ad3",
     "locked": true,
     "schema_version": 1,
     "solution": false
    }
   },
   "outputs": [
    {
     "data": {
      "text/html": [
       "<div>\n",
       "<style scoped>\n",
       "    .dataframe tbody tr th:only-of-type {\n",
       "        vertical-align: middle;\n",
       "    }\n",
       "\n",
       "    .dataframe tbody tr th {\n",
       "        vertical-align: top;\n",
       "    }\n",
       "\n",
       "    .dataframe thead th {\n",
       "        text-align: right;\n",
       "    }\n",
       "</style>\n",
       "<table border=\"1\" class=\"dataframe\">\n",
       "  <thead>\n",
       "    <tr style=\"text-align: right;\">\n",
       "      <th></th>\n",
       "      <th>default</th>\n",
       "      <th>fico_score</th>\n",
       "    </tr>\n",
       "  </thead>\n",
       "  <tbody>\n",
       "    <tr>\n",
       "      <th>0</th>\n",
       "      <td>0</td>\n",
       "      <td>737</td>\n",
       "    </tr>\n",
       "    <tr>\n",
       "      <th>1</th>\n",
       "      <td>0</td>\n",
       "      <td>707</td>\n",
       "    </tr>\n",
       "    <tr>\n",
       "      <th>2</th>\n",
       "      <td>0</td>\n",
       "      <td>682</td>\n",
       "    </tr>\n",
       "    <tr>\n",
       "      <th>3</th>\n",
       "      <td>0</td>\n",
       "      <td>712</td>\n",
       "    </tr>\n",
       "    <tr>\n",
       "      <th>4</th>\n",
       "      <td>0</td>\n",
       "      <td>667</td>\n",
       "    </tr>\n",
       "    <tr>\n",
       "      <th>5</th>\n",
       "      <td>0</td>\n",
       "      <td>727</td>\n",
       "    </tr>\n",
       "  </tbody>\n",
       "</table>\n",
       "</div>"
      ],
      "text/plain": [
       "   default  fico_score\n",
       "0        0         737\n",
       "1        0         707\n",
       "2        0         682\n",
       "3        0         712\n",
       "4        0         667\n",
       "5        0         727"
      ]
     },
     "execution_count": 6,
     "metadata": {},
     "output_type": "execute_result"
    }
   ],
   "source": [
    "df.head(6)"
   ]
  },
  {
   "cell_type": "code",
   "execution_count": 7,
   "metadata": {
    "deletable": false,
    "editable": false,
    "nbgrader": {
     "checksum": "a406410eea13c08906197e9c02b0b31e",
     "grade": false,
     "grade_id": "cell-eabc21b7eec6de29",
     "locked": true,
     "schema_version": 1,
     "solution": false
    }
   },
   "outputs": [
    {
     "data": {
      "text/html": [
       "<div>\n",
       "<style scoped>\n",
       "    .dataframe tbody tr th:only-of-type {\n",
       "        vertical-align: middle;\n",
       "    }\n",
       "\n",
       "    .dataframe tbody tr th {\n",
       "        vertical-align: top;\n",
       "    }\n",
       "\n",
       "    .dataframe thead th {\n",
       "        text-align: right;\n",
       "    }\n",
       "</style>\n",
       "<table border=\"1\" class=\"dataframe\">\n",
       "  <thead>\n",
       "    <tr style=\"text-align: right;\">\n",
       "      <th></th>\n",
       "      <th>default</th>\n",
       "      <th>fico_score</th>\n",
       "    </tr>\n",
       "  </thead>\n",
       "  <tbody>\n",
       "    <tr>\n",
       "      <th>9510</th>\n",
       "      <td>1</td>\n",
       "      <td>662</td>\n",
       "    </tr>\n",
       "    <tr>\n",
       "      <th>9511</th>\n",
       "      <td>1</td>\n",
       "      <td>672</td>\n",
       "    </tr>\n",
       "    <tr>\n",
       "      <th>9512</th>\n",
       "      <td>1</td>\n",
       "      <td>722</td>\n",
       "    </tr>\n",
       "    <tr>\n",
       "      <th>9513</th>\n",
       "      <td>1</td>\n",
       "      <td>687</td>\n",
       "    </tr>\n",
       "    <tr>\n",
       "      <th>9514</th>\n",
       "      <td>1</td>\n",
       "      <td>692</td>\n",
       "    </tr>\n",
       "    <tr>\n",
       "      <th>9515</th>\n",
       "      <td>1</td>\n",
       "      <td>732</td>\n",
       "    </tr>\n",
       "  </tbody>\n",
       "</table>\n",
       "</div>"
      ],
      "text/plain": [
       "      default  fico_score\n",
       "9510        1         662\n",
       "9511        1         672\n",
       "9512        1         722\n",
       "9513        1         687\n",
       "9514        1         692\n",
       "9515        1         732"
      ]
     },
     "execution_count": 7,
     "metadata": {},
     "output_type": "execute_result"
    }
   ],
   "source": [
    "df.tail(6)"
   ]
  },
  {
   "cell_type": "markdown",
   "metadata": {
    "deletable": false,
    "editable": false,
    "nbgrader": {
     "checksum": "849bd2a6774599a2600c226f60a45197",
     "grade": false,
     "grade_id": "cell-2d01e0ca39de747c",
     "locked": true,
     "schema_version": 1,
     "solution": false
    }
   },
   "source": [
    "###### use df.loc[] to grab all the columns where default = 1/ there was a default. Assign this to \"default_df\""
   ]
  },
  {
   "cell_type": "code",
   "execution_count": 10,
   "metadata": {
    "deletable": false,
    "nbgrader": {
     "checksum": "beeba7d25f69b933c43265b414543db4",
     "grade": false,
     "grade_id": "cell-44247560c82c6e58",
     "locked": false,
     "schema_version": 1,
     "solution": true
    }
   },
   "outputs": [
    {
     "name": "stdout",
     "output_type": "stream",
     "text": [
      "\n",
      "Result dataframe :\n",
      "       default  fico_score\n",
      "6           1         667\n",
      "7           1         722\n",
      "57          1         682\n",
      "65          1         687\n",
      "73          1         677\n",
      "...       ...         ...\n",
      "9511        1         672\n",
      "9512        1         722\n",
      "9513        1         687\n",
      "9514        1         692\n",
      "9515        1         732\n",
      "\n",
      "[1521 rows x 2 columns]\n"
     ]
    }
   ],
   "source": [
    "# Use df.loc[] to extract all rows where a loan defaulted.\n",
    "# Set the resulting dataset to default_df to be displayed\n",
    "# YOUR CODE HERE\n",
    "default_df=df.loc[(df['default']==1)]\n",
    "  \n",
    "print('\\nResult dataframe :\\n', default_df)"
   ]
  },
  {
   "cell_type": "code",
   "execution_count": null,
   "metadata": {
    "deletable": false,
    "editable": false,
    "nbgrader": {
     "checksum": "c6d22cc73b96d216441c4b15f672480f",
     "grade": true,
     "grade_id": "cell-cc09f4cda8792061",
     "locked": true,
     "points": 1,
     "schema_version": 1,
     "solution": false
    }
   },
   "outputs": [],
   "source": []
  },
  {
   "cell_type": "markdown",
   "metadata": {
    "deletable": false,
    "editable": false,
    "nbgrader": {
     "checksum": "19d11637ad1407d4381417ff58b6a441",
     "grade": false,
     "grade_id": "cell-b46e83057872fb0a",
     "locked": true,
     "schema_version": 1,
     "solution": false
    }
   },
   "source": [
    "###### Use df.loc[] to grab all rows where a loan did not default and assign the output to no_default_df. "
   ]
  },
  {
   "cell_type": "code",
   "execution_count": 11,
   "metadata": {
    "deletable": false,
    "nbgrader": {
     "checksum": "d341c4c5a060c9524a0acff8f288c9e0",
     "grade": false,
     "grade_id": "cell-151d20fdc4c28b7a",
     "locked": false,
     "schema_version": 1,
     "solution": true
    }
   },
   "outputs": [
    {
     "name": "stdout",
     "output_type": "stream",
     "text": [
      "\n",
      "Result dataframe :\n",
      "       default  fico_score\n",
      "0           0         737\n",
      "1           0         707\n",
      "2           0         682\n",
      "3           0         712\n",
      "4           0         667\n",
      "...       ...         ...\n",
      "9499        0         722\n",
      "9500        0         717\n",
      "9502        0         687\n",
      "9505        0         687\n",
      "9506        0         667\n",
      "\n",
      "[7995 rows x 2 columns]\n"
     ]
    }
   ],
   "source": [
    "#Use df.loc[] to extract all rows where a loan did not default.\n",
    "# Set the resulting dataset to no_default_df to be displayed\n",
    "# YOUR CODE HERE\n",
    "no_default_df=df.loc[(df['default']==0)]\n",
    "print('\\nResult dataframe :\\n', no_default_df)"
   ]
  },
  {
   "cell_type": "code",
   "execution_count": null,
   "metadata": {
    "deletable": false,
    "editable": false,
    "nbgrader": {
     "checksum": "f7dfa243cfd778a93721f221e034f4b8",
     "grade": true,
     "grade_id": "cell-088bcecb3a795071",
     "locked": true,
     "points": 1,
     "schema_version": 1,
     "solution": false
    }
   },
   "outputs": [],
   "source": []
  },
  {
   "cell_type": "markdown",
   "metadata": {
    "deletable": false,
    "editable": false,
    "nbgrader": {
     "checksum": "a04e77d287c5479001cbc9e3e7d0b6e5",
     "grade": false,
     "grade_id": "cell-6e2910d12ecef175",
     "locked": true,
     "schema_version": 1,
     "solution": false
    }
   },
   "source": [
    "###### Examine the resulting dataframes "
   ]
  },
  {
   "cell_type": "code",
   "execution_count": 12,
   "metadata": {
    "deletable": false,
    "editable": false,
    "nbgrader": {
     "checksum": "fd774ecb7404ecfe0b530baa9ae302cb",
     "grade": false,
     "grade_id": "cell-7af659b916856b12",
     "locked": true,
     "schema_version": 1,
     "solution": false
    }
   },
   "outputs": [
    {
     "data": {
      "text/html": [
       "<div>\n",
       "<style scoped>\n",
       "    .dataframe tbody tr th:only-of-type {\n",
       "        vertical-align: middle;\n",
       "    }\n",
       "\n",
       "    .dataframe tbody tr th {\n",
       "        vertical-align: top;\n",
       "    }\n",
       "\n",
       "    .dataframe thead th {\n",
       "        text-align: right;\n",
       "    }\n",
       "</style>\n",
       "<table border=\"1\" class=\"dataframe\">\n",
       "  <thead>\n",
       "    <tr style=\"text-align: right;\">\n",
       "      <th></th>\n",
       "      <th>default</th>\n",
       "      <th>fico_score</th>\n",
       "    </tr>\n",
       "  </thead>\n",
       "  <tbody>\n",
       "    <tr>\n",
       "      <th>count</th>\n",
       "      <td>7995.0</td>\n",
       "      <td>7995.000000</td>\n",
       "    </tr>\n",
       "    <tr>\n",
       "      <th>mean</th>\n",
       "      <td>0.0</td>\n",
       "      <td>713.307067</td>\n",
       "    </tr>\n",
       "    <tr>\n",
       "      <th>std</th>\n",
       "      <td>0.0</td>\n",
       "      <td>38.209948</td>\n",
       "    </tr>\n",
       "    <tr>\n",
       "      <th>min</th>\n",
       "      <td>0.0</td>\n",
       "      <td>612.000000</td>\n",
       "    </tr>\n",
       "    <tr>\n",
       "      <th>25%</th>\n",
       "      <td>0.0</td>\n",
       "      <td>682.000000</td>\n",
       "    </tr>\n",
       "    <tr>\n",
       "      <th>50%</th>\n",
       "      <td>0.0</td>\n",
       "      <td>707.000000</td>\n",
       "    </tr>\n",
       "    <tr>\n",
       "      <th>75%</th>\n",
       "      <td>0.0</td>\n",
       "      <td>742.000000</td>\n",
       "    </tr>\n",
       "    <tr>\n",
       "      <th>max</th>\n",
       "      <td>0.0</td>\n",
       "      <td>827.000000</td>\n",
       "    </tr>\n",
       "  </tbody>\n",
       "</table>\n",
       "</div>"
      ],
      "text/plain": [
       "       default   fico_score\n",
       "count   7995.0  7995.000000\n",
       "mean       0.0   713.307067\n",
       "std        0.0    38.209948\n",
       "min        0.0   612.000000\n",
       "25%        0.0   682.000000\n",
       "50%        0.0   707.000000\n",
       "75%        0.0   742.000000\n",
       "max        0.0   827.000000"
      ]
     },
     "execution_count": 12,
     "metadata": {},
     "output_type": "execute_result"
    }
   ],
   "source": [
    "no_default_df.describe()"
   ]
  },
  {
   "cell_type": "code",
   "execution_count": 13,
   "metadata": {
    "deletable": false,
    "editable": false,
    "nbgrader": {
     "checksum": "cd919c9c9bc64a40002a294315fa0dc5",
     "grade": false,
     "grade_id": "cell-031ede4b673f8885",
     "locked": true,
     "schema_version": 1,
     "solution": false
    }
   },
   "outputs": [
    {
     "data": {
      "text/html": [
       "<div>\n",
       "<style scoped>\n",
       "    .dataframe tbody tr th:only-of-type {\n",
       "        vertical-align: middle;\n",
       "    }\n",
       "\n",
       "    .dataframe tbody tr th {\n",
       "        vertical-align: top;\n",
       "    }\n",
       "\n",
       "    .dataframe thead th {\n",
       "        text-align: right;\n",
       "    }\n",
       "</style>\n",
       "<table border=\"1\" class=\"dataframe\">\n",
       "  <thead>\n",
       "    <tr style=\"text-align: right;\">\n",
       "      <th></th>\n",
       "      <th>default</th>\n",
       "      <th>fico_score</th>\n",
       "    </tr>\n",
       "  </thead>\n",
       "  <tbody>\n",
       "    <tr>\n",
       "      <th>count</th>\n",
       "      <td>1521.0</td>\n",
       "      <td>1521.000000</td>\n",
       "    </tr>\n",
       "    <tr>\n",
       "      <th>mean</th>\n",
       "      <td>1.0</td>\n",
       "      <td>697.884287</td>\n",
       "    </tr>\n",
       "    <tr>\n",
       "      <th>std</th>\n",
       "      <td>0.0</td>\n",
       "      <td>33.764233</td>\n",
       "    </tr>\n",
       "    <tr>\n",
       "      <th>min</th>\n",
       "      <td>1.0</td>\n",
       "      <td>617.000000</td>\n",
       "    </tr>\n",
       "    <tr>\n",
       "      <th>25%</th>\n",
       "      <td>1.0</td>\n",
       "      <td>672.000000</td>\n",
       "    </tr>\n",
       "    <tr>\n",
       "      <th>50%</th>\n",
       "      <td>1.0</td>\n",
       "      <td>692.000000</td>\n",
       "    </tr>\n",
       "    <tr>\n",
       "      <th>75%</th>\n",
       "      <td>1.0</td>\n",
       "      <td>717.000000</td>\n",
       "    </tr>\n",
       "    <tr>\n",
       "      <th>max</th>\n",
       "      <td>1.0</td>\n",
       "      <td>822.000000</td>\n",
       "    </tr>\n",
       "  </tbody>\n",
       "</table>\n",
       "</div>"
      ],
      "text/plain": [
       "       default   fico_score\n",
       "count   1521.0  1521.000000\n",
       "mean       1.0   697.884287\n",
       "std        0.0    33.764233\n",
       "min        1.0   617.000000\n",
       "25%        1.0   672.000000\n",
       "50%        1.0   692.000000\n",
       "75%        1.0   717.000000\n",
       "max        1.0   822.000000"
      ]
     },
     "execution_count": 13,
     "metadata": {},
     "output_type": "execute_result"
    }
   ],
   "source": [
    "default_df.describe()"
   ]
  },
  {
   "cell_type": "markdown",
   "metadata": {
    "deletable": false,
    "editable": false,
    "nbgrader": {
     "checksum": "22e23dcaba7ae02c496e37c18c5c97c9",
     "grade": false,
     "grade_id": "cell-3b643cec0347ea2e",
     "locked": true,
     "schema_version": 1,
     "solution": false
    }
   },
   "source": [
    "###### Fill in the code to display a scatter plot of fico_score vs defaults. Set alpha =0.1 and s=200"
   ]
  },
  {
   "cell_type": "code",
   "execution_count": 15,
   "metadata": {
    "deletable": false,
    "nbgrader": {
     "checksum": "eed662bd5cf7d3a708ebbc818a1f9d7b",
     "grade": false,
     "grade_id": "cell-1e1c39ef8de4f330",
     "locked": false,
     "schema_version": 1,
     "solution": true
    }
   },
   "outputs": [
    {
     "data": {
      "text/plain": [
       "Text(0, 0.5, 'Defaults')"
      ]
     },
     "execution_count": 15,
     "metadata": {},
     "output_type": "execute_result"
    },
    {
     "data": {
      "image/png": "[encoded data removed]",
      "text/plain": [
       "<Figure size 432x288 with 1 Axes>"
      ]
     },
     "metadata": {
      "needs_background": "light"
     },
     "output_type": "display_data"
    }
   ],
   "source": [
    "# YOUR CODE HERE\n",
    "plt.scatter(df['fico_score'], df['default'],alpha =0.1, s=200)\n",
    "plt.title('fico_score vs. defaults')\n",
    "plt.xlabel('FICO Score')\n",
    "plt.ylabel('Defaults')"
   ]
  },
  {
   "cell_type": "code",
   "execution_count": null,
   "metadata": {
    "deletable": false,
    "editable": false,
    "nbgrader": {
     "checksum": "0a50fcc83a78b9311392f5b3bdb5477e",
     "grade": true,
     "grade_id": "cell-eee4ee2eee16db44",
     "locked": true,
     "points": 1,
     "schema_version": 1,
     "solution": false
    }
   },
   "outputs": [],
   "source": []
  },
  {
   "cell_type": "markdown",
   "metadata": {
    "deletable": false,
    "editable": false,
    "nbgrader": {
     "checksum": "9734759b1d094f24068a3ec60b5cf2c6",
     "grade": false,
     "grade_id": "cell-f2cdc453a67fae63",
     "locked": true,
     "schema_version": 1,
     "solution": false
    }
   },
   "source": [
    "###### Split the dataframe inot train and test sets called df_train and df_test"
   ]
  },
  {
   "cell_type": "code",
   "execution_count": 16,
   "metadata": {
    "deletable": false,
    "nbgrader": {
     "checksum": "150b65f67a52e742c26c9befa72ef428",
     "grade": false,
     "grade_id": "cell-2761bf301603f0e4",
     "locked": false,
     "schema_version": 1,
     "solution": true
    }
   },
   "outputs": [],
   "source": [
    "# Data split into 70% train and 30% test. \n",
    "# The dataframes should be called df_train and df_test\n",
    "# YOUR CODE HERE\n",
    "df_train, df_test = train_test_split(df, test_size=0.3)"
   ]
  },
  {
   "cell_type": "code",
   "execution_count": null,
   "metadata": {
    "deletable": false,
    "editable": false,
    "nbgrader": {
     "checksum": "c941581ffcd66b7bfff052d0e9a3ce3a",
     "grade": true,
     "grade_id": "cell-76a918cda38d43a9",
     "locked": true,
     "points": 1,
     "schema_version": 1,
     "solution": false
    }
   },
   "outputs": [],
   "source": []
  },
  {
   "cell_type": "markdown",
   "metadata": {
    "deletable": false,
    "editable": false,
    "nbgrader": {
     "checksum": "34a3f82531d634534f5c946374e3c0de",
     "grade": false,
     "grade_id": "cell-6bd027b5376aa272",
     "locked": true,
     "schema_version": 1,
     "solution": false
    }
   },
   "source": [
    "###### Examine the training set"
   ]
  },
  {
   "cell_type": "code",
   "execution_count": 17,
   "metadata": {
    "deletable": false,
    "editable": false,
    "nbgrader": {
     "checksum": "40c5eef0dd0953be43c340e3aa4568f5",
     "grade": false,
     "grade_id": "cell-f14b9e4fdc117e71",
     "locked": true,
     "schema_version": 1,
     "solution": false
    }
   },
   "outputs": [
    {
     "data": {
      "text/html": [
       "<div>\n",
       "<style scoped>\n",
       "    .dataframe tbody tr th:only-of-type {\n",
       "        vertical-align: middle;\n",
       "    }\n",
       "\n",
       "    .dataframe tbody tr th {\n",
       "        vertical-align: top;\n",
       "    }\n",
       "\n",
       "    .dataframe thead th {\n",
       "        text-align: right;\n",
       "    }\n",
       "</style>\n",
       "<table border=\"1\" class=\"dataframe\">\n",
       "  <thead>\n",
       "    <tr style=\"text-align: right;\">\n",
       "      <th></th>\n",
       "      <th>default</th>\n",
       "      <th>fico_score</th>\n",
       "    </tr>\n",
       "  </thead>\n",
       "  <tbody>\n",
       "    <tr>\n",
       "      <th>count</th>\n",
       "      <td>6661.000000</td>\n",
       "      <td>6661.000000</td>\n",
       "    </tr>\n",
       "    <tr>\n",
       "      <th>mean</th>\n",
       "      <td>0.156133</td>\n",
       "      <td>710.923585</td>\n",
       "    </tr>\n",
       "    <tr>\n",
       "      <th>std</th>\n",
       "      <td>0.363008</td>\n",
       "      <td>38.030694</td>\n",
       "    </tr>\n",
       "    <tr>\n",
       "      <th>min</th>\n",
       "      <td>0.000000</td>\n",
       "      <td>612.000000</td>\n",
       "    </tr>\n",
       "    <tr>\n",
       "      <th>25%</th>\n",
       "      <td>0.000000</td>\n",
       "      <td>682.000000</td>\n",
       "    </tr>\n",
       "    <tr>\n",
       "      <th>50%</th>\n",
       "      <td>0.000000</td>\n",
       "      <td>707.000000</td>\n",
       "    </tr>\n",
       "    <tr>\n",
       "      <th>75%</th>\n",
       "      <td>0.000000</td>\n",
       "      <td>737.000000</td>\n",
       "    </tr>\n",
       "    <tr>\n",
       "      <th>max</th>\n",
       "      <td>1.000000</td>\n",
       "      <td>827.000000</td>\n",
       "    </tr>\n",
       "  </tbody>\n",
       "</table>\n",
       "</div>"
      ],
      "text/plain": [
       "           default   fico_score\n",
       "count  6661.000000  6661.000000\n",
       "mean      0.156133   710.923585\n",
       "std       0.363008    38.030694\n",
       "min       0.000000   612.000000\n",
       "25%       0.000000   682.000000\n",
       "50%       0.000000   707.000000\n",
       "75%       0.000000   737.000000\n",
       "max       1.000000   827.000000"
      ]
     },
     "execution_count": 17,
     "metadata": {},
     "output_type": "execute_result"
    }
   ],
   "source": [
    "df_train.describe()"
   ]
  },
  {
   "cell_type": "markdown",
   "metadata": {
    "deletable": false,
    "editable": false,
    "nbgrader": {
     "checksum": "ac5ee192fdbbcf0d4c2f3801cd2f25a6",
     "grade": false,
     "grade_id": "cell-1db458fc17574613",
     "locked": true,
     "schema_version": 1,
     "solution": false
    }
   },
   "source": [
    "###### Create a formula and your modle based on training data"
   ]
  },
  {
   "cell_type": "code",
   "execution_count": 18,
   "metadata": {
    "deletable": false,
    "nbgrader": {
     "checksum": "e319d8d08a38536e3fb796fd2a063b66",
     "grade": false,
     "grade_id": "cell-f2ccbdbe46032e60",
     "locked": false,
     "schema_version": 1,
     "solution": true
    }
   },
   "outputs": [
    {
     "name": "stdout",
     "output_type": "stream",
     "text": [
      "Optimization terminated successfully.\n",
      "         Current function value: 0.422263\n",
      "         Iterations 6\n",
      "                           Logit Regression Results                           \n",
      "==============================================================================\n",
      "Dep. Variable:                default   No. Observations:                 6661\n",
      "Model:                          Logit   Df Residuals:                     6659\n",
      "Method:                           MLE   Df Model:                            1\n",
      "Date:                Sun, 15 Oct 2023   Pseudo R-squ.:                 0.02525\n",
      "Time:                        13:04:06   Log-Likelihood:                -2812.7\n",
      "converged:                       True   LL-Null:                       -2885.6\n",
      "Covariance Type:            nonrobust   LLR p-value:                 1.495e-33\n",
      "==============================================================================\n",
      "                 coef    std err          z      P>|z|      [0.025      0.975]\n",
      "------------------------------------------------------------------------------\n",
      "Intercept      6.3882      0.694      9.204      0.000       5.028       7.749\n",
      "fico_score    -0.0114      0.001    -11.564      0.000      -0.013      -0.010\n",
      "==============================================================================\n"
     ]
    }
   ],
   "source": [
    "# build formula,  target (depedent variable) ~ features (indepedent variables)\n",
    "# build model, fit the formula to the training data using a logistic algorithim (logit). \n",
    "# Set the output to \"est\"\n",
    "# YOUR CODE HERE\n",
    "formula=\"default ~ fico_score\"\n",
    "est = logit(formula=formula, data=df_train).fit()\n",
    "# print the results of the model (est).\n",
    "# Examine; Pseudo R-squared, p values, coefficients \n",
    "print(est.summary())"
   ]
  },
  {
   "cell_type": "markdown",
   "metadata": {
    "deletable": false,
    "editable": false,
    "nbgrader": {
     "checksum": "7a1b4c9abc39e7f611ba4e6ba1bdf3e3",
     "grade": false,
     "grade_id": "cell-6500963167fb33aa",
     "locked": true,
     "schema_version": 1,
     "solution": false
    }
   },
   "source": [
    "###### Use your model to make predictions based on the test set"
   ]
  },
  {
   "cell_type": "code",
   "execution_count": 19,
   "metadata": {
    "deletable": false,
    "nbgrader": {
     "checksum": "5648106cf2317a65b674af4b71aa5c31",
     "grade": false,
     "grade_id": "cell-17164d60fb4ac616",
     "locked": false,
     "schema_version": 1,
     "solution": true
    }
   },
   "outputs": [
    {
     "data": {
      "text/html": [
       "<div>\n",
       "<style scoped>\n",
       "    .dataframe tbody tr th:only-of-type {\n",
       "        vertical-align: middle;\n",
       "    }\n",
       "\n",
       "    .dataframe tbody tr th {\n",
       "        vertical-align: top;\n",
       "    }\n",
       "\n",
       "    .dataframe thead th {\n",
       "        text-align: right;\n",
       "    }\n",
       "</style>\n",
       "<table border=\"1\" class=\"dataframe\">\n",
       "  <thead>\n",
       "    <tr style=\"text-align: right;\">\n",
       "      <th></th>\n",
       "      <th>default</th>\n",
       "      <th>fico_score</th>\n",
       "      <th>predicted_probability</th>\n",
       "    </tr>\n",
       "  </thead>\n",
       "  <tbody>\n",
       "    <tr>\n",
       "      <th>5695</th>\n",
       "      <td>0</td>\n",
       "      <td>722</td>\n",
       "      <td>0.132767</td>\n",
       "    </tr>\n",
       "    <tr>\n",
       "      <th>519</th>\n",
       "      <td>0</td>\n",
       "      <td>687</td>\n",
       "      <td>0.186023</td>\n",
       "    </tr>\n",
       "    <tr>\n",
       "      <th>3693</th>\n",
       "      <td>1</td>\n",
       "      <td>682</td>\n",
       "      <td>0.194846</td>\n",
       "    </tr>\n",
       "    <tr>\n",
       "      <th>3371</th>\n",
       "      <td>0</td>\n",
       "      <td>717</td>\n",
       "      <td>0.139497</td>\n",
       "    </tr>\n",
       "    <tr>\n",
       "      <th>4929</th>\n",
       "      <td>0</td>\n",
       "      <td>727</td>\n",
       "      <td>0.126314</td>\n",
       "    </tr>\n",
       "    <tr>\n",
       "      <th>4815</th>\n",
       "      <td>1</td>\n",
       "      <td>707</td>\n",
       "      <td>0.153813</td>\n",
       "    </tr>\n",
       "  </tbody>\n",
       "</table>\n",
       "</div>"
      ],
      "text/plain": [
       "      default  fico_score  predicted_probability\n",
       "5695        0         722               0.132767\n",
       "519         0         687               0.186023\n",
       "3693        1         682               0.194846\n",
       "3371        0         717               0.139497\n",
       "4929        0         727               0.126314\n",
       "4815        1         707               0.153813"
      ]
     },
     "execution_count": 19,
     "metadata": {},
     "output_type": "execute_result"
    }
   ],
   "source": [
    "# Use your model to create a predicted probability of default from the df_test dataframe \n",
    "# Assign a new calumn \"predicted_probability\" to the predicted output\n",
    "# YOUR CODE HERE\n",
    "preds = est.predict(df_test)\n",
    "df_test['predicted_probability'] = preds\n",
    "df_test.head(6)\n"
   ]
  },
  {
   "cell_type": "code",
   "execution_count": null,
   "metadata": {
    "deletable": false,
    "editable": false,
    "nbgrader": {
     "checksum": "7bc9a3da4cbcdd43b301a448dd8052c4",
     "grade": true,
     "grade_id": "cell-3cddacad137abc9a",
     "locked": true,
     "points": 2,
     "schema_version": 1,
     "solution": false
    }
   },
   "outputs": [],
   "source": []
  },
  {
   "cell_type": "markdown",
   "metadata": {
    "deletable": false,
    "editable": false,
    "nbgrader": {
     "checksum": "23a440bbde3b0bb2d6649e17876ef4fe",
     "grade": false,
     "grade_id": "cell-8b9ce2774740b872",
     "locked": true,
     "schema_version": 1,
     "solution": false
    }
   },
   "source": [
    "###### Next, create a new column called \"will default\" that observes the predicted probability and flags a loan as a potential to default or not. Experiment with the predicted probability threshold to optimise the model. "
   ]
  },
  {
   "cell_type": "code",
   "execution_count": 20,
   "metadata": {
    "deletable": false,
    "nbgrader": {
     "checksum": "6383f005100c0edc451fc24098b1f133",
     "grade": false,
     "grade_id": "cell-169b609a460941ad",
     "locked": false,
     "schema_version": 1,
     "solution": true
    }
   },
   "outputs": [
    {
     "name": "stdout",
     "output_type": "stream",
     "text": [
      "      default  fico_score  predicted_probability  will_default\n",
      "5695        0         722               0.132767             0\n",
      "519         0         687               0.186023             0\n",
      "3693        1         682               0.194846             0\n",
      "3371        0         717               0.139497             0\n",
      "4929        0         727               0.126314             0\n",
      "...       ...         ...                    ...           ...\n",
      "1907        1         732               0.120132             0\n",
      "1024        0         732               0.120132             0\n",
      "9084        0         692               0.177512             0\n",
      "4594        0         692               0.177512             0\n",
      "9023        1         687               0.186023             0\n",
      "\n",
      "[2855 rows x 4 columns]\n"
     ]
    }
   ],
   "source": [
    "# Create a new column called \"will_default\". Play around with the predicted probability threshold. \n",
    "# A good starting threshold for a 1 flag is 25%\n",
    "#If yes assign will_default to 1, otherwise to 0\n",
    "# YOUR CODE HERE\n",
    "df_test['will_default'] = np.where(df_test['predicted_probability']>0.25, 1, 0)\n",
    "\n",
    "print(df_test)"
   ]
  },
  {
   "cell_type": "code",
   "execution_count": null,
   "metadata": {
    "deletable": false,
    "editable": false,
    "nbgrader": {
     "checksum": "6af919d614571e4d80bc7681a2eb700b",
     "grade": true,
     "grade_id": "cell-2eaff004f82e4f3b",
     "locked": true,
     "points": 1,
     "schema_version": 1,
     "solution": false
    }
   },
   "outputs": [],
   "source": []
  },
  {
   "cell_type": "markdown",
   "metadata": {
    "deletable": false,
    "editable": false,
    "nbgrader": {
     "checksum": "032deba50be1caf31270d4bf4ab2b133",
     "grade": false,
     "grade_id": "cell-7fd144a74512e8b1",
     "locked": true,
     "schema_version": 1,
     "solution": false
    }
   },
   "source": [
    "###### Create a confusion matrix so you can observe your model's performance on the test data. It should be examining predicted vs actual default values (will_default vs default). "
   ]
  },
  {
   "cell_type": "code",
   "execution_count": 35,
   "metadata": {
    "deletable": false,
    "nbgrader": {
     "checksum": "d59cdc3129c515e9c57d115b452ce11f",
     "grade": false,
     "grade_id": "cell-845f67a5e5829007",
     "locked": false,
     "schema_version": 1,
     "solution": true
    }
   },
   "outputs": [
    {
     "name": "stdout",
     "output_type": "stream",
     "text": [
      "[[2302   72]\n",
      " [ 447   34]]\n"
     ]
    }
   ],
   "source": [
    "# Create a confusion matrix displaying actual vs predicted values. \n",
    "# Assign the output to \"matrix\"\n",
    "# YOUR CODE HERE\n",
    "y_true = df_test['default']\n",
    "y_pred = df_test['will_default']\n",
    "matrix = confusion_matrix(y_true,y_pred,labels = None)\n",
    "print(matrix)"
   ]
  },
  {
   "cell_type": "code",
   "execution_count": null,
   "metadata": {
    "deletable": false,
    "editable": false,
    "nbgrader": {
     "checksum": "b7bccce22c8660ed47989ff637e4284d",
     "grade": true,
     "grade_id": "cell-8a563937d340dcdb",
     "locked": true,
     "points": 2,
     "schema_version": 1,
     "solution": false
    }
   },
   "outputs": [],
   "source": []
  },
  {
   "cell_type": "markdown",
   "metadata": {
    "deletable": false,
    "editable": false,
    "nbgrader": {
     "checksum": "1756b470bbc3218576db7aeec8596c99",
     "grade": false,
     "grade_id": "cell-2c91742fcb8b2606",
     "locked": true,
     "schema_version": 1,
     "solution": false
    }
   },
   "source": [
    "###### Execute the follwoing cells to view a heatmap of the confusion matrix and accuracy of your model. Use these to answer the follow-up questions for the assignment."
   ]
  },
  {
   "cell_type": "code",
   "execution_count": 30,
   "metadata": {
    "deletable": false,
    "editable": false,
    "nbgrader": {
     "checksum": "282d152762b23bde92d34929a947f420",
     "grade": false,
     "grade_id": "cell-dc4546b718fdd002",
     "locked": true,
     "schema_version": 1,
     "solution": false
    }
   },
   "outputs": [
    {
     "data": {
      "text/plain": [
       "<matplotlib.axes._subplots.AxesSubplot at 0x7fa26ad45f60>"
      ]
     },
     "execution_count": 30,
     "metadata": {},
     "output_type": "execute_result"
    },
    {
     "data": {
      "image/png": "[encoded data removed]",
      "text/plain": [
       "<Figure size 432x288 with 2 Axes>"
      ]
     },
     "metadata": {
      "needs_background": "light"
     },
     "output_type": "display_data"
    }
   ],
   "source": [
    "sns.heatmap(matrix/np.sum(matrix), annot=True, \n",
    "            fmt='.2%', cmap='Blues')"
   ]
  },
  {
   "cell_type": "code",
   "execution_count": null,
   "metadata": {
    "deletable": false,
    "editable": false,
    "nbgrader": {
     "checksum": "1b68a1f403803ce5826665795c240a14",
     "grade": false,
     "grade_id": "cell-5d9cfa846974e64b",
     "locked": true,
     "schema_version": 1,
     "solution": false
    }
   },
   "outputs": [],
   "source": [
    "labels = [\"True Neg\",\"False Pos\",\"False Neg\",\"True Pos\"]\n",
    "labels = np.asarray(labels).reshape(2,2)\n",
    "sns.heatmap(matrix, annot=labels, fmt=\"\", cmap='Blues')"
   ]
  },
  {
   "cell_type": "markdown",
   "metadata": {
    "deletable": false,
    "editable": false,
    "nbgrader": {
     "checksum": "276e4b487ba05125bb37c8157fe0b071",
     "grade": false,
     "grade_id": "cell-d65c592264dd34d0",
     "locked": true,
     "schema_version": 1,
     "solution": false
    }
   },
   "source": [
    "###### Finally, observe the accuracy of the model. "
   ]
  },
  {
   "cell_type": "code",
   "execution_count": 31,
   "metadata": {
    "deletable": false,
    "editable": false,
    "nbgrader": {
     "checksum": "acaa56e8234781001b18e704c4f3239d",
     "grade": false,
     "grade_id": "cell-bb57ca615f351565",
     "locked": true,
     "schema_version": 1,
     "solution": false
    }
   },
   "outputs": [
    {
     "name": "stdout",
     "output_type": "stream",
     "text": [
      "Accuracy:0.8182136602451839\n"
     ]
    }
   ],
   "source": [
    "\n",
    "print('Accuracy:'+str(accuracy_score(df_test['default'], df_test['will_default'])))"
   ]
  },
  {
   "cell_type": "code",
   "execution_count": null,
   "metadata": {},
   "outputs": [],
   "source": []
  }
 ],
 "metadata": {
  "kernelspec": {
   "display_name": "Python 3",
   "language": "python",
   "name": "python3"
  },
  "language_info": {
   "codemirror_mode": {
    "name": "ipython",
    "version": 3
   },
   "file_extension": ".py",
   "mimetype": "text/x-python",
   "name": "python",
   "nbconvert_exporter": "python",
   "pygments_lexer": "ipython3",
   "version": "3.6.9"
  }
 },
 "nbformat": 4,
 "nbformat_minor": 2
}
